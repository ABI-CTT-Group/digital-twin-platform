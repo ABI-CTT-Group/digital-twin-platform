{
 "cells": [
  {
   "cell_type": "markdown",
   "metadata": {},
   "source": [
    "# Tutorial 5: Uploading datasets to the DigitalTWINS platform using the digitaltwins-api\n",
    "\n",
    "## Introduction\n",
    "This tutorial shows how to upload SDS datasets to the 12 LABOURS DigitalTWINS Platform using its Python API.\n",
    "\n",
    "## Definitions\n",
    "- DOI - Digital Object Identifier\n",
    "- GDPR - General Data Protection Regulation\n",
    "\n",
    "## Learning outcomes\n",
    "In this tutorial, you will learn how to:\n",
    "- upload an SDS dataset to the 12 LABOURS DigitalTWINS platform.\n",
    "- find the dataset you uploaded on the data catalogue page of the platform's portal.\n",
    "- remove a dataset from the platform.\n",
    "\n",
    "## Uploading a dataset\n",
    "A data dataset (such as the one created in the previous tutorial), can be uploaded using the `digitaltwins` API's `Uploader` class as described below.\n",
    "\n",
    "**Please let one of the workshop organisers know before you upload a dataset.**\n",
    "\n",
    "Please see [Tutorial 1](https://github.com/ABI-CTT-Group/digitaltwins-api/blob/main/tutorials/tutorial_1_getting_started.md) for information on how to access the `config.ini` file for your instance of the platform."
   ]
  },
  {
   "cell_type": "code",
   "execution_count": null,
   "metadata": {},
   "outputs": [],
   "source": [
    "import pathlib\n",
    "# Change the path below to point to the location of your config.ini file as described in Tutorial 1.\n",
    "config_file = pathlib.Path(r\"X:\\DigitalTWINS\\resources\\latest\\configs\\configs.ini\")\n",
    "                                                      \n",
    "import digitaltwins as dts\n",
    "uploader = dts.Uploader(config_file)\n",
    "                           \n",
    "dataset_id = uploader.upload('path/to/dataset/')"
   ]
  },
  {
   "cell_type": "markdown",
   "metadata": {},
   "source": [
    "After uploading your dataset successfully to the DigitalTWINS platform, a dataset ID will be assigned to your dataset and returned by the `digitaltwins` API's `Uploader` class.\n",
    "\n",
    "Congratulations! You have now successfully uploaded your dataset to the 12 LABOURS DigitalTWINS platform.\n",
    "\n",
    "## Finding your uploaded dataset on the platform's portal\n",
    "You can find the dataset you just uploaded on your Instance of the 12 LABOURS DigitalTWINS platform's portal by following the instructions on in Tutorial 1.\n",
    "\n",
    "## Removing a dataset\n",
    "In the future, once a dataset is uploaded to the DigitalTWINS platform, a persistent DOI will be created that can be referenced in e.g. research publications. There are instances where a dataset may need to be modified (e.g. additional data is collected using the same protocol). In such cases the original version of the data cannot be removed otherwise the reference in published work will not be accessible. Instead, a new version of the dataset would need to be uploaded with its own independent and persistent DOI. This functionality along with modifications to datasets (e.g. to enable remove of subject data as described in Article 17 of the GDPR (right to be forgotten), will be implemented in future releases.\n",
    "\n",
    "In the meantime, the ability to delete datasets from the platform has been made temporariliy available. This can be achieved as follows."
   ]
  },
  {
   "cell_type": "code",
   "execution_count": null,
   "metadata": {},
   "outputs": [],
   "source": [
    "dataset_id = 'warning'\n",
    "deleter = dts.Deleter(config_file)\n",
    "deleter.delete(dataset_id)"
   ]
  },
  {
   "cell_type": "markdown",
   "metadata": {},
   "source": [
    "## Feedback\n",
    "Once you have completed this tutorial, please complete [this survey](https://docs.google.com/forms/d/e/1FAIpQLSe-EsVz6ahz2FXFy906AZh68i50jRYnt3hQe-loc-1DaFWoFQ/viewform?usp=sf_link), which will allow us to improve this and future tutorials.\n",
    "\n",
    "## Next steps\n",
    "Now that you have completed the tutorials, please start creating SDS dataset using your own data and upload them to the 12 LABOURS DigitalTWINS platform."
   ]
  }
 ],
 "metadata": {
  "kernelspec": {
   "display_name": "Python 3 (ipykernel)",
   "language": "python",
   "name": "python3"
  },
  "language_info": {
   "codemirror_mode": {
    "name": "ipython",
    "version": 3
   },
   "file_extension": ".py",
   "mimetype": "text/x-python",
   "name": "python",
   "nbconvert_exporter": "python",
   "pygments_lexer": "ipython3",
   "version": "3.9.7"
  }
 },
 "nbformat": 4,
 "nbformat_minor": 2
}