{
 "cells": [
  {
   "cell_type": "markdown",
   "metadata": {},
   "source": [
    "# Tutorial 4: Delete datasets via Digital Twin Platform API"
   ]
  },
  {
   "cell_type": "markdown",
   "metadata": {},
   "source": [
    "This tutorial shows how to delete datasets tha have been uploaded to the Digital Twin Platform via the Digital Twin Platform API."
   ]
  },
  {
   "cell_type": "code",
   "execution_count": null,
   "metadata": {},
   "outputs": [],
   "source": [
    "\n",
    "# Delete subject folder\n",
    "# dataset.delete_subject(\"./tmp/template/primary/subject-xyz\")\n",
    "# Delete sample folder\n",
    "# dataset.delete_samples([\"./tmp/template/primary/subject-1/func\"])"
   ]
  }
 ],
 "metadata": {
  "language_info": {
   "name": "python"
  },
  "orig_nbformat": 4
 },
 "nbformat": 4,
 "nbformat_minor": 2
}
