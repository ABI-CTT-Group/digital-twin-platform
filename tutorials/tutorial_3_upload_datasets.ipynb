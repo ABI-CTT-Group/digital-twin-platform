{
 "cells": [
  {
   "cell_type": "markdown",
   "metadata": {},
   "source": [
    "# Tutorial 3: Upload datasets to the Digital Twin Platform\n",
    "This tutorial shows how to upload the datasets you created in tutorial 2 to the Digital Twin Platform. As mentioned in tutorial 1, you need to specify path of the 'credentials.json' file which stores your GEN3 API key in the 'config.ini' file to connect to the 12 LABOURS Digital Twin platform and upload the datasets."
   ]
  },
  {
   "cell_type": "markdown",
   "metadata": {},
   "source": [
    "cd c:\\Users\\jxu759\\Documents\\digital-twin-platform-workshop\\digitaltwins-api\n",
    "set PYTHONPATH=%CD%"
   ]
  },
  {
   "cell_type": "code",
   "execution_count": 3,
   "metadata": {},
   "outputs": [],
   "source": [
    "import sys\n",
    "sys.path.append('../')\n",
    "\n",
    "from pathlib import Path\n",
    "from digitaltwins import Uploader"
   ]
  },
  {
   "cell_type": "code",
   "execution_count": 5,
   "metadata": {},
   "outputs": [
    {
     "ename": "NameError",
     "evalue": "name 'Uploader' is not defined",
     "output_type": "error",
     "traceback": [
      "\u001b[1;31m---------------------------------------------------------------------------\u001b[0m",
      "\u001b[1;31mNameError\u001b[0m                                 Traceback (most recent call last)",
      "\u001b[1;32mc:\\Users\\jxu759\\Documents\\digital-twin-platform-workshop\\digital-twin-platform\\tutorials\\tutorial_3_upload_datasets.ipynb Cell 3\u001b[0m line \u001b[0;36m2\n\u001b[0;32m      <a href='vscode-notebook-cell:/c%3A/Users/jxu759/Documents/digital-twin-platform-workshop/digital-twin-platform/tutorials/tutorial_3_upload_datasets.ipynb#W1sZmlsZQ%3D%3D?line=0'>1</a>\u001b[0m dataset_dir \u001b[39m=\u001b[39m Path(\u001b[39mr\u001b[39m\u001b[39m\"\u001b[39m\u001b[39mSDStemplate/\u001b[39m\u001b[39m\"\u001b[39m)\n\u001b[1;32m----> <a href='vscode-notebook-cell:/c%3A/Users/jxu759/Documents/digital-twin-platform-workshop/digital-twin-platform/tutorials/tutorial_3_upload_datasets.ipynb#W1sZmlsZQ%3D%3D?line=1'>2</a>\u001b[0m uploader \u001b[39m=\u001b[39m Uploader(Path(\u001b[39mr\u001b[39m\u001b[39m\"\u001b[39m\u001b[39m../configs/templates/config.ini\u001b[39m\u001b[39m\"\u001b[39m))\n\u001b[0;32m      <a href='vscode-notebook-cell:/c%3A/Users/jxu759/Documents/digital-twin-platform-workshop/digital-twin-platform/tutorials/tutorial_3_upload_datasets.ipynb#W1sZmlsZQ%3D%3D?line=2'>3</a>\u001b[0m uploader\u001b[39m.\u001b[39mexecute(dataset_dir\u001b[39m=\u001b[39mdataset_dir)\n\u001b[0;32m      <a href='vscode-notebook-cell:/c%3A/Users/jxu759/Documents/digital-twin-platform-workshop/digital-twin-platform/tutorials/tutorial_3_upload_datasets.ipynb#W1sZmlsZQ%3D%3D?line=3'>4</a>\u001b[0m \u001b[39mprint\u001b[39m(\u001b[39m\"\u001b[39m\u001b[39mdone\u001b[39m\u001b[39m\"\u001b[39m)\n",
      "\u001b[1;31mNameError\u001b[0m: name 'Uploader' is not defined"
     ]
    }
   ],
   "source": [
    "dataset_dir = Path(r\"SDStemplate/\")\n",
    "uploader = Uploader(Path(r\"../configs/templates/config.ini\"))\n",
    "uploader.execute(dataset_dir=dataset_dir)\n",
    "print(\"done\")"
   ]
  }
 ],
 "metadata": {
  "kernelspec": {
   "display_name": "venv",
   "language": "python",
   "name": "python3"
  },
  "language_info": {
   "codemirror_mode": {
    "name": "ipython",
    "version": 3
   },
   "file_extension": ".py",
   "mimetype": "text/x-python",
   "name": "python",
   "nbconvert_exporter": "python",
   "pygments_lexer": "ipython3",
   "version": "3.9.13"
  },
  "orig_nbformat": 4
 },
 "nbformat": 4,
 "nbformat_minor": 2
}
