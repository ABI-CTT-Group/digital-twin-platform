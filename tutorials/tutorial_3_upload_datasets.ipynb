{
 "cells": [
  {
   "cell_type": "markdown",
   "metadata": {},
   "source": [
    "# Tutorial 3: Upload datasets\n",
    "This tutorial shows how to upload the datasets you created in tutorial 2 to the digital twin platform. As mentioned in tutorial 1, you need to put the 'credentials.json' file which stores your GEN3 API key in the configs/template directory and specify its path in the 'config.ini' file to connect to the 12 LABOURS Digital Twin platform and upload the datasets."
   ]
  },
  {
   "cell_type": "code",
   "execution_count": 1,
   "metadata": {},
   "outputs": [
    {
     "ename": "ModuleNotFoundError",
     "evalue": "No module named 'gen3'",
     "output_type": "error",
     "traceback": [
      "\u001b[1;31m---------------------------------------------------------------------------\u001b[0m",
      "\u001b[1;31mModuleNotFoundError\u001b[0m                       Traceback (most recent call last)",
      "\u001b[1;32mc:\\Users\\jxu759\\Documents\\digital-twin-platform-workshop\\digitaltwins-api\\tutorials\\tutorial_3_upload_datasets.ipynb Cell 2\u001b[0m line \u001b[0;36m5\n\u001b[0;32m      <a href='vscode-notebook-cell:/c%3A/Users/jxu759/Documents/digital-twin-platform-workshop/digitaltwins-api/tutorials/tutorial_3_upload_datasets.ipynb#W1sZmlsZQ%3D%3D?line=1'>2</a>\u001b[0m sys\u001b[39m.\u001b[39mpath\u001b[39m.\u001b[39mappend(\u001b[39m'\u001b[39m\u001b[39m../\u001b[39m\u001b[39m'\u001b[39m)\n\u001b[0;32m      <a href='vscode-notebook-cell:/c%3A/Users/jxu759/Documents/digital-twin-platform-workshop/digitaltwins-api/tutorials/tutorial_3_upload_datasets.ipynb#W1sZmlsZQ%3D%3D?line=3'>4</a>\u001b[0m \u001b[39mfrom\u001b[39;00m \u001b[39mpathlib\u001b[39;00m \u001b[39mimport\u001b[39;00m Path\n\u001b[1;32m----> <a href='vscode-notebook-cell:/c%3A/Users/jxu759/Documents/digital-twin-platform-workshop/digitaltwins-api/tutorials/tutorial_3_upload_datasets.ipynb#W1sZmlsZQ%3D%3D?line=4'>5</a>\u001b[0m \u001b[39mfrom\u001b[39;00m \u001b[39mdtp\u001b[39;00m \u001b[39mimport\u001b[39;00m Uploader\n",
      "File \u001b[1;32mc:\\Users\\jxu759\\Documents\\digital-twin-platform-workshop\\digitaltwins-api\\tutorials\\..\\dtp\\__init__.py:1\u001b[0m\n\u001b[1;32m----> 1\u001b[0m \u001b[39mfrom\u001b[39;00m \u001b[39m.\u001b[39;00m\u001b[39mgen3\u001b[39;00m\u001b[39m.\u001b[39;00m\u001b[39mauth\u001b[39;00m \u001b[39mimport\u001b[39;00m Auth\n\u001b[0;32m      2\u001b[0m \u001b[39mfrom\u001b[39;00m \u001b[39m.\u001b[39;00m\u001b[39mgen3\u001b[39;00m\u001b[39m.\u001b[39;00m\u001b[39mmetadata_convertor\u001b[39;00m \u001b[39mimport\u001b[39;00m MetadataConvertor\n\u001b[0;32m      3\u001b[0m \u001b[39mfrom\u001b[39;00m \u001b[39m.\u001b[39;00m\u001b[39mgen3\u001b[39;00m\u001b[39m.\u001b[39;00m\u001b[39mmetadata_exporter\u001b[39;00m \u001b[39mimport\u001b[39;00m MetadataExporter\n",
      "File \u001b[1;32mc:\\Users\\jxu759\\Documents\\digital-twin-platform-workshop\\digitaltwins-api\\tutorials\\..\\dtp\\gen3\\auth.py:1\u001b[0m\n\u001b[1;32m----> 1\u001b[0m \u001b[39mfrom\u001b[39;00m \u001b[39mgen3\u001b[39;00m\u001b[39m.\u001b[39;00m\u001b[39mauth\u001b[39;00m \u001b[39mimport\u001b[39;00m Gen3Auth\n\u001b[0;32m      4\u001b[0m \u001b[39mclass\u001b[39;00m \u001b[39mAuth\u001b[39;00m(Gen3Auth):\n\u001b[0;32m      5\u001b[0m \u001b[39m    \u001b[39m\u001b[39m\"\"\"\u001b[39;00m\n\u001b[0;32m      6\u001b[0m \u001b[39m    Class for Gen3 Authentication inherited from the offical Gen3 API's Gen3 Auth Helper\u001b[39;00m\n\u001b[0;32m      7\u001b[0m \u001b[39m    https://gen3sdk-python.readthedocs.io/en/latest/auth.html\u001b[39;00m\n\u001b[0;32m      8\u001b[0m \u001b[39m    \"\"\"\u001b[39;00m\n",
      "\u001b[1;31mModuleNotFoundError\u001b[0m: No module named 'gen3'"
     ]
    }
   ],
   "source": [
    "import sys\n",
    "sys.path.append('../')\n",
    "\n",
    "from pathlib import Path\n",
    "from dtp import Uploader\n"
   ]
  },
  {
   "cell_type": "code",
   "execution_count": 5,
   "metadata": {},
   "outputs": [
    {
     "ename": "NameError",
     "evalue": "name 'Uploader' is not defined",
     "output_type": "error",
     "traceback": [
      "\u001b[1;31m---------------------------------------------------------------------------\u001b[0m",
      "\u001b[1;31mNameError\u001b[0m                                 Traceback (most recent call last)",
      "\u001b[1;32mc:\\Users\\jxu759\\Documents\\digital-twin-platform-workshop\\digital-twin-platform\\tutorials\\tutorial_3_upload_datasets.ipynb Cell 3\u001b[0m line \u001b[0;36m2\n\u001b[0;32m      <a href='vscode-notebook-cell:/c%3A/Users/jxu759/Documents/digital-twin-platform-workshop/digital-twin-platform/tutorials/tutorial_3_upload_datasets.ipynb#W1sZmlsZQ%3D%3D?line=0'>1</a>\u001b[0m dataset_dir \u001b[39m=\u001b[39m Path(\u001b[39mr\u001b[39m\u001b[39m\"\u001b[39m\u001b[39mSDStemplate/\u001b[39m\u001b[39m\"\u001b[39m)\n\u001b[1;32m----> <a href='vscode-notebook-cell:/c%3A/Users/jxu759/Documents/digital-twin-platform-workshop/digital-twin-platform/tutorials/tutorial_3_upload_datasets.ipynb#W1sZmlsZQ%3D%3D?line=1'>2</a>\u001b[0m uploader \u001b[39m=\u001b[39m Uploader(Path(\u001b[39mr\u001b[39m\u001b[39m\"\u001b[39m\u001b[39m../configs/templates/config.ini\u001b[39m\u001b[39m\"\u001b[39m))\n\u001b[0;32m      <a href='vscode-notebook-cell:/c%3A/Users/jxu759/Documents/digital-twin-platform-workshop/digital-twin-platform/tutorials/tutorial_3_upload_datasets.ipynb#W1sZmlsZQ%3D%3D?line=2'>3</a>\u001b[0m uploader\u001b[39m.\u001b[39mexecute(dataset_dir\u001b[39m=\u001b[39mdataset_dir)\n\u001b[0;32m      <a href='vscode-notebook-cell:/c%3A/Users/jxu759/Documents/digital-twin-platform-workshop/digital-twin-platform/tutorials/tutorial_3_upload_datasets.ipynb#W1sZmlsZQ%3D%3D?line=3'>4</a>\u001b[0m \u001b[39mprint\u001b[39m(\u001b[39m\"\u001b[39m\u001b[39mdone\u001b[39m\u001b[39m\"\u001b[39m)\n",
      "\u001b[1;31mNameError\u001b[0m: name 'Uploader' is not defined"
     ]
    }
   ],
   "source": [
    "dataset_dir = Path(r\"SDStemplate/\")\n",
    "uploader = Uploader(Path(r\"../configs/templates/config.ini\"))\n",
    "uploader.execute(dataset_dir=dataset_dir)\n",
    "print(\"done\")"
   ]
  }
 ],
 "metadata": {
  "kernelspec": {
   "display_name": "venv",
   "language": "python",
   "name": "python3"
  },
  "language_info": {
   "codemirror_mode": {
    "name": "ipython",
    "version": 3
   },
   "file_extension": ".py",
   "mimetype": "text/x-python",
   "name": "python",
   "nbconvert_exporter": "python",
   "pygments_lexer": "ipython3",
   "version": "3.9.13"
  },
  "orig_nbformat": 4
 },
 "nbformat": 4,
 "nbformat_minor": 2
}
