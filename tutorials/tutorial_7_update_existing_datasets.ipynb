{
 "cells": [
  {
   "cell_type": "markdown",
   "metadata": {},
   "source": [
    "# Tutorial 7: Update existing datasets in Digital Twin Platform\n",
    "This tutorial shows\n",
    "\n",
    "update/increase version number of the datasets and upload again\n",
    "\n"
   ]
  }
 ],
 "metadata": {
  "language_info": {
   "name": "python"
  },
  "orig_nbformat": 4
 },
 "nbformat": 4,
 "nbformat_minor": 2
}
