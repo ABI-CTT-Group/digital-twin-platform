{
 "cells": [
  {
   "cell_type": "markdown",
   "metadata": {},
   "source": [
    "# Tutorial 7: Update existing datasets in Digital Twin Platform\n",
    "In this tutorial, you will learn how to update an existing dataset in the Digital Twin Platform. To maintain version control, the version number of the datasets you update will be incremented. Subsequently, you can re-upload the datasets as demonstrated in Tutorial 3."
   ]
  }
 ],
 "metadata": {
  "language_info": {
   "name": "python"
  },
  "orig_nbformat": 4
 },
 "nbformat": 4,
 "nbformat_minor": 2
}
