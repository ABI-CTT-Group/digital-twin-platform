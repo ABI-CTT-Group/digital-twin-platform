{
 "cells": [
  {
   "cell_type": "markdown",
   "metadata": {},
   "source": [
    "# Tutorial 4: Creating SDS datasets using sparc-me\n",
    "\n",
    "## Introduction\n",
    "This tutorial shows how to create new datasets in the SPARC Data Structure (SDS) format using the [sparc-me python tool](https://github.com/SPARC-FAIR-Codeathon/sparc-me).\n",
    "\n",
    "## Definitions\n",
    "- samples SDS metadata file - See the following [presentation](https://docs.google.com/file/d/1zZ3-C17lPIgtRp6bnkSwvKacaTA66GVR/edit?usp=docslist_api&filetype=mspresentation) for more information.\n",
    "- subjects SDS metadata file - See the following [presentation](https://docs.google.com/file/d/1zZ3-C17lPIgtRp6bnkSwvKacaTA66GVR/edit?usp=docslist_api&filetype=mspresentation) for more information.\n",
    "\n",
    "## Learning outcomes\n",
    "In this tutorial, you will learn how to:\n",
    "- create an empty dataset from a SDS template.\n",
    "- add or modify metadata element values.\n",
    "- add or remove data from a dataset.\n",
    "\n",
    "## Creating a dataset using a template\n",
    "\n",
    "We will use `sparc-me`'s `Dataset` Python Class to create an empty dataset using a template and return it as a Python object.\n",
    "\n",
    "You can specify the path for where the generated dataset will be stored as follows."
   ]
  },
  {
   "cell_type": "code",
   "execution_count": 1,
   "metadata": {},
   "outputs": [],
   "source": [
    "import sparc_me as sm\n",
    "\n",
    "dataset = sm.Dataset()\n",
    "dataset.set_path('./sds_dataset')\n",
    "dataset.create_empty_dataset(version='2.0.0')"
   ]
  },
  {
   "cell_type": "markdown",
   "metadata": {},
   "source": [
    "Any changes to a dataset will automatically update the dataset.\n",
    "\n",
    "## Adding or modifying metadata\n",
    "Tutorial 3 described how we can use sparc-me to get the value of metadata elements used in the different metadata files of an SDS dataset.\n",
    "\n",
    "We will now show how to add metadata elements for the dataset description metadata file.\n",
    "\n",
    "As mentioned in Tutorial 3, information about a metadata element can be accessed through the SDS documentation or using sparc-me's schema methods.\n",
    "\n",
    "### Dataset Description\n",
    "We can create a `Metadata` Python object for the metadata file of interest using the `Dataset` object's `get_metadata` method."
   ]
  },
  {
   "cell_type": "code",
   "execution_count": 2,
   "metadata": {},
   "outputs": [],
   "source": [
    "dd = dataset.get_metadata(metadata_file='dataset_description')  # dd is short for dataset_description."
   ]
  },
  {
   "cell_type": "markdown",
   "metadata": {},
   "source": [
    "We can then easily add values for metadata elements using the metadata object's `add_values` Python method:\n",
    "\n",
    "```\n",
    "add_values(\n",
    "  element: str = '',\n",
    "  values: Any, \n",
    "  append: bool = True)\n",
    "```\n",
    "\n",
    "Note that by default, `add_values` will append to existing metadata element values, unless the optional `append` argument is set to `False`, in which case, any existing values are replaced."
   ]
  },
  {
   "cell_type": "code",
   "execution_count": 3,
   "metadata": {},
   "outputs": [
    {
     "name": "stderr",
     "output_type": "stream",
     "text": [
      "c:\\Users\\jxu759\\Documents\\digital-twin-platform-workshop\\digitaltwins-api\\venv\\lib\\site-packages\\pandas\\core\\dtypes\\cast.py:1641: DeprecationWarning:np.find_common_type is deprecated.  Please use `np.result_type` or `np.promote_types`.\n",
      "See https://numpy.org/devdocs/release/1.25.0-notes.html and the docs for more information.  (Deprecated NumPy 1.25)\n",
      "c:\\Users\\jxu759\\Documents\\digital-twin-platform-workshop\\digitaltwins-api\\venv\\lib\\site-packages\\pandas\\core\\dtypes\\cast.py:1641: DeprecationWarning:np.find_common_type is deprecated.  Please use `np.result_type` or `np.promote_types`.\n",
      "See https://numpy.org/devdocs/release/1.25.0-notes.html and the docs for more information.  (Deprecated NumPy 1.25)\n",
      "c:\\Users\\jxu759\\Documents\\digital-twin-platform-workshop\\digitaltwins-api\\venv\\lib\\site-packages\\pandas\\core\\dtypes\\cast.py:1641: DeprecationWarning:np.find_common_type is deprecated.  Please use `np.result_type` or `np.promote_types`.\n",
      "See https://numpy.org/devdocs/release/1.25.0-notes.html and the docs for more information.  (Deprecated NumPy 1.25)\n",
      "c:\\Users\\jxu759\\Documents\\digital-twin-platform-workshop\\digitaltwins-api\\venv\\lib\\site-packages\\pandas\\core\\dtypes\\cast.py:1641: DeprecationWarning:np.find_common_type is deprecated.  Please use `np.result_type` or `np.promote_types`.\n",
      "See https://numpy.org/devdocs/release/1.25.0-notes.html and the docs for more information.  (Deprecated NumPy 1.25)\n",
      "c:\\Users\\jxu759\\Documents\\digital-twin-platform-workshop\\digitaltwins-api\\venv\\lib\\site-packages\\pandas\\core\\dtypes\\cast.py:1641: DeprecationWarning:np.find_common_type is deprecated.  Please use `np.result_type` or `np.promote_types`.\n",
      "See https://numpy.org/devdocs/release/1.25.0-notes.html and the docs for more information.  (Deprecated NumPy 1.25)\n",
      "c:\\Users\\jxu759\\Documents\\digital-twin-platform-workshop\\digitaltwins-api\\venv\\lib\\site-packages\\pandas\\core\\dtypes\\cast.py:1641: DeprecationWarning:np.find_common_type is deprecated.  Please use `np.result_type` or `np.promote_types`.\n",
      "See https://numpy.org/devdocs/release/1.25.0-notes.html and the docs for more information.  (Deprecated NumPy 1.25)\n",
      "c:\\Users\\jxu759\\Documents\\digital-twin-platform-workshop\\digitaltwins-api\\venv\\lib\\site-packages\\pandas\\core\\dtypes\\cast.py:1641: DeprecationWarning:np.find_common_type is deprecated.  Please use `np.result_type` or `np.promote_types`.\n",
      "See https://numpy.org/devdocs/release/1.25.0-notes.html and the docs for more information.  (Deprecated NumPy 1.25)\n",
      "c:\\Users\\jxu759\\Documents\\digital-twin-platform-workshop\\digitaltwins-api\\venv\\lib\\site-packages\\pandas\\core\\dtypes\\cast.py:1641: DeprecationWarning:np.find_common_type is deprecated.  Please use `np.result_type` or `np.promote_types`.\n",
      "See https://numpy.org/devdocs/release/1.25.0-notes.html and the docs for more information.  (Deprecated NumPy 1.25)\n",
      "c:\\Users\\jxu759\\Documents\\digital-twin-platform-workshop\\digitaltwins-api\\venv\\lib\\site-packages\\pandas\\core\\dtypes\\cast.py:1641: DeprecationWarning:np.find_common_type is deprecated.  Please use `np.result_type` or `np.promote_types`.\n",
      "See https://numpy.org/devdocs/release/1.25.0-notes.html and the docs for more information.  (Deprecated NumPy 1.25)\n",
      "c:\\Users\\jxu759\\Documents\\digital-twin-platform-workshop\\digitaltwins-api\\venv\\lib\\site-packages\\pandas\\core\\dtypes\\cast.py:1641: DeprecationWarning:np.find_common_type is deprecated.  Please use `np.result_type` or `np.promote_types`.\n",
      "See https://numpy.org/devdocs/release/1.25.0-notes.html and the docs for more information.  (Deprecated NumPy 1.25)\n",
      "c:\\Users\\jxu759\\Documents\\digital-twin-platform-workshop\\digitaltwins-api\\venv\\lib\\site-packages\\pandas\\core\\dtypes\\cast.py:1641: DeprecationWarning:np.find_common_type is deprecated.  Please use `np.result_type` or `np.promote_types`.\n",
      "See https://numpy.org/devdocs/release/1.25.0-notes.html and the docs for more information.  (Deprecated NumPy 1.25)\n",
      "c:\\Users\\jxu759\\Documents\\digital-twin-platform-workshop\\digitaltwins-api\\venv\\lib\\site-packages\\pandas\\core\\dtypes\\cast.py:1641: DeprecationWarning:np.find_common_type is deprecated.  Please use `np.result_type` or `np.promote_types`.\n",
      "See https://numpy.org/devdocs/release/1.25.0-notes.html and the docs for more information.  (Deprecated NumPy 1.25)\n",
      "c:\\Users\\jxu759\\Documents\\digital-twin-platform-workshop\\digitaltwins-api\\venv\\lib\\site-packages\\pandas\\core\\dtypes\\cast.py:1641: DeprecationWarning:np.find_common_type is deprecated.  Please use `np.result_type` or `np.promote_types`.\n",
      "See https://numpy.org/devdocs/release/1.25.0-notes.html and the docs for more information.  (Deprecated NumPy 1.25)\n"
     ]
    }
   ],
   "source": [
    "dd.add_values(\n",
    "    element='Type', \n",
    "    values='Experimental')\n",
    "dd.add_values(\n",
    "    element='Title', \n",
    "    values='Duke University DCE-MRI of breast cancer patients')\n",
    "dd.add_values(\n",
    "    element='Subtitle',\n",
    "    values='Retrospective collection of MRI from 922 biopsy-confirmed invasive breast cancer patients.')\n",
    "dd.add_values(\n",
    "    element='Keywords', \n",
    "    values=['Breast cancer','MRI'])\n",
    "dd.add_values(\n",
    "    element='Study purpose',\n",
    "    values='Breast MRI is a medical image modality used to assess the extent of disease in breast cancer patients. Recent studies show that MRI has a potential in prognosis of patients’ short and long-term outcomes as well as predicting pathological and genomic features of the tumors. However, large, well annotated datasets are needed to make further progress in the field. We share such a dataset here.')\n",
    "dd.add_values(\n",
    "    element='Study data Collection',\n",
    "    values=\"\"\"This dataset is a single-institutional, retrospective collection of 922 biopsy-confirmed invasive breast cancer patients, over a decade, specifically pre-operative dynamic contrast enhanced (DCE)-MRI that were downloaded from PACS systems and de-identified for The Cancer Imaging Archive (TCIA) release. These include axial breast MRI images acquired by 1.5T or 3T scanners in the prone positions. The following MRI sequences are shared in DICOM format: a non-fat saturated T1-weighted sequence, a fat-saturated gradient echo T1-weighted pre-contrast sequence, and mostly three to four post-contrast sequences.\"\"\")\n",
    "dd.add_values(\n",
    "    element='Study primary conclusion', \n",
    "    values='Data collected for subsequent analysis.')\n",
    "dd.add_values(\n",
    "    element='Study organ system', \n",
    "    values='breast')\n",
    "dd.add_values(\n",
    "    element='Study approach', \n",
    "    values='Imaging')\n",
    "dd.add_values(\n",
    "    element='Study technique', \n",
    "    values='MRI')\n",
    "dd.add_values(\n",
    "    element='Contributorname', \n",
    "    values=['Saha, Ashirbani',\n",
    "            'Harowicz, Michael R',\n",
    "            'Grimm, Lars J',\n",
    "            'Kim, Connie E',\n",
    "            'Ghate, Sujata V',\n",
    "            'Walsh, Ruth',\n",
    "            'Mazurowski, Maciej A'])\n",
    "dd.add_values(\n",
    "    element='Contributor orcid',\n",
    "    values=['https://orcid.org/0000-0002-7650-1720',\n",
    "            'https://orcid.org/0000-0002-8002-5210',\n",
    "            'https://orcid.org/0000-0002-3865-3352',\n",
    "            'https://orcid.org/0000-0003-0730-0551',\n",
    "            'https://orcid.org/0000-0003-1889-982X',\n",
    "            'https://orcid.org/0000-0002-2164-2761',\n",
    "            'https://orcid.org/0000-0003-4202-8602'],)\n",
    "\n",
    "dd.add_values(\n",
    "    element='Identifier',\n",
    "    values='Not Defined')\n",
    "\n",
    "dd.add_values(\n",
    "    element='Identifier description',\n",
    "    values='Not Defined')\n",
    "\n",
    "dd.add_values(\n",
    "    element='Relation type',\n",
    "    values='Not Defined')\n",
    "\n",
    "dd.add_values(\n",
    "    element='Identifier type',\n",
    "    values='Not Defined')\n",
    "# dd.add_values(\n",
    "#     element='Number of subjects',\n",
    "#     values='')\n",
    "# dd.add_values(\n",
    "#     element='Number of samples',\n",
    "#     values='')\n",
    "\n",
    "# Note \n",
    "dd.add_values(\n",
    "    element='Contributor affiliation', \n",
    "    values=['Duke University'] * 7)\n",
    "dd.add_values(\n",
    "    element='Contributor role',\n",
    "    values=['Researcher',\n",
    "            'Researcher',\n",
    "            'Researcher',\n",
    "            'Researcher',\n",
    "            'Researcher',\n",
    "            'Researcher',\n",
    "            'Researcher'])"
   ]
  },
  {
   "cell_type": "markdown",
   "metadata": {},
   "source": [
    "As described in Tutorial 3, we can get the metadata element values we have just added as follows."
   ]
  },
  {
   "cell_type": "code",
   "execution_count": 4,
   "metadata": {},
   "outputs": [
    {
     "data": {
      "text/plain": [
       "Value      PrincipalInvestigator\n",
       "Value 2      CorrespondingAuthor\n",
       "Value 3               Researcher\n",
       "Value n               Researcher\n",
       "Value 1               Researcher\n",
       "Value 4               Researcher\n",
       "Value 5               Researcher\n",
       "Value 6               Researcher\n",
       "Value 7               Researcher\n",
       "Name: 20, dtype: object"
      ]
     },
     "execution_count": 4,
     "metadata": {},
     "output_type": "execute_result"
    }
   ],
   "source": [
    "dd.get_values(element='Contributor role')"
   ]
  },
  {
   "cell_type": "markdown",
   "metadata": {},
   "source": [
    "A specific metadata element value can be removed as follows. Note that if more than one match is found, all matches are removed."
   ]
  },
  {
   "cell_type": "code",
   "execution_count": 5,
   "metadata": {},
   "outputs": [],
   "source": [
    "dd.remove_values(\n",
    "    element='Contributor role',\n",
    "    values = 'Researcher'\n",
    ")"
   ]
  },
  {
   "cell_type": "markdown",
   "metadata": {},
   "source": [
    "All values for a metadata element can also be cleared as follows."
   ]
  },
  {
   "cell_type": "code",
   "execution_count": 6,
   "metadata": {},
   "outputs": [],
   "source": [
    "# dd.clear_values(element='Contributor role')"
   ]
  },
  {
   "cell_type": "markdown",
   "metadata": {},
   "source": [
    "## Adding or removing data\n",
    "Adding data to a SDS dataset using `sparc-me` involves specifying the location of all the files or folders that should be placed in the sample folder for a subject. The organisation of the data within the sample folder is left to the user creating the dataset.\n",
    "\n",
    "Future releases of sparc-me and the DigitalTWINS platform API will include the ability to:\n",
    "- add subjects and samples to an existing dataset;\n",
    "- remove subjects and sample; and\n",
    "- version control of datasets.\n",
    "Until then, **if at any stage, any new subjects or samples need to be added or removed, please discard the dataset being created and create a new one**.\n",
    "\n",
    "The following code snippet shows one example of how subjects and samples can be added to a dataset. Two breast MRI sequences for two subjects will be added to the dataset. In this case, each sample represents a different MRI sequence. "
   ]
  },
  {
   "cell_type": "code",
   "execution_count": 7,
   "metadata": {},
   "outputs": [],
   "source": [
    "subjects = []\n",
    "samples = []\n",
    "\n",
    "sample1 = sm.Sample()\n",
    "sample1.add_path(\"../resources/example_dataset/Breast_MRI_001/sequence1/\") # adding a folder\n",
    "samples.append(sample1)\n",
    "\n",
    "sample2 = sm.Sample()\n",
    "sample2.add_path(\"../resources/example_dataset/Breast_MRI_001/sequence2/1-001.dcm\") # adding a file\n",
    "sample2.add_path([\n",
    "    \"../resources/example_dataset/Breast_MRI_001/sequence2/1-002.dcm\",\n",
    "    \"../resources/example_dataset/Breast_MRI_001/sequence2/1-003.dcm\",\n",
    "    \"../resources/example_dataset/Breast_MRI_001/sequence2/1-004.dcm\"]) # adding a list of files\n",
    "samples.append(sample2)\n",
    "\n",
    "subject1 = sm.Subject()\n",
    "subject1.add_samples(samples)\n",
    "subjects.append(subject1)\n",
    "\n",
    "samples=[]\n",
    "sample1 = sm.Sample()\n",
    "sample1.add_path(\"../resources/example_dataset/Breast_MRI_002/sequence1/\")\n",
    "samples.append(sample1)\n",
    "\n",
    "sample2 = sm.Sample()\n",
    "sample2.add_path(\"../resources/example_dataset/Breast_MRI_002/sequence2/\")\n",
    "samples.append(sample2)\n",
    "\n",
    "subject2 = sm.Subject()\n",
    "subject2.add_samples(samples)\n",
    "subjects.append(subject2)"
   ]
  },
  {
   "cell_type": "markdown",
   "metadata": {},
   "source": [
    "One way the above code can be simplified is shown below."
   ]
  },
  {
   "cell_type": "code",
   "execution_count": 8,
   "metadata": {},
   "outputs": [],
   "source": [
    "# subjects = []\n",
    "# for subject_user_id in [1, 2]:\n",
    "#     samples = []\n",
    "#     for sample_user_id in [1, 2]:\n",
    "#         sample = sm.Sample()\n",
    "#         sample.add_path(\n",
    "#             \"../resources/example_dataset/Breast_MRI_00{0}/sequence{1}/\".format(\n",
    "#                 subject_user_id, sample_user_id))\n",
    "#         samples.append(sample)\n",
    "        \n",
    "#     subject = sm.Subject()\n",
    "#     subject.add_samples(samples)"
   ]
  },
  {
   "cell_type": "markdown",
   "metadata": {},
   "source": [
    "Once the path for the samples of each subject has been specified, they can be added to the dataset as shown below. This will copy the data from its user specified location, to the subject and sample folders within the primary data folder of the SDS dataset being created. Note that the samples and subjects will be renumbered sequentially, and may not correspond to the user_ids. This will also automatically update the manifest metadata file."
   ]
  },
  {
   "cell_type": "code",
   "execution_count": 9,
   "metadata": {},
   "outputs": [
    {
     "name": "stderr",
     "output_type": "stream",
     "text": [
      "c:\\Users\\jxu759\\Documents\\digital-twin-platform-workshop\\digitaltwins-api\\venv\\lib\\site-packages\\pandas\\core\\dtypes\\cast.py:1641: DeprecationWarning:np.find_common_type is deprecated.  Please use `np.result_type` or `np.promote_types`.\n",
      "See https://numpy.org/devdocs/release/1.25.0-notes.html and the docs for more information.  (Deprecated NumPy 1.25)\n",
      "c:\\Users\\jxu759\\Documents\\digital-twin-platform-workshop\\digitaltwins-api\\venv\\lib\\site-packages\\pandas\\core\\dtypes\\cast.py:1641: DeprecationWarning:np.find_common_type is deprecated.  Please use `np.result_type` or `np.promote_types`.\n",
      "See https://numpy.org/devdocs/release/1.25.0-notes.html and the docs for more information.  (Deprecated NumPy 1.25)\n",
      "c:\\Users\\jxu759\\Documents\\digital-twin-platform-workshop\\digitaltwins-api\\venv\\lib\\site-packages\\pandas\\core\\dtypes\\cast.py:1641: DeprecationWarning:np.find_common_type is deprecated.  Please use `np.result_type` or `np.promote_types`.\n",
      "See https://numpy.org/devdocs/release/1.25.0-notes.html and the docs for more information.  (Deprecated NumPy 1.25)\n"
     ]
    }
   ],
   "source": [
    "dataset.add_subjects(subjects)"
   ]
  },
  {
   "cell_type": "markdown",
   "metadata": {},
   "source": [
    "Required and addtional metadata can then be included. The required metadata elements for each metadata file can be listed as follows."
   ]
  },
  {
   "cell_type": "code",
   "execution_count": 10,
   "metadata": {},
   "outputs": [
    {
     "name": "stdout",
     "output_type": "stream",
     "text": [
      "[{'subject id': {'description': 'Lab-based schema for identifying each '\n",
      "                                'subject, should match folder names.',\n",
      "                 'example': 'sub-1',\n",
      "                 'required': 'Y',\n",
      "                 'type': 'string'}},\n",
      " {'subject experimental group': {'description': 'Experimental group subject is '\n",
      "                                                'assigned to in research '\n",
      "                                                'project.',\n",
      "                                 'example': 'Control',\n",
      "                                 'required': 'Y',\n",
      "                                 'type': 'string'}},\n",
      " {'age': {'description': 'Age of the subject (e.g., hours, days, weeks, years '\n",
      "                         'old) or if unknown fill in with “unknown”. ',\n",
      "          'example': '4 weeks',\n",
      "          'required': 'Y',\n",
      "          'type': 'string'}},\n",
      " {'sex': {'description': 'Sex of the subject, or if unknown fill in with '\n",
      "                         '“Unknown”.',\n",
      "          'example': 'Female',\n",
      "          'required': 'Y',\n",
      "          'type': 'string'}},\n",
      " {'species': {'description': 'Subject species.',\n",
      "              'example': 'Rattus norvegicus',\n",
      "              'required': 'Y',\n",
      "              'type': 'string'}},\n",
      " {'strain': {'description': 'Organism strain of the subject.',\n",
      "             'example': 'Sprague-Dawley',\n",
      "             'required': 'Y',\n",
      "             'type': 'string'}},\n",
      " {'RRID for strain': {'description': 'Research Resource Identifier '\n",
      "                                     'Identification (RRID) for the strain For '\n",
      "                                     'this field.',\n",
      "                      'example': 'RRID:RGD_10395233',\n",
      "                      'required': 'Y',\n",
      "                      'type': 'string'}},\n",
      " {'age category': {'description': 'Description of age category from derived '\n",
      "                                  'from UBERON life cycle stage.',\n",
      "                   'example': 'prime adult stage',\n",
      "                   'required': 'Y',\n",
      "                   'type': 'string'}},\n",
      " {'also in dataset': {'description': None,\n",
      "                      'example': None,\n",
      "                      'required': 'Y',\n",
      "                      'type': 'string'}},\n",
      " {'member of': {'description': None,\n",
      "                'example': None,\n",
      "                'required': 'Y',\n",
      "                'type': 'string'}}]\n",
      "[{'subject id': {'description': 'Lab-based schema for identifying each '\n",
      "                                'subject.',\n",
      "                 'example': 'sub-1',\n",
      "                 'required': 'Y',\n",
      "                 'type': 'string'}},\n",
      " {'sample id': {'description': 'Lab-based schema for identifying each sample, '\n",
      "                               'must be unique.',\n",
      "                'example': 'sam-2',\n",
      "                'required': 'Y',\n",
      "                'type': 'string'}},\n",
      " {'was Derived From': {'description': 'sample_id of the sample from which the '\n",
      "                                      'current sample was derived (e.g., '\n",
      "                                      'slice, tissue punch, biopsy, etc.).',\n",
      "                       'example': 'sam-1',\n",
      "                       'required': 'Y',\n",
      "                       'type': 'string'}},\n",
      " {'sample experimental group': {'description': 'Experimental group subject is '\n",
      "                                               'assigned to in research '\n",
      "                                               'project. If you have '\n",
      "                                               'experimental groups for '\n",
      "                                               'samples please add another '\n",
      "                                               'column.',\n",
      "                                'example': 'Control',\n",
      "                                'required': 'Y',\n",
      "                                'type': 'string'}},\n",
      " {'sample type': {'description': 'Physical type of the specimen from which the '\n",
      "                                 'data were extracted.',\n",
      "                  'example': 'tissue',\n",
      "                  'required': 'Y',\n",
      "                  'type': 'string'}},\n",
      " {'sample anatomical location': {'description': ' The organ, or subregion of '\n",
      "                                                'organ from which the data '\n",
      "                                                'were extracted.',\n",
      "                                 'example': 'dentate gyrus',\n",
      "                                 'required': 'Y',\n",
      "                                 'type': 'string'}},\n",
      " {'also in dataset': {'description': None,\n",
      "                      'example': None,\n",
      "                      'required': 'Y',\n",
      "                      'type': 'string'}},\n",
      " {'member of': {'description': None,\n",
      "                'example': None,\n",
      "                'required': 'Y',\n",
      "                'type': 'string'}}]\n"
     ]
    }
   ],
   "source": [
    "schema = sm.Schema()\n",
    "dataset_description_required_elements_for_subjects = schema.get_schema(\n",
    "    metadata_file='subjects', print_schema=False, required_only=True, name_only=False)\n",
    "\n",
    "dataset_description_required_elements_for_samples = schema.get_schema(\n",
    "    metadata_file='samples', print_schema=False, required_only=True, name_only=False)\n",
    "\n",
    "from pprint import pprint\n",
    "pprint(dataset_description_required_elements_for_subjects)\n",
    "pprint(dataset_description_required_elements_for_samples)"
   ]
  },
  {
   "cell_type": "code",
   "execution_count": 11,
   "metadata": {},
   "outputs": [
    {
     "name": "stdout",
     "output_type": "stream",
     "text": [
      "The required elements for subjects name_only:\n",
      "[\n",
      "    \"subject id\",\n",
      "    \"subject experimental group\",\n",
      "    \"age\",\n",
      "    \"sex\",\n",
      "    \"species\",\n",
      "    \"strain\",\n",
      "    \"RRID for strain\",\n",
      "    \"age category\",\n",
      "    \"also in dataset\",\n",
      "    \"member of\"\n",
      "]\n",
      "['subject id',\n",
      " 'subject experimental group',\n",
      " 'age',\n",
      " 'sex',\n",
      " 'species',\n",
      " 'strain',\n",
      " 'RRID for strain',\n",
      " 'age category',\n",
      " 'also in dataset',\n",
      " 'member of']\n"
     ]
    }
   ],
   "source": [
    "\n",
    "dataset_description_scheme = schema.get_schema(\n",
    "    metadata_file='subjects', print_schema=True)\n",
    "pprint(dataset_description_scheme)\n"
   ]
  },
  {
   "cell_type": "code",
   "execution_count": 12,
   "metadata": {},
   "outputs": [
    {
     "name": "stderr",
     "output_type": "stream",
     "text": [
      "c:\\Users\\jxu759\\Documents\\digital-twin-platform-workshop\\digitaltwins-api\\venv\\lib\\site-packages\\pandas\\core\\dtypes\\cast.py:1641: DeprecationWarning:np.find_common_type is deprecated.  Please use `np.result_type` or `np.promote_types`.\n",
      "See https://numpy.org/devdocs/release/1.25.0-notes.html and the docs for more information.  (Deprecated NumPy 1.25)\n",
      "c:\\Users\\jxu759\\Documents\\digital-twin-platform-workshop\\digitaltwins-api\\venv\\lib\\site-packages\\pandas\\core\\dtypes\\cast.py:1641: DeprecationWarning:np.find_common_type is deprecated.  Please use `np.result_type` or `np.promote_types`.\n",
      "See https://numpy.org/devdocs/release/1.25.0-notes.html and the docs for more information.  (Deprecated NumPy 1.25)\n",
      "c:\\Users\\jxu759\\Documents\\digital-twin-platform-workshop\\digitaltwins-api\\venv\\lib\\site-packages\\pandas\\core\\dtypes\\cast.py:1641: DeprecationWarning:np.find_common_type is deprecated.  Please use `np.result_type` or `np.promote_types`.\n",
      "See https://numpy.org/devdocs/release/1.25.0-notes.html and the docs for more information.  (Deprecated NumPy 1.25)\n",
      "c:\\Users\\jxu759\\Documents\\digital-twin-platform-workshop\\digitaltwins-api\\venv\\lib\\site-packages\\pandas\\core\\dtypes\\cast.py:1641: DeprecationWarning:np.find_common_type is deprecated.  Please use `np.result_type` or `np.promote_types`.\n",
      "See https://numpy.org/devdocs/release/1.25.0-notes.html and the docs for more information.  (Deprecated NumPy 1.25)\n",
      "c:\\Users\\jxu759\\Documents\\digital-twin-platform-workshop\\digitaltwins-api\\venv\\lib\\site-packages\\pandas\\core\\dtypes\\cast.py:1641: DeprecationWarning:np.find_common_type is deprecated.  Please use `np.result_type` or `np.promote_types`.\n",
      "See https://numpy.org/devdocs/release/1.25.0-notes.html and the docs for more information.  (Deprecated NumPy 1.25)\n",
      "c:\\Users\\jxu759\\Documents\\digital-twin-platform-workshop\\digitaltwins-api\\venv\\lib\\site-packages\\pandas\\core\\dtypes\\cast.py:1641: DeprecationWarning:np.find_common_type is deprecated.  Please use `np.result_type` or `np.promote_types`.\n",
      "See https://numpy.org/devdocs/release/1.25.0-notes.html and the docs for more information.  (Deprecated NumPy 1.25)\n",
      "c:\\Users\\jxu759\\Documents\\digital-twin-platform-workshop\\digitaltwins-api\\venv\\lib\\site-packages\\pandas\\core\\dtypes\\cast.py:1641: DeprecationWarning:np.find_common_type is deprecated.  Please use `np.result_type` or `np.promote_types`.\n",
      "See https://numpy.org/devdocs/release/1.25.0-notes.html and the docs for more information.  (Deprecated NumPy 1.25)\n",
      "c:\\Users\\jxu759\\Documents\\digital-twin-platform-workshop\\digitaltwins-api\\venv\\lib\\site-packages\\pandas\\core\\dtypes\\cast.py:1641: DeprecationWarning:np.find_common_type is deprecated.  Please use `np.result_type` or `np.promote_types`.\n",
      "See https://numpy.org/devdocs/release/1.25.0-notes.html and the docs for more information.  (Deprecated NumPy 1.25)\n",
      "c:\\Users\\jxu759\\Documents\\digital-twin-platform-workshop\\digitaltwins-api\\venv\\lib\\site-packages\\pandas\\core\\dtypes\\cast.py:1641: DeprecationWarning:np.find_common_type is deprecated.  Please use `np.result_type` or `np.promote_types`.\n",
      "See https://numpy.org/devdocs/release/1.25.0-notes.html and the docs for more information.  (Deprecated NumPy 1.25)\n",
      "c:\\Users\\jxu759\\Documents\\digital-twin-platform-workshop\\digitaltwins-api\\venv\\lib\\site-packages\\pandas\\core\\dtypes\\cast.py:1641: DeprecationWarning:np.find_common_type is deprecated.  Please use `np.result_type` or `np.promote_types`.\n",
      "See https://numpy.org/devdocs/release/1.25.0-notes.html and the docs for more information.  (Deprecated NumPy 1.25)\n",
      "c:\\Users\\jxu759\\Documents\\digital-twin-platform-workshop\\digitaltwins-api\\venv\\lib\\site-packages\\pandas\\core\\dtypes\\cast.py:1641: DeprecationWarning:np.find_common_type is deprecated.  Please use `np.result_type` or `np.promote_types`.\n",
      "See https://numpy.org/devdocs/release/1.25.0-notes.html and the docs for more information.  (Deprecated NumPy 1.25)\n",
      "c:\\Users\\jxu759\\Documents\\digital-twin-platform-workshop\\digitaltwins-api\\venv\\lib\\site-packages\\pandas\\core\\dtypes\\cast.py:1641: DeprecationWarning:np.find_common_type is deprecated.  Please use `np.result_type` or `np.promote_types`.\n",
      "See https://numpy.org/devdocs/release/1.25.0-notes.html and the docs for more information.  (Deprecated NumPy 1.25)\n",
      "c:\\Users\\jxu759\\Documents\\digital-twin-platform-workshop\\digitaltwins-api\\venv\\lib\\site-packages\\pandas\\core\\dtypes\\cast.py:1641: DeprecationWarning:np.find_common_type is deprecated.  Please use `np.result_type` or `np.promote_types`.\n",
      "See https://numpy.org/devdocs/release/1.25.0-notes.html and the docs for more information.  (Deprecated NumPy 1.25)\n",
      "c:\\Users\\jxu759\\Documents\\digital-twin-platform-workshop\\digitaltwins-api\\venv\\lib\\site-packages\\pandas\\core\\dtypes\\cast.py:1641: DeprecationWarning:np.find_common_type is deprecated.  Please use `np.result_type` or `np.promote_types`.\n",
      "See https://numpy.org/devdocs/release/1.25.0-notes.html and the docs for more information.  (Deprecated NumPy 1.25)\n",
      "c:\\Users\\jxu759\\Documents\\digital-twin-platform-workshop\\digitaltwins-api\\venv\\lib\\site-packages\\pandas\\core\\dtypes\\cast.py:1641: DeprecationWarning:np.find_common_type is deprecated.  Please use `np.result_type` or `np.promote_types`.\n",
      "See https://numpy.org/devdocs/release/1.25.0-notes.html and the docs for more information.  (Deprecated NumPy 1.25)\n"
     ]
    }
   ],
   "source": [
    "subject_sds_id = \"sub-1\"\n",
    "subject = dataset.get_subject(subject_sds_id)\n",
    "subject.set_value(\n",
    "    element='subject experimental group',\n",
    "    value='Control')\n",
    "\n",
    "sample_sds_id = \"sam-1\"\n",
    "sample = subject.get_sample(sample_sds_id)\n",
    "sample.set_value(\n",
    "    element='sample experimental group',\n",
    "    value='Experimental')\n",
    "\n",
    "sample_sds_id = \"sam-2\"\n",
    "sample = subject.get_sample(sample_sds_id)\n",
    "sample.set_value(\n",
    "    element='sample experimental group',\n",
    "    value='Experimental')\n",
    "\n",
    "subject_sds_id = \"sub-2\"\n",
    "subject = dataset.get_subject(subject_sds_id)\n",
    "subject.set_value(\n",
    "    element='subject experimental group',\n",
    "    value='Control')\n",
    "\n",
    "sample_sds_id = \"sam-1\"\n",
    "sample = subject.get_sample(sample_sds_id)\n",
    "sample.set_value(\n",
    "    element='sample experimental group',\n",
    "    value='Experimental')\n",
    "\n",
    "sample_sds_id = \"sam-2\"\n",
    "sample = subject.get_sample(sample_sds_id)\n",
    "sample.set_value(\n",
    "    element='sample experimental group',\n",
    "    value='Experimental')\n",
    "\n",
    "ages = ['30y', '20y']\n",
    "sex = ['Female'] * 2\n",
    "species = ['Human']* 2\n",
    "strain = ['Not Defined'] * 2\n",
    "RRID_for_strain = ['Not Defined'] * 2\n",
    "age_category = ['Prime Adult Stage'] * 2\n",
    "also_in_dataset = ['Not Defined'] * 2\n",
    "member_of = ['Not Defined'] * 2\n",
    "\n",
    "for idx, subject_sds_id in enumerate([\"sub-1\", \"sub-2\"]):\n",
    "    subject = dataset.get_subject(subject_sds_id)\n",
    "    subject.set_value(element='age', value=ages[idx])\n",
    "    subject.set_values({\n",
    "        \"subject id\": '',\n",
    "        'sex': sex[idx],\n",
    "        'species': species[idx],\n",
    "        'strain': strain[idx],\n",
    "        'RRID for strain': RRID_for_strain[idx],\n",
    "        'age category': age_category[idx],\n",
    "        'also in dataset': also_in_dataset[idx],\n",
    "        'member of': member_of[idx]})\n",
    "    \n",
    "    sample_anatomical_location = ['Breast'] * 2\n",
    "    also_in_dataset = ['Not Defined'] * 2\n",
    "    member_of = ['Not Defined'] * 2\n",
    "\n",
    "    for i, sample_sds_id in enumerate([\"sam-1\", \"sam-2\"]):\n",
    "        sample = subject.get_sample(sample_sds_id)\n",
    "        sample.set_values({\n",
    "            'was Derived From': 'Not Defined',\n",
    "            'sample type': 'DCE-MRI Contrast Image {0}'.format(sample_sds_id),\n",
    "            'sample anatomical location': sample_anatomical_location[i],\n",
    "            'also in dataset': also_in_dataset[i],\n",
    "            'member of': member_of[i]\n",
    "        })\n",
    "\n",
    "# subject_sds_id = \"sub-1\"\n",
    "# subject = dataset.get_subject(subject_sds_id)\n",
    "\n",
    "# for subject_sds_id in \n",
    "# sample_sds_id = \"sam-1\"\n",
    "# sample = subject.get_sample(sample_sds_id)\n",
    "# sample.set_value(\n",
    "#     element='sample experimental group',\n",
    "#     value='experimental')\n",
    "\n",
    "# sample_sds_id = \"sam-2\"\n",
    "# sample = subject.get_sample(sample_sds_id)\n",
    "# sample.set_value(\n",
    "#     element='sample experimental group',\n",
    "#     value='experimental')\n",
    "\n",
    "# sample_sds_ids = [\"sam-1\",\"sam-2\"]\n",
    "# was_derived_from = ['sam-1'] * 2\n",
    "# species = ['human']* 2\n",
    "# strain = ['NA'] * 2\n",
    "# RRID_for_strain = ['NA'] * 2\n",
    "# age_category = ['prime adult stage'] * 2\n",
    "# also_in_dataset = ['NA'] * 2\n",
    "# member_of = ['NA'] * 2\n",
    "\n",
    "# for idx, sample_sds_id in enumerate([\"sam-1\", \"sam-2\"]):\n",
    "#     sample = subject.get_sample(sample_sds_id)\n",
    "#     sample.set_values({\n",
    "#     'was Derived From': '',\n",
    "#     'sample type': 'DCE-MRI Contrast Image {0}'.format(sample_sds_id)),\n",
    "#     'sample anatomical location': 'breast',\n",
    "#     'also in dataset': 'NA',\n",
    "#     'member of': 'NA'\n",
    "# })"
   ]
  },
  {
   "cell_type": "markdown",
   "metadata": {},
   "source": [
    "## Adding or removing thumbnails\n",
    "\n",
    "Thumbnail images can be added to a data as follows. The manifest metadata file will be automatically updated when thumbnails are added.`thumbnail_0.jpg` will be set as the main thumbnail for the dataset on the data catalogue page of the DigitalTWINS platform's portal. Additional thumbnails can be sequentially numbered e.g. `thumbnail_1.jpg`. All thumbnails will be visible in the gallery view of a data catalogue in the portal. "
   ]
  },
  {
   "cell_type": "code",
   "execution_count": 13,
   "metadata": {},
   "outputs": [],
   "source": [
    "dataset.add_thumbnail(\"../resources/example_dataset/thumbnail_0.jpg\")\n",
    "dataset.add_thumbnail(\"../resources/example_dataset/thumbnail_1.jpg\")"
   ]
  },
  {
   "cell_type": "markdown",
   "metadata": {},
   "source": [
    "Thumbnail images can be removed by using the `remove_thumbnail` method e.g. `dataset.remove_thumbnail(\"../resources/example_dataset/thumbnail_1.jpg\")`."
   ]
  },
  {
   "cell_type": "markdown",
   "metadata": {},
   "source": [
    "## Checking a dataset\n",
    "Dataset checking (validation) can be perform as follows. This will allow the fields of the dataset to be checked before it is submitted to the portal."
   ]
  },
  {
   "cell_type": "code",
   "execution_count": 15,
   "metadata": {},
   "outputs": [
    {
     "name": "stdout",
     "output_type": "stream",
     "text": [
      "Target instance: {'Metadata Version': '2.0.0', 'Type': 'experimental', 'Title': 'Duke University DCE-MRI of breast cancer patients', 'Subtitle': 'Retrospective collection of MRI from 922 biopsy-confirmed invasive breast cancer patients.', 'Keywords': 'Breast cancer', 'Study purpose': 'Breast MRI is a medical image modality used to assess the extent of disease in breast cancer patients. Recent studies show that MRI has a potential in prognosis of patients’ short and long-term outcomes as well as predicting pathological and genomic features of the tumors. However, large, well annotated datasets are needed to make further progress in the field. We share such a dataset here.', 'Study data collection': 'This dataset is a single-institutional, retrospective collection of 922 biopsy-confirmed invasive breast cancer patients, over a decade, specifically pre-operative dynamic contrast enhanced (DCE)-MRI that were downloaded from PACS systems and de-identified for The Cancer Imaging Archive (TCIA) release. These include axial breast MRI images acquired by 1.5T or 3T scanners in the prone positions. The following MRI sequences are shared in DICOM format: a non-fat saturated T1-weighted sequence, a fat-saturated gradient echo T1-weighted pre-contrast sequence, and mostly three to four post-contrast sequences.', 'Study primary conclusion': 'Data collected for subsequent analysis.', 'Study organ system': 'breast', 'Study approach': 'Imaging', 'Study technique': 'MRI', 'Contributor name': 'Saha, Ashirbani', 'Contributor ORCiD': 'https://orcid.org/0000-0002-7650-1720', 'Contributor affiliation': 'Duke University', 'Contributor role': 'PrincipalInvestigator', 'Identifier description': 'Protocol for dataset', 'Relation type': 'HasProtocol', 'Identifier': 'TEST', 'Identifier type': 'TEST', 'Number of subjects': 2, 'Number of samples': 4}\n",
      "Validation: Passed\n",
      "Target instance: {'filename': 'primary/sub-1/sam-1/1-001.dcm', 'timestamp': '2023-09-19 07:38:15', 'description': 'File of subject sub-1 sample sam-1', 'file type': '.dcm'}\n",
      "Validation: Passed\n",
      "Target instance: {'filename': 'primary/sub-1/sam-1/1-002.dcm', 'timestamp': '2023-09-19 07:38:15', 'description': 'File of subject sub-1 sample sam-1', 'file type': '.dcm'}\n",
      "Validation: Passed\n",
      "Target instance: {'filename': 'primary/sub-1/sam-1/1-003.dcm', 'timestamp': '2023-09-19 07:38:15', 'description': 'File of subject sub-1 sample sam-1', 'file type': '.dcm'}\n",
      "Validation: Passed\n",
      "Target instance: {'filename': 'primary/sub-1/sam-1/1-004.dcm', 'timestamp': '2023-09-19 07:38:15', 'description': 'File of subject sub-1 sample sam-1', 'file type': '.dcm'}\n",
      "Validation: Passed\n",
      "Target instance: {'filename': 'primary/sub-1/sam-2/1-001.dcm', 'timestamp': '2023-09-19 07:38:15', 'description': 'File of subject sub-1 sample sam-2', 'file type': '.dcm'}\n",
      "Validation: Passed\n",
      "Target instance: {'filename': 'primary/sub-1/sam-2/1-002.dcm', 'timestamp': '2023-09-19 07:38:15', 'description': 'File of subject sub-1 sample sam-2', 'file type': '.dcm'}\n",
      "Validation: Passed\n",
      "Target instance: {'filename': 'primary/sub-1/sam-2/1-003.dcm', 'timestamp': '2023-09-19 07:38:15', 'description': 'File of subject sub-1 sample sam-2', 'file type': '.dcm'}\n",
      "Validation: Passed\n",
      "Target instance: {'filename': 'primary/sub-1/sam-2/1-004.dcm', 'timestamp': '2023-09-19 07:38:15', 'description': 'File of subject sub-1 sample sam-2', 'file type': '.dcm'}\n",
      "Validation: Passed\n",
      "Target instance: {'filename': 'primary/sub-2/sam-1/1-01.dcm', 'timestamp': '2023-09-19 07:38:15', 'description': 'File of subject sub-2 sample sam-1', 'file type': '.dcm'}\n",
      "Validation: Passed\n",
      "Target instance: {'filename': 'primary/sub-2/sam-1/1-02.dcm', 'timestamp': '2023-09-19 07:38:15', 'description': 'File of subject sub-2 sample sam-1', 'file type': '.dcm'}\n",
      "Validation: Passed\n",
      "Target instance: {'filename': 'primary/sub-2/sam-1/1-03.dcm', 'timestamp': '2023-09-19 07:38:15', 'description': 'File of subject sub-2 sample sam-1', 'file type': '.dcm'}\n",
      "Validation: Passed\n",
      "Target instance: {'filename': 'primary/sub-2/sam-1/1-04.dcm', 'timestamp': '2023-09-19 07:38:15', 'description': 'File of subject sub-2 sample sam-1', 'file type': '.dcm'}\n",
      "Validation: Passed\n",
      "Target instance: {'filename': 'primary/sub-2/sam-2/1-001.dcm', 'timestamp': '2023-09-19 07:38:15', 'description': 'File of subject sub-2 sample sam-2', 'file type': '.dcm'}\n",
      "Validation: Passed\n",
      "Target instance: {'filename': 'primary/sub-2/sam-2/1-002.dcm', 'timestamp': '2023-09-19 07:38:15', 'description': 'File of subject sub-2 sample sam-2', 'file type': '.dcm'}\n",
      "Validation: Passed\n",
      "Target instance: {'filename': 'primary/sub-2/sam-2/1-003.dcm', 'timestamp': '2023-09-19 07:38:15', 'description': 'File of subject sub-2 sample sam-2', 'file type': '.dcm'}\n",
      "Validation: Passed\n",
      "Target instance: {'filename': 'primary/sub-2/sam-2/1-004.dcm', 'timestamp': '2023-09-19 07:38:15', 'description': 'File of subject sub-2 sample sam-2', 'file type': '.dcm'}\n",
      "Validation: Passed\n",
      "Target instance: {'filename': 'docs/thumbnail_0.jpg', 'timestamp': '2023-09-19 07:38:16', 'description': 'This is a thumbnail file', 'file type': 'jpg'}\n",
      "Validation: Passed\n",
      "Target instance: {'filename': 'docs/thumbnail_1.jpg', 'timestamp': '2023-09-19 07:38:16', 'description': 'This is a thumbnail file', 'file type': 'jpg'}\n",
      "Validation: Passed\n",
      "Target instance: {'sample id': 'sam-1', 'subject id': 'sub-1', 'was derived from': 'TEST', 'sample experimental group': 'experimental', 'sample type': 'DCE-MRI Contrast Image sam-1', 'sample anatomical location': 'breast', 'also in dataset': 'TEST', 'member of': 'TEST'}\n",
      "'was Derived From' is a required property\n",
      "Validation: Failed\n",
      "Target instance: {'sample id': 'sam-2', 'subject id': 'sub-1', 'was derived from': 'TEST', 'sample experimental group': 'experimental', 'sample type': 'DCE-MRI Contrast Image sam-2', 'sample anatomical location': 'breast', 'also in dataset': 'TEST', 'member of': 'TEST'}\n",
      "'was Derived From' is a required property\n",
      "Validation: Failed\n",
      "Target instance: {'sample id': 'sam-1', 'subject id': 'sub-2', 'was derived from': 'TEST', 'sample experimental group': 'experimental', 'sample type': 'DCE-MRI Contrast Image sam-1', 'sample anatomical location': 'breast', 'also in dataset': 'TEST', 'member of': 'TEST'}\n",
      "'was Derived From' is a required property\n",
      "Validation: Failed\n",
      "Target instance: {'sample id': 'sam-2', 'subject id': 'sub-2', 'was derived from': 'TEST', 'sample experimental group': 'experimental', 'sample type': 'DCE-MRI Contrast Image sam-2', 'sample anatomical location': 'breast', 'also in dataset': 'TEST', 'member of': 'TEST'}\n",
      "'was Derived From' is a required property\n",
      "Validation: Failed\n",
      "Target instance: {'subject id': 'sub-1', 'subject experimental group': 'control', 'age': '30y', 'sex': 'Female', 'species': 'human', 'strain': 'TEST', 'RRID for strain': 'TEST', 'age category': 'prime adult stage', 'also in dataset': 'TEST', 'member of': 'TEST'}\n",
      "Validation: Passed\n",
      "Target instance: {'subject id': 'sub-2', 'subject experimental group': 'control', 'age': '20y', 'sex': 'Female', 'species': 'human', 'strain': 'TEST', 'RRID for strain': 'TEST', 'age category': 'prime adult stage', 'also in dataset': 'TEST', 'member of': 'TEST'}\n",
      "Validation: Passed\n"
     ]
    }
   ],
   "source": [
    "validator = sm.Validator()\n",
    "validator.validate_dataset(dataset)"
   ]
  },
  {
   "cell_type": "markdown",
   "metadata": {},
   "source": [
    "Currently, only basic validation has been implemented. More validation features will be added in future releases of `sparc-me`.\n",
    "\n",
    "## Feedback\n",
    "Once you have completed this tutorial, please complete [this survey](https://docs.google.com/forms/d/e/1FAIpQLSe-EsVz6ahz2FXFy906AZh68i50jRYnt3hQe-loc-1DaFWoFQ/viewform?usp=sf_link), which will allow us to improve this and future tutorials.\n",
    "\n",
    "## Next steps\n",
    "The [next tutorial](https://github.com/ABI-CTT-Group/digitaltwins-api/blob/main/tutorials/tutorial_5_uploading_datasets.ipynb) will show how to upload your dataset to your instance of the 12 LABOURS DigitalTWINS Platform using its Python API."
   ]
  }
 ],
 "metadata": {
  "kernelspec": {
   "display_name": "Python 3 (ipykernel)",
   "language": "python",
   "name": "python3"
  },
  "language_info": {
   "codemirror_mode": {
    "name": "ipython",
    "version": 3
   },
   "file_extension": ".py",
   "mimetype": "text/x-python",
   "name": "python",
   "nbconvert_exporter": "python",
   "pygments_lexer": "ipython3",
   "version": "3.9.13"
  },
  "widgets": {
   "application/vnd.jupyter.widget-state+json": {
    "state": {},
    "version_major": 2,
    "version_minor": 0
   }
  }
 },
 "nbformat": 4,
 "nbformat_minor": 2
}