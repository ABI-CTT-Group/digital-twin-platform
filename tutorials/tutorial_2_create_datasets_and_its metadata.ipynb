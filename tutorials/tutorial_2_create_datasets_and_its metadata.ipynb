{
 "cells": [
  {
   "cell_type": "markdown",
   "metadata": {},
   "source": [
    "# Tutorial 2: Create datasets and its metadata\n",
    "This tutorial shows how to create datasets and its metadata in SPARC Data Structure (SDS) format via SPARC-me API. In this tutorial, you will learn:\n",
    "* How to create a SDS template dataset or load an existing SDS dataset.\n",
    "* How to retrieve the metadata and its values from the dataset and save the dataset locally.\n",
    "* How to add or update metadata values.\n",
    "* How to add study data to the dataset."
   ]
  },
  {
   "cell_type": "markdown",
   "metadata": {},
   "source": [
    "## 1. Create an empty SDS dataset, or load an existing one if your dataset is based on SDS v2.0.0\n",
    "* Setup sparc-me and create an instance of the `Dataset` class, the `Schema` class, and the `Validator` class"
   ]
  },
  {
   "cell_type": "code",
   "execution_count": 46,
   "metadata": {},
   "outputs": [],
   "source": [
    "from sparc_me import Dataset, Schema, Validator\n",
    "\n",
    "dataset = Dataset()\n",
    "schema = Schema()\n",
    "validator = Validator()"
   ]
  },
  {
   "cell_type": "markdown",
   "metadata": {},
   "source": [
    "* Create an empty dataset from the SDS template\n",
    "\n",
    "   * Specify the path of where you want your dataset to be saved.\n",
    "   * Load the SDS template dataset.It is highly recommended to use SDS version 2.0.0 in this tutorial."
   ]
  },
  {
   "cell_type": "code",
   "execution_count": 47,
   "metadata": {},
   "outputs": [],
   "source": [
    "save_dir = \"SDStemplate/\"\n",
    "dataset.set_dataset_path(save_dir)"
   ]
  },
  {
   "cell_type": "code",
   "execution_count": 48,
   "metadata": {},
   "outputs": [],
   "source": [
    "dataset.load_from_template(version=\"2.0.0\")"
   ]
  },
  {
   "cell_type": "markdown",
   "metadata": {},
   "source": [
    "* Save the template dataset that you just loaded\n",
    "\n",
    "    Explore the SDS template dataset after it's saved locally. __Restart the kernel if you have problems saving the dataset.__"
   ]
  },
  {
   "cell_type": "code",
   "execution_count": 49,
   "metadata": {},
   "outputs": [],
   "source": [
    "dataset.save(save_dir=save_dir)"
   ]
  },
  {
   "cell_type": "markdown",
   "metadata": {},
   "source": [
    "* Load an existing SDS dataset (not recommended in this tutorial unless your dataset is based on SDS template version 2.0.0)"
   ]
  },
  {
   "cell_type": "code",
   "execution_count": 50,
   "metadata": {},
   "outputs": [],
   "source": [
    "# set_dataset_path is optional here. You can either set a new path or using the dataset's current path for loading the existing dataset\n",
    "# dataset.set_dataset_path(save_dir)\n",
    "# existing_dir = \"./your/dataset/path/here\"\n",
    "# dataset.load_dataset(dataset_path=existing_dir)"
   ]
  },
  {
   "cell_type": "markdown",
   "metadata": {},
   "source": [
    "## 2. Get the metadata and its associated values. Clear the values prior to updating.\n",
    "This tutorial uses the `dataset_description` metadata file as an example. For other metadata files, replace the category field with the name of the metadata file you want to use e.g., from `category=\"dataset_description\"` to `category=\"code_parameters\"`. \n",
    "\n",
    "* List all metadata files of the dataset such as dataset_description.xlsx and manifest.xlsx."
   ]
  },
  {
   "cell_type": "code",
   "execution_count": 51,
   "metadata": {},
   "outputs": [
    {
     "name": "stdout",
     "output_type": "stream",
     "text": [
      "metadata_files:\n",
      "code_description\n",
      "code_parameters\n",
      "dataset_description\n",
      "manifest\n",
      "performances\n",
      "resources\n",
      "samples\n",
      "subjects\n",
      "submission\n"
     ]
    }
   ],
   "source": [
    "categories = dataset.list_metadata_files(version=\"2.0.0\")"
   ]
  },
  {
   "cell_type": "markdown",
   "metadata": {},
   "source": [
    "* List the elements of a metadata file (dataset_description.xlsx for example)"
   ]
  },
  {
   "cell_type": "code",
   "execution_count": 52,
   "metadata": {},
   "outputs": [
    {
     "name": "stdout",
     "output_type": "stream",
     "text": [
      "Fields:\n",
      "Metadata Version\n",
      "Type\n",
      "Basic information\n",
      "Title\n",
      "Subtitle\n",
      "Keywords\n",
      "Funding\n",
      "Acknowledgments\n",
      "Study information\n",
      "Study purpose\n",
      "Study data collection\n",
      "Study primary conclusion\n",
      "Study organ system\n",
      "Study approach\n",
      "Study technique\n",
      "Study collection title\n",
      "Contributor information\n",
      "Contributor name\n",
      "Contributor ORCiD\n",
      "Contributor affiliation\n",
      "Contributor role\n",
      "Related protocol, paper, dataset, etc.\n",
      "Identifier description\n",
      "Relation type\n",
      "Identifier\n",
      "Identifier type\n",
      "Participant information\n",
      "Number of subjects\n",
      "Number of samples\n"
     ]
    }
   ],
   "source": [
    "elements = dataset.list_elements(metadata_file=\"dataset_description\")"
   ]
  },
  {
   "cell_type": "markdown",
   "metadata": {},
   "source": [
    "* (Optional) Get more information of a specific element"
   ]
  },
  {
   "cell_type": "code",
   "execution_count": null,
   "metadata": {},
   "outputs": [],
   "source": [
    "des_schema = schema.get_schema(\"dataset_description\")\n",
    "des_schema.get('Subtitle')"
   ]
  },
  {
   "cell_type": "markdown",
   "metadata": {},
   "source": [
    "* Create a `dataset_description` object for the metadata file by using the `get_metadata` function"
   ]
  },
  {
   "cell_type": "code",
   "execution_count": 54,
   "metadata": {},
   "outputs": [],
   "source": [
    "dataset_description = dataset.get_metadata(metadata_file=\"dataset_description\")"
   ]
  },
  {
   "cell_type": "markdown",
   "metadata": {},
   "source": [
    "* Get the metadata's associated values\n",
    "\n",
    "    The `get_values(field_name: str)` method allows to retrieve values from a specific row or column of the metadata file by providing the row name or column name."
   ]
  },
  {
   "cell_type": "code",
   "execution_count": null,
   "metadata": {},
   "outputs": [],
   "source": [
    "dataset_description.get_values(field_name='Contributor role')"
   ]
  },
  {
   "cell_type": "markdown",
   "metadata": {},
   "source": [
    "* Clear all default metadata values before you edit them if you created your datasets from the template\n",
    "    * Clear all metadata values in the dataset_description file\n",
    "    * Clear the entire row of metadata values, e.g., \n",
    "        `dataset_description.clear_values(field_name='Contributor role')`"
   ]
  },
  {
   "cell_type": "code",
   "execution_count": null,
   "metadata": {},
   "outputs": [],
   "source": [
    "dataset_description.clear_values()"
   ]
  },
  {
   "cell_type": "markdown",
   "metadata": {},
   "source": [
    "* Get the values again. They have now been deleted."
   ]
  },
  {
   "cell_type": "code",
   "execution_count": 57,
   "metadata": {},
   "outputs": [
    {
     "data": {
      "text/plain": [
       "Value    <NA>\n",
       "Name: 20, dtype: object"
      ]
     },
     "execution_count": 57,
     "metadata": {},
     "output_type": "execute_result"
    }
   ],
   "source": [
    "dataset_description.get_values(field_name='Contributor role')"
   ]
  },
  {
   "cell_type": "markdown",
   "metadata": {},
   "source": [
    "## 3. Add/update metadata values"
   ]
  },
  {
   "cell_type": "markdown",
   "metadata": {},
   "source": [
    "* This function allows you to add or update metadata values\n",
    "\n",
    "    `add_values(field_name: str = '', values: Any, append: bool = True)`\n",
    "\n",
    "    * `field_name` represents either the row name or the column name. It takes row name in the `dataset_description` and `code_description` metadata files, and takes column name in other metadata files.\n",
    "    * `values` allows single or multiple string values for metadata values.\n",
    "    * `append` takes a boolean value. The default value is `True`, which appends an element to the end of the list. If the `append` is set to `False`, the values will be overwritten/replaced with the new values you specify."
   ]
  },
  {
   "cell_type": "markdown",
   "metadata": {},
   "source": [
    "* The following code will add metadata values to the dataset_description file."
   ]
  },
  {
   "cell_type": "code",
   "execution_count": 58,
   "metadata": {},
   "outputs": [],
   "source": [
    "dataset_description.add_values(field_name='type', values=\"experimental\")\n",
    "dataset_description.add_values(field_name='Title', values=\"Dynamic contrast-enhanced magnetic resonance images of breast cancer patients with tumor locations (Duke-Breast-Cancer-MRI)\")\n",
    "dataset_description.add_values(field_name='subtitle',\n",
    "                                   values=\"\"\"Background Recent studies showed preliminary data on associations of MRI-based imaging phenotypes of breast tumours with breast cancer molecular, genomic, and related characteristics. In this study, we present a comprehensive analysis of this relationship.\n",
    "    Methods We analysed a set of 922 patients with invasive breast cancer and pre-operative MRI. The MRIs were analysed by a computer algorithm to extract 529 features of the tumour and the surrounding tissue. Machine-learning-based models based on the imaging features were trained using a portion of the data (461 patients) to predict the following molecular, genomic, and proliferation characteristics: tumour surrogate molecular subtype, oestrogen receptor, progesterone receptor and human epidermal growth factor status, as well as a tumour proliferation marker (Ki-67). Trained models were evaluated on the set of the remaining 461 patients.\n",
    "    Results Multivariate models were predictive of Luminal A subtype with AUC = 0.697 (95% CI: 0.647–0.746, p < .0001), triple negative breast cancer with AUC = 0.654 (95% CI: 0.589–0.727, p < .0001), ER status with AUC = 0.649 (95% CI: 0.591–0.705, p < .001), and PR status with AUC = 0.622 (95% CI: 0.569–0.674, p < .0001). Associations between individual features and subtypes we also found.\n",
    "    Conclusions There is a moderate association between tumour molecular biomarkers and algorithmically assessed imaging features.\"\"\")\n",
    "dataset_description.add_values(field_name='Keywords', values=[\"Breast cancer\",\"MRI\"])\n",
    "dataset_description.add_values(field_name=\"Study purpose\",\n",
    "                               values=\"\"\"Breast MRI is a common image modality to assess the extent of disease in breast cancer patients. Recent studies show that MRI has a potential in prognosis of patients’ short and long-term outcomes as well as predicting pathological and genomic features of the tumors. However, large, well annotated datasets are needed to make further progress in the field. We share such a dataset here.\"\"\")\n",
    "dataset_description.add_values(field_name='Study data Collection',\n",
    "                               values=\"\"\"In terms of design, the dataset is a single-institutional, retrospective collection of 922 biopsy-confirmed invasive breast cancer patients, over a decade, having the following data components:\n",
    "    Demographic, clinical, pathology, treatment, outcomes, and genomic data: Collected from a variety of sources including clinical notes, radiology report, and pathology reports and has served as a source for multiple published papers on radiogenomics, outcomes prediction, and other areas.\n",
    "    Pre-operative dynamic contrast enhanced (DCE)-MRI: Downloaded from PACS systems and de-identified for The Cancer Imaging Archive (TCIA) release. These include axial breast MRI images acquired by 1.5T or 3T scanners in the prone positions. Following MRI sequences are shared in DICOM format: a non-fat saturated T1-weighted sequence, a fat-saturated gradient echo T1-weighted pre-contrast sequence, and mostly three to four post-contrast sequences.\n",
    "    Locations of lesions in DCE-MRI: Annotations on the DCE-MRI images by radiologists.\n",
    "    Imaging features from DCE-MRI: A set of 529 computer-extracted imaging features by inhouse software. These features represent a variety of imaging characteristics including size, shape, texture, and enhancement of both the tumor and the surrounding tissue, which is combined of features commonly published in the literature, as well as the features developed in our lab.\"\"\")\n",
    "dataset_description.add_values(field_name=\"Study primary conclusion\", values=\"There is a moderate association between tumour molecular biomarkers and algorithmically assessed imaging features.\")\n",
    "dataset_description.add_values(field_name='Study organ system', values=\"breast\")\n",
    "dataset_description.add_values(field_name='Study approach', values=\"Machine-learning\")\n",
    "dataset_description.add_values(field_name='Study technique', values=\"\"\"We analysed a set of 922 patients with invasive breast cancer and pre-operative MRI. The MRIs were analysed by a computer algorithm to extract 529 features of the tumour and the surrounding tissue. Machine-learning-based models based on the imaging features were trained using a portion of the data (461 patients) to predict the following molecular, genomic, and proliferation characteristics: tumour surrogate molecular subtype, oestrogen receptor, progesterone receptor and human epidermal growth factor status, as well as a tumour proliferation marker (Ki-67). Trained models were evaluated on the set of the remaining 461 patients.\"\"\")\n",
    "dataset_description.add_values(field_name='Study collection title', values=\"Dynamic contrast-enhanced magnetic resonance images of breast cancer patients with tumor locations (Duke-Breast-Cancer-MRI)\")\n",
    "dataset_description.add_values(field_name='identifier', values=\"ID2350\")\n",
    "dataset_description.add_values(field_name='contributorname', values=[\"Saha, Ashirbani\",\"Harowicz, Michael R\",\"Grimm, Lars J\",\"Kim, Connie E\",\"Ghate, Sujata V\",\"Walsh, Ruth\",\"Mazurowski, Maciej A\"])\n",
    "dataset_description.add_values(\n",
    "    field_name='Contributor orcid',\n",
    "    values=[\"https://orcid.org/0000-0002-7650-1720\",\n",
    "            \"https://orcid.org/0000-0002-8002-5210\",\n",
    "            \"https://orcid.org/0000-0002-3865-3352\",\n",
    "            \"https://orcid.org/0000-0003-0730-0551\",\n",
    "            \"https://orcid.org/0000-0003-1889-982X\",\n",
    "            \"https://orcid.org/0000-0002-2164-2761\",\n",
    "            \"https://orcid.org/0000-0003-4202-8602\"],\n",
    "    append=False)\n",
    "dataset_description.add_values(field_name='Contributor affiliation', values=[\"Duke University\"] * 7)\n",
    "dataset_description.add_values(field_name=\"contributor role\",\n",
    "                               values=[\"Researcher\", \"Researcher\", \"Researcher\", \"Researcher\", \"Researcher\", \"Researcher\",\"Researcher\",\"tester\"])\n",
    "dataset_description.add_values(field_name='Identifier description', values=\"source\")\n",
    "dataset_description.add_values(field_name='Relation type', values=\"IsDescribedBy\")\n",
    "dataset_description.add_values(field_name='Identifier type', values=\"12L digital twin UUID\")"
   ]
  },
  {
   "cell_type": "markdown",
   "metadata": {},
   "source": [
    "* Display the values you just added given the row name\n",
    "\n"
   ]
  },
  {
   "cell_type": "code",
   "execution_count": 59,
   "metadata": {},
   "outputs": [
    {
     "data": {
      "text/plain": [
       "Value      Researcher\n",
       "Value 1    Researcher\n",
       "Value 2    Researcher\n",
       "Value 3    Researcher\n",
       "Value 4    Researcher\n",
       "Value 5    Researcher\n",
       "Value 6    Researcher\n",
       "Value 7        tester\n",
       "Name: 20, dtype: object"
      ]
     },
     "execution_count": 59,
     "metadata": {},
     "output_type": "execute_result"
    }
   ],
   "source": [
    "dataset_description.get_values(field_name=\"contributorrole\")"
   ]
  },
  {
   "cell_type": "markdown",
   "metadata": {},
   "source": [
    "* Remove values given the row or column name\n",
    "\n",
    "    The `remove_values(field_name: str, values: Any)` method can be used to remove values from a specific row or column of the metadata file. Two arguments are required for this method: field name i.e., the row name or column name of the values you want to remove, and the values themselves."
   ]
  },
  {
   "cell_type": "code",
   "execution_count": 60,
   "metadata": {},
   "outputs": [
    {
     "data": {
      "text/plain": [
       "Value      Researcher\n",
       "Value 1    Researcher\n",
       "Value 2    Researcher\n",
       "Value 3    Researcher\n",
       "Value 4    Researcher\n",
       "Value 5    Researcher\n",
       "Value 6    Researcher\n",
       "Value 7          <NA>\n",
       "Name: 20, dtype: object"
      ]
     },
     "execution_count": 60,
     "metadata": {},
     "output_type": "execute_result"
    }
   ],
   "source": [
    "dataset_description.remove_values(field_name=\"contributor role\", values=\"tester\")\n",
    "\n",
    "dataset_description.get_values(field_name=\"contributorrole\")"
   ]
  },
  {
   "cell_type": "markdown",
   "metadata": {},
   "source": [
    "## 4. Add your study data to dataset 'primary' folders\n",
    "\n",
    "In the research drive, you'll find a folder named 'example_dataset' which contains the example datasets for this section of the tutorial. Please move the 'example_dataset' folder into the `resource` folder.\n",
    "* Add data to the SDS dataset folder by two ways:\n",
    "    * Add data from subject(s) - add data from a single subject or multiple subjects and the associated metadata.\n",
    "    * Add sample(s) data -  add a single sample dat file or multiple sample data files to the dataset.\n",
    "* To comply with SDS framwork, the naming of subjects and samples folders must be in this format:  __sub-xx__ (for subjects), __sam-xx__ (for samples).\n",
    "* The metadata that will be added to __subjects.xlsx and samples.xlsx__ using the following codes are __constant across subjects or samples__.\n",
    "* After updating subject or sample data, the following metadata files will be __updated automatically: dataset_description.xlsx, manifest.txt, samples.xlsx, and subjects.xslx__\n",
    "* Adding data to the 'derivative' folder will be covered in the next workshop."
   ]
  },
  {
   "cell_type": "code",
   "execution_count": 61,
   "metadata": {},
   "outputs": [],
   "source": [
    "# Add data from multiple subjects\n",
    "dataset.add_subjects(source_paths=[\"../resources/example_dataset/Breast_MRI_001/patient1/\",\"../resources/example_dataset/Breast_MRI_003/patient3/\"], subjects=[\"sub-1\",\"sub-3\"],subject_metadata={\n",
    "    \"subject experimental group\": \"experimental\",\n",
    "    \"sex\": \"Female\",\n",
    "    \"species\": \"human\",\n",
    "    \"strain\": \"tissue\",\n",
    "    \"age category\": \"middle adulthood\"\n",
    "}, sample_metadata={\n",
    "    \"sample experimental group\": \"experimental\",\n",
    "    \"sample type\": \"tissue\",\n",
    "    \"sample anatomical location\": \"breast tissue\",\n",
    "})"
   ]
  },
  {
   "cell_type": "code",
   "execution_count": 62,
   "metadata": {},
   "outputs": [],
   "source": [
    "# Add multiple sample data to the dataset\n",
    "dataset.add_samples(source_paths=[\"../resources/example_dataset/Breast_MRI_002/patient2/sample_data_1/\",\"../resources/example_dataset/Breast_MRI_002/patient2/sample_data_2/\",\"../resources/example_dataset/Breast_MRI_002/patient2/sample_data_3/\"], subject=\"sub-2\", samples=[\"sam-1\",\"sam-2\",\"sam-3\"],\n",
    "                     data_type=\"primary\", sds_parent_dir=save_dir,subject_metadata={\n",
    "    \"subject experimental group\": \"experimental\",\n",
    "    \"age\": \"041y\",\n",
    "    \"sex\": \"Female\",\n",
    "    \"species\": \"human\",\n",
    "    \"strain\": \"tissue\",\n",
    "    \"age category\": \"middle adulthood\"\n",
    "}, sample_metadata={\n",
    "    \"sample experimental group\": \"experimental\",\n",
    "    \"sample type\": \"tissue\",\n",
    "    \"sample anatomical location\": \"breast tissue\",\n",
    "})"
   ]
  },
  {
   "cell_type": "markdown",
   "metadata": {},
   "source": [
    "* Add the necessary metadata values for both subjects and samples to ensure compliance with the FAIR data principles"
   ]
  },
  {
   "cell_type": "code",
   "execution_count": 63,
   "metadata": {},
   "outputs": [],
   "source": [
    "subject_metadata = dataset.get_metadata(\"subjects\")\n",
    "subject_metadata.add_values(field_name='age', values=[\"30\",\"35\"], append=False)\n",
    "subject_metadata.add_values(field_name=\"also in dataset\", values=[\"Null\"] * 3, append=False)\n",
    "subject_metadata.add_values(field_name=\"RRID for strain\", values=[\"RRID:RGD_10395233\", \"RRID:RGD_16986544\", \"RRID:RGD_65245738\"],\n",
    "                        append=False)\n",
    "subject_metadata.add_values(field_name=\"member of\", values=[\"Breast Cancer Society\"] * 3, append=False)\n",
    "subject_metadata.save()"
   ]
  },
  {
   "cell_type": "code",
   "execution_count": 64,
   "metadata": {},
   "outputs": [],
   "source": [
    "sample_metadata = dataset.get_metadata(\"samples\")\n",
    "sample_metadata.add_values(field_name=\"was derived from\", values=[\"sam-sample_data_1\",\"sam-sample_data_2\",\"sam-sample_data_3\",\n",
    "                                                                  \"sam-sample_data_4\",\"sam-1\",\"sam-2\",\"sam-3\"], append=False)\n",
    "sample_metadata.add_values(field_name=\"also in dataset\", values=[\"null\"] * 7, append=False)\n",
    "sample_metadata.add_values(field_name=\"member of\", values=[\"null\"] * 7, append=False)\n",
    "sample_metadata.save()"
   ]
  },
  {
   "cell_type": "markdown",
   "metadata": {},
   "source": [
    "* Add the thumbnail images to the dataset"
   ]
  },
  {
   "cell_type": "code",
   "execution_count": 65,
   "metadata": {},
   "outputs": [],
   "source": [
    "dataset.add_thumbnail(\"../resources/example_dataset/thumbnail_1.jpg\")"
   ]
  },
  {
   "cell_type": "markdown",
   "metadata": {},
   "source": [
    "* Save the updated datasets."
   ]
  },
  {
   "cell_type": "code",
   "execution_count": 66,
   "metadata": {},
   "outputs": [],
   "source": [
    "dataset.save()"
   ]
  },
  {
   "cell_type": "markdown",
   "metadata": {},
   "source": [
    "* Validate the metadata in the xx , xx, and xx that you have just updated. "
   ]
  },
  {
   "cell_type": "code",
   "execution_count": 67,
   "metadata": {},
   "outputs": [
    {
     "name": "stdout",
     "output_type": "stream",
     "text": [
      "Target instance: {'Metadata Version': '2.0.0', 'Type': 'experimental', 'Title': 'Dynamic contrast-enhanced magnetic resonance images of breast cancer patients with tumor locations (Duke-Breast-Cancer-MRI)', 'Subtitle': 'Background Recent studies showed preliminary data on associations of MRI-based imaging phenotypes of breast tumours with breast cancer molecular, genomic, and related characteristics. In this study, we present a comprehensive analysis of this relationship.\\n    Methods We analysed a set of 922 patients with invasive breast cancer and pre-operative MRI. The MRIs were analysed by a computer algorithm to extract 529 features of the tumour and the surrounding tissue. Machine-learning-based models based on the imaging features were trained using a portion of the data (461 patients) to predict the following molecular, genomic, and proliferation characteristics: tumour surrogate molecular subtype, oestrogen receptor, progesterone receptor and human epidermal growth factor status, as well as a tumour proliferation marker (Ki-67). Trained models were evaluated on the set of the remaining 461 patients.\\n    Results Multivariate models were predictive of Luminal A subtype with AUC\\u2009=\\u20090.697 (95% CI: 0.647–0.746, p\\u2009<\\u2009.0001), triple negative breast cancer with AUC\\u2009=\\u20090.654 (95% CI: 0.589–0.727, p\\u2009<\\u2009.0001), ER status with AUC\\u2009=\\u20090.649 (95% CI: 0.591–0.705, p\\u2009<\\u2009.001), and PR status with AUC\\u2009=\\u20090.622 (95% CI: 0.569–0.674, p\\u2009<\\u2009.0001). Associations between individual features and subtypes we also found.\\n    Conclusions There is a moderate association between tumour molecular biomarkers and algorithmically assessed imaging features.', 'Keywords': 'Breast cancer', 'Study purpose': 'Breast MRI is a common image modality to assess the extent of disease in breast cancer patients. Recent studies show that MRI has a potential in prognosis of patients’ short and long-term outcomes as well as predicting pathological and genomic features of the tumors. However, large, well annotated datasets are needed to make further progress in the field. We share such a dataset here.', 'Study data collection': 'In terms of design, the dataset is a single-institutional, retrospective collection of 922 biopsy-confirmed invasive breast cancer patients, over a decade, having the following data components:\\n    Demographic, clinical, pathology, treatment, outcomes, and genomic data: Collected from a variety of sources including clinical notes, radiology report, and pathology reports and has served as a source for multiple published papers on radiogenomics, outcomes prediction, and other areas.\\n    Pre-operative dynamic contrast enhanced (DCE)-MRI: Downloaded from PACS systems and de-identified for The Cancer Imaging Archive (TCIA) release. These include axial breast MRI images acquired by 1.5T or 3T scanners in the prone positions. Following MRI sequences are shared in DICOM format: a non-fat saturated T1-weighted sequence, a fat-saturated gradient echo T1-weighted pre-contrast sequence, and mostly three to four post-contrast sequences.\\n    Locations of lesions in DCE-MRI: Annotations on the DCE-MRI images by radiologists.\\n    Imaging features from DCE-MRI: A set of 529 computer-extracted imaging features by inhouse software. These features represent a variety of imaging characteristics including size, shape, texture, and enhancement of both the tumor and the surrounding tissue, which is combined of features commonly published in the literature, as well as the features developed in our lab.', 'Study primary conclusion': 'There is a moderate association between tumour molecular biomarkers and algorithmically assessed imaging features.', 'Study organ system': 'breast', 'Study approach': 'Machine-learning', 'Study technique': 'We analysed a set of 922 patients with invasive breast cancer and pre-operative MRI. The MRIs were analysed by a computer algorithm to extract 529 features of the tumour and the surrounding tissue. Machine-learning-based models based on the imaging features were trained using a portion of the data (461 patients) to predict the following molecular, genomic, and proliferation characteristics: tumour surrogate molecular subtype, oestrogen receptor, progesterone receptor and human epidermal growth factor status, as well as a tumour proliferation marker (Ki-67). Trained models were evaluated on the set of the remaining 461 patients.', 'Study collection title': 'Dynamic contrast-enhanced magnetic resonance images of breast cancer patients with tumor locations (Duke-Breast-Cancer-MRI)', 'Contributor name': 'Saha, Ashirbani', 'Contributor ORCiD': 'https://orcid.org/0000-0002-7650-1720', 'Contributor affiliation': 'Duke University', 'Contributor role': 'Researcher', 'Identifier description': 'source', 'Relation type': 'IsDescribedBy', 'Identifier': 'ID2350', 'Identifier type': '12L digital twin UUID', 'Number of subjects': 3, 'Number of samples': 8}\n",
      "Validation: Passed\n",
      "Target instance: {'filename': 'primary/sub-1/sam-sample_data_1/1-001.dcm', 'timestamp': '2023-09-14 06:05:11', 'description': 'File of subject sub-1 sample sam-sample_data_1', 'file type': 'dcm'}\n",
      "Validation: Passed\n",
      "Target instance: {'filename': 'primary/sub-1/sam-sample_data_1/1-002.dcm', 'timestamp': '2023-09-14 06:05:11', 'description': 'File of subject sub-1 sample sam-sample_data_1', 'file type': 'dcm'}\n",
      "Validation: Passed\n",
      "Target instance: {'filename': 'primary/sub-1/sam-sample_data_1/1-003.dcm', 'timestamp': '2023-09-14 06:05:11', 'description': 'File of subject sub-1 sample sam-sample_data_1', 'file type': 'dcm'}\n",
      "Validation: Passed\n",
      "Target instance: {'filename': 'primary/sub-1/sam-sample_data_1/1-004.dcm', 'timestamp': '2023-09-14 06:05:11', 'description': 'File of subject sub-1 sample sam-sample_data_1', 'file type': 'dcm'}\n",
      "Validation: Passed\n",
      "Target instance: {'filename': 'primary/sub-1/sam-sample_data_2/1-001.dcm', 'timestamp': '2023-09-14 06:05:11', 'description': 'File of subject sub-1 sample sam-sample_data_2', 'file type': 'dcm'}\n",
      "Validation: Passed\n",
      "Target instance: {'filename': 'primary/sub-1/sam-sample_data_2/1-002.dcm', 'timestamp': '2023-09-14 06:05:11', 'description': 'File of subject sub-1 sample sam-sample_data_2', 'file type': 'dcm'}\n",
      "Validation: Passed\n",
      "Target instance: {'filename': 'primary/sub-1/sam-sample_data_2/1-003.dcm', 'timestamp': '2023-09-14 06:05:11', 'description': 'File of subject sub-1 sample sam-sample_data_2', 'file type': 'dcm'}\n",
      "Validation: Passed\n",
      "Target instance: {'filename': 'primary/sub-1/sam-sample_data_2/1-004.dcm', 'timestamp': '2023-09-14 06:05:11', 'description': 'File of subject sub-1 sample sam-sample_data_2', 'file type': 'dcm'}\n",
      "Validation: Passed\n",
      "Target instance: {'filename': 'primary/sub-1/sam-sample_data_3/1-01.dcm', 'timestamp': '2023-09-14 06:05:11', 'description': 'File of subject sub-1 sample sam-sample_data_3', 'file type': 'dcm'}\n",
      "Validation: Passed\n",
      "Target instance: {'filename': 'primary/sub-1/sam-sample_data_3/1-02.dcm', 'timestamp': '2023-09-14 06:05:11', 'description': 'File of subject sub-1 sample sam-sample_data_3', 'file type': 'dcm'}\n",
      "Validation: Passed\n",
      "Target instance: {'filename': 'primary/sub-1/sam-sample_data_3/1-03.dcm', 'timestamp': '2023-09-14 06:05:11', 'description': 'File of subject sub-1 sample sam-sample_data_3', 'file type': 'dcm'}\n",
      "Validation: Passed\n",
      "Target instance: {'filename': 'primary/sub-1/sam-sample_data_3/1-04.dcm', 'timestamp': '2023-09-14 06:05:11', 'description': 'File of subject sub-1 sample sam-sample_data_3', 'file type': 'dcm'}\n",
      "Validation: Passed\n",
      "Target instance: {'filename': 'primary/sub-1/sam-sample_data_4/1-001.dcm', 'timestamp': '2023-09-14 06:05:11', 'description': 'File of subject sub-1 sample sam-sample_data_4', 'file type': 'dcm'}\n",
      "Validation: Passed\n",
      "Target instance: {'filename': 'primary/sub-1/sam-sample_data_4/1-002.dcm', 'timestamp': '2023-09-14 06:05:11', 'description': 'File of subject sub-1 sample sam-sample_data_4', 'file type': 'dcm'}\n",
      "Validation: Passed\n",
      "Target instance: {'filename': 'primary/sub-1/sam-sample_data_4/1-003.dcm', 'timestamp': '2023-09-14 06:05:11', 'description': 'File of subject sub-1 sample sam-sample_data_4', 'file type': 'dcm'}\n",
      "Validation: Passed\n",
      "Target instance: {'filename': 'primary/sub-1/sam-sample_data_4/1-004.dcm', 'timestamp': '2023-09-14 06:05:11', 'description': 'File of subject sub-1 sample sam-sample_data_4', 'file type': 'dcm'}\n",
      "Validation: Passed\n",
      "Target instance: {'filename': 'primary/sub-3/sam-sample_data_1/1-01.dcm', 'timestamp': '2023-09-14 06:05:11', 'description': 'File of subject sub-3 sample sam-sample_data_1', 'file type': 'dcm'}\n",
      "Validation: Passed\n",
      "Target instance: {'filename': 'primary/sub-3/sam-sample_data_1/1-02.dcm', 'timestamp': '2023-09-14 06:05:11', 'description': 'File of subject sub-3 sample sam-sample_data_1', 'file type': 'dcm'}\n",
      "Validation: Passed\n",
      "Target instance: {'filename': 'primary/sub-3/sam-sample_data_1/1-03.dcm', 'timestamp': '2023-09-14 06:05:12', 'description': 'File of subject sub-3 sample sam-sample_data_1', 'file type': 'dcm'}\n",
      "Validation: Passed\n",
      "Target instance: {'filename': 'primary/sub-3/sam-sample_data_1/1-04.dcm', 'timestamp': '2023-09-14 06:05:12', 'description': 'File of subject sub-3 sample sam-sample_data_1', 'file type': 'dcm'}\n",
      "Validation: Passed\n",
      "Target instance: {'filename': 'primary/sub-3/sam-sample_data_1/1-05.dcm', 'timestamp': '2023-09-14 06:05:12', 'description': 'File of subject sub-3 sample sam-sample_data_1', 'file type': 'dcm'}\n",
      "Validation: Passed\n",
      "Target instance: {'filename': 'primary/sub-2/sam-1/1-01.dcm', 'timestamp': '2023-09-14 06:05:12', 'description': 'File of subject sub-2 sample sam-1', 'file type': 'dcm'}\n",
      "Validation: Passed\n",
      "Target instance: {'filename': 'primary/sub-2/sam-1/1-02.dcm', 'timestamp': '2023-09-14 06:05:12', 'description': 'File of subject sub-2 sample sam-1', 'file type': 'dcm'}\n",
      "Validation: Passed\n",
      "Target instance: {'filename': 'primary/sub-2/sam-1/1-03.dcm', 'timestamp': '2023-09-14 06:05:12', 'description': 'File of subject sub-2 sample sam-1', 'file type': 'dcm'}\n",
      "Validation: Passed\n",
      "Target instance: {'filename': 'primary/sub-2/sam-1/1-04.dcm', 'timestamp': '2023-09-14 06:05:12', 'description': 'File of subject sub-2 sample sam-1', 'file type': 'dcm'}\n",
      "Validation: Passed\n",
      "Target instance: {'filename': 'primary/sub-2/sam-2/1-001.dcm', 'timestamp': '2023-09-14 06:05:12', 'description': 'File of subject sub-2 sample sam-2', 'file type': 'dcm'}\n",
      "Validation: Passed\n",
      "Target instance: {'filename': 'primary/sub-2/sam-2/1-002.dcm', 'timestamp': '2023-09-14 06:05:12', 'description': 'File of subject sub-2 sample sam-2', 'file type': 'dcm'}\n",
      "Validation: Passed\n",
      "Target instance: {'filename': 'primary/sub-2/sam-2/1-003.dcm', 'timestamp': '2023-09-14 06:05:12', 'description': 'File of subject sub-2 sample sam-2', 'file type': 'dcm'}\n",
      "Validation: Passed\n",
      "Target instance: {'filename': 'primary/sub-2/sam-2/1-004.dcm', 'timestamp': '2023-09-14 06:05:12', 'description': 'File of subject sub-2 sample sam-2', 'file type': 'dcm'}\n",
      "Validation: Passed\n",
      "Target instance: {'filename': 'primary/sub-2/sam-3/1-001.dcm', 'timestamp': '2023-09-14 06:05:12', 'description': 'File of subject sub-2 sample sam-3', 'file type': 'dcm'}\n",
      "Validation: Passed\n",
      "Target instance: {'filename': 'primary/sub-2/sam-3/1-002.dcm', 'timestamp': '2023-09-14 06:05:12', 'description': 'File of subject sub-2 sample sam-3', 'file type': 'dcm'}\n",
      "Validation: Passed\n",
      "Target instance: {'filename': 'primary/sub-2/sam-3/1-003.dcm', 'timestamp': '2023-09-14 06:05:12', 'description': 'File of subject sub-2 sample sam-3', 'file type': 'dcm'}\n",
      "Validation: Passed\n",
      "Target instance: {'filename': 'primary/sub-2/sam-3/1-004.dcm', 'timestamp': '2023-09-14 06:05:12', 'description': 'File of subject sub-2 sample sam-3', 'file type': 'dcm'}\n",
      "Validation: Passed\n",
      "Target instance: {'filename': 'docs/thumbnail_1.jpg', 'timestamp': '2023-09-14 06:05:12', 'description': 'This is a thumbnail file', 'file type': 'jpg'}\n",
      "Validation: Passed\n",
      "Target instance: {'sample id': 'sam-sample_data_1', 'subject id': 'sub-3', 'was derived from': 'sam-sample_data_1', 'sample experimental group': 'experimental', 'sample type': 'tissue', 'sample anatomical location': 'breast tissue'}\n",
      "'was Derived From' is a required property\n",
      "Validation: Failed\n",
      "Target instance: {'sample id': 'sam-sample_data_2', 'subject id': 'sub-1', 'was derived from': 'sam-sample_data_2', 'sample experimental group': 'experimental', 'sample type': 'tissue', 'sample anatomical location': 'breast tissue'}\n",
      "'was Derived From' is a required property\n",
      "Validation: Failed\n",
      "Target instance: {'sample id': 'sam-sample_data_3', 'subject id': 'sub-1', 'was derived from': 'sam-sample_data_3', 'sample experimental group': 'experimental', 'sample type': 'tissue', 'sample anatomical location': 'breast tissue'}\n",
      "'was Derived From' is a required property\n",
      "Validation: Failed\n",
      "Target instance: {'sample id': 'sam-sample_data_4', 'subject id': 'sub-1', 'was derived from': 'sam-sample_data_4', 'sample experimental group': 'experimental', 'sample type': 'tissue', 'sample anatomical location': 'breast tissue'}\n",
      "'was Derived From' is a required property\n",
      "Validation: Failed\n",
      "Target instance: {'sample id': 'sam-1', 'subject id': 'sub-2', 'was derived from': 'sam-1', 'sample experimental group': 'experimental', 'sample type': 'tissue', 'sample anatomical location': 'breast tissue'}\n",
      "'was Derived From' is a required property\n",
      "Validation: Failed\n",
      "Target instance: {'sample id': 'sam-2', 'subject id': 'sub-2', 'was derived from': 'sam-2', 'sample experimental group': 'experimental', 'sample type': 'tissue', 'sample anatomical location': 'breast tissue'}\n",
      "'was Derived From' is a required property\n",
      "Validation: Failed\n",
      "Target instance: {'sample id': 'sam-3', 'subject id': 'sub-2', 'was derived from': 'sam-3', 'sample experimental group': 'experimental', 'sample type': 'tissue', 'sample anatomical location': 'breast tissue'}\n",
      "'was Derived From' is a required property\n",
      "Validation: Failed\n",
      "Target instance: {'subject id': 'sub-1', 'subject experimental group': 'experimental', 'age': '30', 'sex': 'Female', 'species': 'human', 'strain': 'tissue', 'RRID for strain': 'RRID:RGD_10395233', 'age category': 'middle adulthood', 'also in dataset': 'Null', 'member of': 'Breast Cancer Society'}\n",
      "Validation: Passed\n",
      "Target instance: {'subject id': 'sub-3', 'subject experimental group': 'experimental', 'age': '35', 'sex': 'Female', 'species': 'human', 'strain': 'tissue', 'RRID for strain': 'RRID:RGD_16986544', 'age category': 'middle adulthood', 'also in dataset': 'Null', 'member of': 'Breast Cancer Society'}\n",
      "Validation: Passed\n",
      "Target instance: {'subject id': 'sub-2', 'subject experimental group': 'experimental', 'age': '041y', 'sex': 'Female', 'species': 'human', 'strain': 'tissue', 'RRID for strain': 'RRID:RGD_65245738', 'age category': 'middle adulthood', 'also in dataset': 'Null', 'member of': 'Breast Cancer Society'}\n",
      "Validation: Passed\n"
     ]
    }
   ],
   "source": [
    "validator.validate_dataset(dataset)"
   ]
  },
  {
   "cell_type": "markdown",
   "metadata": {},
   "source": [
    "### Tips:\n",
    "\n",
    "* If you have made mistakes moving the data files, there is a delete function that can delete the subject and the sample data.\n",
    "    \n",
    "    * Delete subject folder\n",
    "    `dataset.delete_subject(\"./SDStemplate/primary/sub-1\")`\n",
    "    * Delete sample folder\n",
    "    `dataset.delete_samples([\"./SDStemplate/primary/sub-2/sam-3\"])`"
   ]
  },
  {
   "cell_type": "markdown",
   "metadata": {},
   "source": [
    "* If you would like to remove a thumbnail image after it's added:\n",
    "    ```\n",
    "    dataset.add_thumbnail(\"../resources/example_dataset/thumbnail_0.jpg\")\n",
    "    dataset.delete_data(\"./SDStemplate/docs/thumbnail_0.jpg\")\n",
    "    ```\n",
    "* If you encounter any errors when saving the datasets, try the following:\n",
    "        \n",
    "    * Clear outputs and restart the kernel. Run the code again.\n",
    "    * Run the code in the Jupyter Notebook in browser directly instead of running in IDEs such as Pycharm."
   ]
  }
 ],
 "metadata": {
  "kernelspec": {
   "display_name": "Python 3 (ipykernel)",
   "language": "python",
   "name": "python3"
  },
  "language_info": {
   "codemirror_mode": {
    "name": "ipython",
    "version": 3
   },
   "file_extension": ".py",
   "mimetype": "text/x-python",
   "name": "python",
   "nbconvert_exporter": "python",
   "pygments_lexer": "ipython3",
   "version": "3.9.13"
  },
  "orig_nbformat": 4
 },
 "nbformat": 4,
 "nbformat_minor": 2
}
