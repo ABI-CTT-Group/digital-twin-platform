{
 "cells": [
  {
   "cell_type": "markdown",
   "metadata": {},
   "source": [
    "# Tutorial 2: Create datasets and its metadata\n",
    "This tutorial shows how to create datasets and its metadata in SPARC Data Structure (SDS) format via SPARC-me API. In this tutorial, you will learn:\n",
    "* How to create a SDS template dataset or load an existing SDS dataset.\n",
    "* How to retrieve the metadata and its values from the dataset and save the dataset locally.\n",
    "* How to add or update metadata values.\n",
    "* How to add raw data to the dataset."
   ]
  },
  {
   "cell_type": "markdown",
   "metadata": {},
   "source": [
    "## 1. Create an empty SDS dataset (recommended for this tutorial) or load an existing SDS dataset  if you have one\n",
    "* Setup sparc-me and create an instance of the `Dataset` class\n",
    "\n",
    "    Sparc-me is a python tool to explore, enhance, and expand SPARC datasets and their descriptions in accordance with FAIR principles."
   ]
  },
  {
   "cell_type": "markdown",
   "metadata": {},
   "source": [
    "`pip install sparc-me`"
   ]
  },
  {
   "cell_type": "code",
   "execution_count": 2,
   "metadata": {},
   "outputs": [],
   "source": [
    "from sparc_me import Dataset, Schema, Validator\n",
    "\n",
    "dataset = Dataset()\n",
    "schema = Schema()\n",
    "validator = Validator()"
   ]
  },
  {
   "cell_type": "markdown",
   "metadata": {},
   "source": [
    "* Create an empty dataset from the SDS template\n",
    "\n",
    "    In this tutorial, it is highly recommended to use SDS template version 2.0.0. Remember to include the path of where you want your dataset to be saved. "
   ]
  },
  {
   "cell_type": "code",
   "execution_count": 3,
   "metadata": {},
   "outputs": [
    {
     "data": {
      "text/plain": [
       "{'CHANGES': WindowsPath('C:/Users/jxu759/Documents/digital-twin-platform-workshop/digitaltwins-api/venv/Lib/site-packages/sparc_me/core/../resources/templates/version_2_0_0/DatasetTemplate/CHANGES'),\n",
       " 'code': WindowsPath('C:/Users/jxu759/Documents/digital-twin-platform-workshop/digitaltwins-api/venv/Lib/site-packages/sparc_me/core/../resources/templates/version_2_0_0/DatasetTemplate/code'),\n",
       " 'code_description': {'path': WindowsPath('C:/Users/jxu759/Documents/digital-twin-platform-workshop/digitaltwins-api/venv/Lib/site-packages/sparc_me/core/../resources/templates/version_2_0_0/DatasetTemplate/code_description.xlsx'),\n",
       "  'metadata':                                      Metadata element  \\\n",
       "  0                                           RRID Term   \n",
       "  1                                     RRID Identifier   \n",
       "  2                                    Ontological term   \n",
       "  3                              Ontological Identifier   \n",
       "  4                              Ten Simple Rules (TSR)   \n",
       "  5           TSR1: Define Context Clearly Rating (0-4)   \n",
       "  6              TSR1: Define Context Clearly Reference   \n",
       "  7             TSR2: Use Appropriate Data Rating (0-4)   \n",
       "  8                TSR2: Use Appropriate Data Reference   \n",
       "  9          TSR3: Evaluate Within Context Rating (0-4)   \n",
       "  10            TSR3: Evaluate Within Context Reference   \n",
       "  11     TSR4: List Limitations Explicitly Rating (0-4)   \n",
       "  12        TSR4: List Limitations Explicitly Reference   \n",
       "  13             TSR5: Use Version Control Rating (0-4)   \n",
       "  14                TSR5: Use Version Control Reference   \n",
       "  15             TSR6: Document Adequately Rating (0-4)   \n",
       "  16                TSR6: Document Adequately Reference   \n",
       "  17             TSR7: Disseminate Broadly Rating (0-4)   \n",
       "  18                TSR7: Disseminate Broadly Reference   \n",
       "  19         TSR8: Get Independent Reviews Rating (0-4)   \n",
       "  20            TSR8: Get Independent Reviews Reference   \n",
       "  21  TSR9: Test Competing Implementations Rating (0-4)   \n",
       "  22     TSR9: Test Competing Implementations Reference   \n",
       "  23          TSR10a: Conform to Standards Rating (0-4)   \n",
       "  24             TSR10a: Conform to Standards Reference   \n",
       "  25                         TSR10b: Relevant standards   \n",
       "  26                                        Annotations   \n",
       "  27                     Ann1: Code Verification Status   \n",
       "  28               Ann1: Reference to Code Verification   \n",
       "  29                       Ann2: Code Validation Status   \n",
       "  30                 Ann2: Reference to Code Validation   \n",
       "  31                         Ann3: Certification Status   \n",
       "  32                   Ann3: Reference to Certification   \n",
       "  33                 Ann4: Onboarded to o²S²PARC Status   \n",
       "  34  Ann4: Reference to onboarded MSoP submission o...   \n",
       "  35                   Ann5: Testing on o²S²PARC Status   \n",
       "  36                Ann5: Testing on o²S²PARC Reference   \n",
       "  37                                   Number of Inputs   \n",
       "  38                                  Number of Outputs   \n",
       "  39                           Representation in CellML   \n",
       "  \n",
       "                                            Description  \\\n",
       "  0                  Associated tools or resources used   \n",
       "  1   Associated tools or resources identifier (with...   \n",
       "  2        Associated ontological term (human-readable)   \n",
       "  3    Associated ontological identifier from SciCrunch   \n",
       "  4   The TSR is a communication tool for modelers t...   \n",
       "  5   Develop and document the subject, purpose and ...   \n",
       "  6                         Reference to context of use   \n",
       "  7   Employ relevant and traceable information in t...   \n",
       "  8   Reference to relevant and traceable informatio...   \n",
       "  9   Verification, validation, uncertainty quantifi...   \n",
       "  10  Reference to verification, validation, uncerta...   \n",
       "  11  Restrictions, constraints or qualifications fo...   \n",
       "  12  Reference to restrictions, constraints or qual...   \n",
       "  13  Implement a system to trace the time history o...   \n",
       "  14                Reference to version control system   \n",
       "  15  Maintain up-to-date informative records of all...   \n",
       "  16         Reference to documentation described above   \n",
       "  17  Publish all components of MSoP including simul...   \n",
       "  18                          Reference to publications   \n",
       "  19  Have the MSoP submission reviewed by nonpartis...   \n",
       "  20                   Reference to independent reviews   \n",
       "  21  Use contrasting MSoP execution strategies to c...   \n",
       "  22                Reference to implementations tested   \n",
       "  23  Adopt and promote generally applicable and dis...   \n",
       "  24              Reference to conformance to standards   \n",
       "  25                    Reference to relevant standards   \n",
       "  26                                                NaN   \n",
       "  27  Provide assurance that the MSoP submissions is...   \n",
       "  28             Link to the verification documentation   \n",
       "  29  Assess the degree to which a computer model an...   \n",
       "  30                            Reference to assessment   \n",
       "  31    The code has been certified externally (yes/no)   \n",
       "  32  Reference to the certification, if it has been...   \n",
       "  33  The MSoP submission has been integrated into t...   \n",
       "  34  The name of the onboarded service or template ...   \n",
       "  35  The MSoP submission includes unit and integrat...   \n",
       "  36  Reference to the tests run on the onboarded MS...   \n",
       "  37   Model/Simulation/Data Processing Inputs (if any)   \n",
       "  38  Model/Simulation/Data Processing Outputs (if any)   \n",
       "  39  Analogous CellML/SED-ML model representation, ...   \n",
       "  \n",
       "                                                Example Value  \n",
       "  0                                              ImageJ   NaN  \n",
       "  1                                     RRID:SCR_003070   NaN  \n",
       "  2                                               Heart   NaN  \n",
       "  3                                      UBERON:0000948   NaN  \n",
       "  4               Rating (0-4), References (plain text)   NaN  \n",
       "  5                                                   3     0  \n",
       "  6   https://journals.plos.org/plosone/doi?id=10.13...   NaN  \n",
       "  7                                                   2     0  \n",
       "  8   https://github.com/example_user/example_projec...   NaN  \n",
       "  9                                                   3     0  \n",
       "  10                       https://doi.org/10.0000/0000   NaN  \n",
       "  11                                                  0     0  \n",
       "  12                       https://doi.org/10.0000/0000   NaN  \n",
       "  13                                                  4     0  \n",
       "  14    https://github.com/example_user/example_project   NaN  \n",
       "  15                                                  4     0  \n",
       "  16  https://github.com/example_user/example_projec...   NaN  \n",
       "  17                                                  4     0  \n",
       "  18                       https://doi.org/10.0000/0000   NaN  \n",
       "  19                                                  2     0  \n",
       "  20  https://github.com/example_user/example_reposi...   NaN  \n",
       "  21                                                  0     0  \n",
       "  22                                                NaN   NaN  \n",
       "  23                                                  4     0  \n",
       "  24  https://models.physiomeproject.org/workspace/a...   NaN  \n",
       "  25                             https://www.cellml.org   NaN  \n",
       "  26                                                NaN   NaN  \n",
       "  27                                                yes    no  \n",
       "  28  https://github.com/example_user/example_reposi...   NaN  \n",
       "  29                                                yes    no  \n",
       "  30                       https://doi.org/10.0000/0000   NaN  \n",
       "  31                                                yes    no  \n",
       "  32        https://github.com/exampleuser/certifier.md   NaN  \n",
       "  33                                                yes    no  \n",
       "  34                         My Wonderful Model Service   NaN  \n",
       "  35                                                 no    no  \n",
       "  36                                                NaN   NaN  \n",
       "  37                                                 10    10  \n",
       "  38                                                  5    11  \n",
       "  39  https://models.physiomeproject.org/workspace/a...   NaN  },\n",
       " 'code_parameters': {'path': WindowsPath('C:/Users/jxu759/Documents/digital-twin-platform-workshop/digitaltwins-api/venv/Lib/site-packages/sparc_me/core/../resources/templates/version_2_0_0/DatasetTemplate/code_parameters.xlsx'),\n",
       "  'metadata':               Type                    Service Alias (User-given name)  \\\n",
       "  0  Input or Output  Name of the service containing this input, giv...   \n",
       "  \n",
       "                                  Service name  \\\n",
       "  0  Name of the service containing this input   \n",
       "  \n",
       "                                  Service version  \\\n",
       "  0  Version of the service containing this input   \n",
       "  \n",
       "                                      Name  \\\n",
       "  0  An input field to the MSoP submission   \n",
       "  \n",
       "                              Data Ontology Identifier  \\\n",
       "  0  Ontology identifier for the input field, if ap...   \n",
       "  \n",
       "                                         Data Type  \\\n",
       "  0  Data type for the input field (in plain text)   \n",
       "  \n",
       "                                           Data Units  \\\n",
       "  0  Units of data for the input field, if applicable   \n",
       "  \n",
       "                                    Data Default Value  \n",
       "  0  Default value for the input field, if applicab...  },\n",
       " 'dataset_description': {'path': WindowsPath('C:/Users/jxu759/Documents/digital-twin-platform-workshop/digitaltwins-api/venv/Lib/site-packages/sparc_me/core/../resources/templates/version_2_0_0/DatasetTemplate/dataset_description.xlsx'),\n",
       "  'metadata':                           Metadata element  \\\n",
       "  0                         Metadata Version   \n",
       "  1                                     Type   \n",
       "  2                        Basic information   \n",
       "  3                                    Title   \n",
       "  4                                 Subtitle   \n",
       "  5                                 Keywords   \n",
       "  6                                  Funding   \n",
       "  7                          Acknowledgments   \n",
       "  8                        Study information   \n",
       "  9                            Study purpose   \n",
       "  10                   Study data collection   \n",
       "  11                Study primary conclusion   \n",
       "  12                      Study organ system   \n",
       "  13                          Study approach   \n",
       "  14                         Study technique   \n",
       "  15                  Study collection title   \n",
       "  16                 Contributor information   \n",
       "  17                        Contributor name   \n",
       "  18                       Contributor ORCiD   \n",
       "  19                 Contributor affiliation   \n",
       "  20                        Contributor role   \n",
       "  21  Related protocol, paper, dataset, etc.   \n",
       "  22                  Identifier description   \n",
       "  23                           Relation type   \n",
       "  24                              Identifier   \n",
       "  25                         Identifier type   \n",
       "  26                 Participant information   \n",
       "  27                      Number of subjects   \n",
       "  28                       Number of samples   \n",
       "  \n",
       "                                            Description  \\\n",
       "  0                                               2.0.0   \n",
       "  1   The type of this dataset, specifically whether...   \n",
       "  2                                                 NaN   \n",
       "  3   Descriptive title for the data set. Equivalent...   \n",
       "  4   NOTE This field is not currently used when pub...   \n",
       "  5              A set of keywords to assist in search.   \n",
       "  6                                     Funding sources   \n",
       "  7     Acknowledgments beyond funding and contributors   \n",
       "  8                                                 NaN   \n",
       "  9   A description of the study purpose for the str...   \n",
       "  10  A description of the study data collection pro...   \n",
       "  11  A description of the primary conclusion drawn ...   \n",
       "  12  The major organ systems related to this study....   \n",
       "  13  The experimental approach or approaches taken ...   \n",
       "  14    The experimental techniques used in this study.   \n",
       "  15  Title of the larger collection of to which thi...   \n",
       "  16                                                NaN   \n",
       "  17  Name of any contributors to the dataset.  Thes...   \n",
       "  18  ORCiD ID. If you don't have an ORCiD, we sugge...   \n",
       "  19         Institutional affiliation for contributors   \n",
       "  20  Contributor role. At most one PrincipalInvesti...   \n",
       "  21                                                NaN   \n",
       "  22  A description of the referent of the related i...   \n",
       "  23  The relationship that this dataset has to the ...   \n",
       "  24  The identifier for something related to this d...   \n",
       "  25                        The type of the identifier.   \n",
       "  26                                                NaN   \n",
       "  27  Number of unique subjects in this dataset, sho...   \n",
       "  28  Number of unique samples in this dataset, shou...   \n",
       "  \n",
       "                                                Example                  Value  \\\n",
       "  0                                               2.0.0                  2.0.0   \n",
       "  1                                        experimental           experimental   \n",
       "  2                                                 NaN                    NaN   \n",
       "  3                                    My SPARC dataset                    NaN   \n",
       "  4   A really cool dataset that I collected to answ...                    NaN   \n",
       "  5      spinal cord, electrophysiology, RNA-seq, mouse                    NaN   \n",
       "  6                                         OT2OD025349                    NaN   \n",
       "  7                                 Thank you everyone!                    NaN   \n",
       "  8                                                 NaN                    NaN   \n",
       "  9   This study was conducted to demonstrate data w...                    NaN   \n",
       "  10  Using an earlier version of this template we m...                    NaN   \n",
       "  11  The primary conclusion of this study is that i...                    NaN   \n",
       "  12                                        spinal cord                    NaN   \n",
       "  13                                  electrophysiology                    NaN   \n",
       "  14                                        patch clamp                    NaN   \n",
       "  15                            My SPARC research study                    NaN   \n",
       "  16                                                NaN                    NaN   \n",
       "  17                                 Last, First Middle                    NaN   \n",
       "  18              https://orcid.org/0000-0002-5497-0243                    NaN   \n",
       "  19                          https://ror.org/0168r3w48                    NaN   \n",
       "  20                                      DataCollector  PrincipalInvestigator   \n",
       "  21                                                NaN                    NaN   \n",
       "  22         The protocol use to generate this dataset.   Protocol for dataset   \n",
       "  23                                        HasProtocol            HasProtocol   \n",
       "  24                    https://doi.org/10.13003/5jchdy                    NaN   \n",
       "  25                                                DOI                    NaN   \n",
       "  26                                                NaN                    NaN   \n",
       "  27                                                  1                    NaN   \n",
       "  28                                                  0                    NaN   \n",
       "  \n",
       "                  Value 2  Value 3  Value n  \n",
       "  0                   NaN      NaN      NaN  \n",
       "  1                   NaN      NaN      NaN  \n",
       "  2                   NaN      NaN      NaN  \n",
       "  3                   NaN      NaN      NaN  \n",
       "  4                   NaN      NaN      NaN  \n",
       "  5                   NaN      NaN      NaN  \n",
       "  6                   NaN      NaN      NaN  \n",
       "  7                   NaN      NaN      NaN  \n",
       "  8                   NaN      NaN      NaN  \n",
       "  9                   NaN      NaN      NaN  \n",
       "  10                  NaN      NaN      NaN  \n",
       "  11                  NaN      NaN      NaN  \n",
       "  12                  NaN      NaN      NaN  \n",
       "  13                  NaN      NaN      NaN  \n",
       "  14                  NaN      NaN      NaN  \n",
       "  15                  NaN      NaN      NaN  \n",
       "  16                  NaN      NaN      NaN  \n",
       "  17                  NaN      NaN      NaN  \n",
       "  18                  NaN      NaN      NaN  \n",
       "  19                  NaN      NaN      NaN  \n",
       "  20  CorrespondingAuthor      NaN      NaN  \n",
       "  21                  NaN      NaN      NaN  \n",
       "  22    Paper for dataset      NaN      NaN  \n",
       "  23        IsDescribedBy      NaN      NaN  \n",
       "  24                  NaN      NaN      NaN  \n",
       "  25                  NaN      NaN      NaN  \n",
       "  26                  NaN      NaN      NaN  \n",
       "  27                  NaN      NaN      NaN  \n",
       "  28                  NaN      NaN      NaN  },\n",
       " 'derivative': WindowsPath('C:/Users/jxu759/Documents/digital-twin-platform-workshop/digitaltwins-api/venv/Lib/site-packages/sparc_me/core/../resources/templates/version_2_0_0/DatasetTemplate/derivative'),\n",
       " 'docs': WindowsPath('C:/Users/jxu759/Documents/digital-twin-platform-workshop/digitaltwins-api/venv/Lib/site-packages/sparc_me/core/../resources/templates/version_2_0_0/DatasetTemplate/docs'),\n",
       " 'manifest': {'path': WindowsPath('C:/Users/jxu759/Documents/digital-twin-platform-workshop/digitaltwins-api/venv/Lib/site-packages/sparc_me/core/../resources/templates/version_2_0_0/DatasetTemplate/manifest.xlsx'),\n",
       "  'metadata': Empty DataFrame\n",
       "  Columns: [filename, timestamp, description, file type, Additional Metadata]\n",
       "  Index: []},\n",
       " 'performances': {'path': WindowsPath('C:/Users/jxu759/Documents/digital-twin-platform-workshop/digitaltwins-api/venv/Lib/site-packages/sparc_me/core/../resources/templates/version_2_0_0/DatasetTemplate/performances.xlsx'),\n",
       "  'metadata': Empty DataFrame\n",
       "  Columns: [performance id, protocol url or doi, date, start datetime, end datetime, Additional Metadata]\n",
       "  Index: []},\n",
       " 'primary': WindowsPath('C:/Users/jxu759/Documents/digital-twin-platform-workshop/digitaltwins-api/venv/Lib/site-packages/sparc_me/core/../resources/templates/version_2_0_0/DatasetTemplate/primary'),\n",
       " 'protocol': WindowsPath('C:/Users/jxu759/Documents/digital-twin-platform-workshop/digitaltwins-api/venv/Lib/site-packages/sparc_me/core/../resources/templates/version_2_0_0/DatasetTemplate/protocol'),\n",
       " 'README.md': WindowsPath('C:/Users/jxu759/Documents/digital-twin-platform-workshop/digitaltwins-api/venv/Lib/site-packages/sparc_me/core/../resources/templates/version_2_0_0/DatasetTemplate/README.md'),\n",
       " 'resources': {'path': WindowsPath('C:/Users/jxu759/Documents/digital-twin-platform-workshop/digitaltwins-api/venv/Lib/site-packages/sparc_me/core/../resources/templates/version_2_0_0/DatasetTemplate/resources.xlsx'),\n",
       "  'metadata': Empty DataFrame\n",
       "  Columns: [RRID, URL, Vendor, Version, Additional Metadata]\n",
       "  Index: []},\n",
       " 'samples': {'path': WindowsPath('C:/Users/jxu759/Documents/digital-twin-platform-workshop/digitaltwins-api/venv/Lib/site-packages/sparc_me/core/../resources/templates/version_2_0_0/DatasetTemplate/samples.xlsx'),\n",
       "  'metadata': Empty DataFrame\n",
       "  Columns: [sample id, subject id, was derived from, pool id, sample experimental group, sample type, sample anatomical location, also in dataset, member of, laboratory internal id, date of derivation, experimental log file path, reference atlas, pathology, laterality, cell type, plane of section, protocol title, protocol url or doi]\n",
       "  Index: []},\n",
       " 'source': WindowsPath('C:/Users/jxu759/Documents/digital-twin-platform-workshop/digitaltwins-api/venv/Lib/site-packages/sparc_me/core/../resources/templates/version_2_0_0/DatasetTemplate/source'),\n",
       " 'subjects': {'path': WindowsPath('C:/Users/jxu759/Documents/digital-twin-platform-workshop/digitaltwins-api/venv/Lib/site-packages/sparc_me/core/../resources/templates/version_2_0_0/DatasetTemplate/subjects.xlsx'),\n",
       "  'metadata': Empty DataFrame\n",
       "  Columns: [subject id, pool id, subject experimental group, age, sex, species, strain, RRID for strain, age category, also in dataset, member of, laboratory internal id, date of birth, age range (min), age range (max), body mass, genotype, phenotype, handedness, reference atlas, experimental log file path, experiment date, disease or disorder, intervention, disease model, protocol title, protocol url or doi]\n",
       "  Index: []\n",
       "  \n",
       "  [0 rows x 27 columns]},\n",
       " 'submission': {'path': WindowsPath('C:/Users/jxu759/Documents/digital-twin-platform-workshop/digitaltwins-api/venv/Lib/site-packages/sparc_me/core/../resources/templates/version_2_0_0/DatasetTemplate/submission.xlsx'),\n",
       "  'metadata':              Submission Item  \\\n",
       "  0         SPARC award number   \n",
       "  1         Milestone achieved   \n",
       "  2  Milestone completion date   \n",
       "  \n",
       "                                            Definition  Value  \n",
       "  0  Grant number supporting the milestone. Use EXT...    NaN  \n",
       "  1                    From milestones supplied to NIH    NaN  \n",
       "  2  Date of milestone completion. This date starts...    NaN  }}"
      ]
     },
     "execution_count": 3,
     "metadata": {},
     "output_type": "execute_result"
    }
   ],
   "source": [
    "# Specify the dataset path\n",
    "save_dir = \"SDStemplate/\"\n",
    "dataset.set_dataset_path(save_dir)\n",
    "dataset.load_from_template(version=\"2.0.0\")"
   ]
  },
  {
   "cell_type": "markdown",
   "metadata": {},
   "source": [
    "* Save the template dataset that you just loaded\n",
    "\n",
    "    Explore the SDS template dataset after it's saved locally. __Restart the kernel if you have problems saving the dataset.__"
   ]
  },
  {
   "cell_type": "code",
   "execution_count": 4,
   "metadata": {},
   "outputs": [],
   "source": [
    "dataset.save(save_dir=save_dir)"
   ]
  },
  {
   "cell_type": "markdown",
   "metadata": {},
   "source": [
    "* Load an existing SDS dataset (not recommended in this tutorial unless your dataset is based on SDS template version 2.0.0)"
   ]
  },
  {
   "cell_type": "code",
   "execution_count": 5,
   "metadata": {},
   "outputs": [],
   "source": [
    "# set_dataset_path is optional here. You can either set a new path or using the dataset's current path for loading the existing dataset\n",
    "# dataset.set_dataset_path(save_dir)\n",
    "# existing_dir = \"./your/dataset/path/here\"\n",
    "# dataset.load_dataset(dataset_path=existing_dir)"
   ]
  },
  {
   "cell_type": "markdown",
   "metadata": {},
   "source": [
    "## 2. Get the metadata and its associated values. Clear the metadata before updating it for your dataset\n",
    "This tutorial focus more on the dataset_description metadata file. For other metadata files, replace the category field with the name of the metadata file you want to use e.g., from `category=\"dataset_description\"` to `category=\"code_parameters\"`.\n",
    "\n",
    "* List all metadata files"
   ]
  },
  {
   "cell_type": "code",
   "execution_count": 6,
   "metadata": {},
   "outputs": [
    {
     "name": "stdout",
     "output_type": "stream",
     "text": [
      "Categories:\n",
      "code_description\n",
      "code_parameters\n",
      "dataset_description\n",
      "manifest\n",
      "performances\n",
      "resources\n",
      "samples\n",
      "subjects\n",
      "submission\n"
     ]
    }
   ],
   "source": [
    "categories = dataset.list_categories(version=\"2.0.0\")"
   ]
  },
  {
   "cell_type": "markdown",
   "metadata": {},
   "source": [
    "* List the elements of a metadata file, e.g., dataset_description metadata"
   ]
  },
  {
   "cell_type": "code",
   "execution_count": 7,
   "metadata": {},
   "outputs": [
    {
     "name": "stdout",
     "output_type": "stream",
     "text": [
      "Fields:\n",
      "Metadata Version\n",
      "Type\n",
      "Basic information\n",
      "Title\n",
      "Subtitle\n",
      "Keywords\n",
      "Funding\n",
      "Acknowledgments\n",
      "Study information\n",
      "Study purpose\n",
      "Study data collection\n",
      "Study primary conclusion\n",
      "Study organ system\n",
      "Study approach\n",
      "Study technique\n",
      "Study collection title\n",
      "Contributor information\n",
      "Contributor name\n",
      "Contributor ORCiD\n",
      "Contributor affiliation\n",
      "Contributor role\n",
      "Related protocol, paper, dataset, etc.\n",
      "Identifier description\n",
      "Relation type\n",
      "Identifier\n",
      "Identifier type\n",
      "Participant information\n",
      "Number of subjects\n",
      "Number of samples\n"
     ]
    }
   ],
   "source": [
    "elements = dataset.list_elements(category=\"dataset_description\")"
   ]
  },
  {
   "cell_type": "markdown",
   "metadata": {},
   "source": [
    "* Get metadata file\n",
    "\n",
    "    Again, dataset_description metadata is used as an exmaple here and feel free to replace the category with the name of the metadata file you want to use."
   ]
  },
  {
   "cell_type": "code",
   "execution_count": 8,
   "metadata": {},
   "outputs": [],
   "source": [
    "dataset_description = dataset.get_metadata(category=\"dataset_description\")"
   ]
  },
  {
   "cell_type": "markdown",
   "metadata": {},
   "source": [
    "* Get schema information of an element of a metadata file"
   ]
  },
  {
   "cell_type": "code",
   "execution_count": 9,
   "metadata": {},
   "outputs": [
    {
     "name": "stdout",
     "output_type": "stream",
     "text": [
      "{'Metadata Version': {'type': 'string', 'required': 'Y', 'description': 'SDS version number, e.g. 2.0.0. DO NOT CHANGE', 'example': '2.0.0'}, 'Type': {'type': 'string', 'required': 'Y', 'description': 'Each dataset consists of a single “type” of data, covered by the same ethics, same access control, same protocol, etc. There are two datasets types,  experimental and computation. Experimental is the default value. Make sure to change it to computation only if you are submitting a computational study. If the dataset is not” computational”, it should be set to “experimental”', 'example': 'experimental'}, 'Title': {'type': 'string', 'required': 'Y', 'description': 'Descriptive title for the data set. Equivalent to the title of a scientific paper.', 'example': 'My SPARC dataset'}, 'Subtitle': {'type': 'string', 'required': 'Y', 'description': 'Brief description of the study and the data set. Equivalent to the abstract of a scientific paper. Include the rationale for the approach, the types of data collected, the techniques used, formats and number of files and an approximate size.', 'example': 'A really cool dataset that I collected to answer some question.'}, 'Keywords': {'type': 'string', 'required': 'Y', 'description': 'A set of keywords to assist in search.', 'example': 'spinal cord, electrophysiology, RNA-seq, mouse'}, 'Funding': {'type': 'string', 'required': 'N', 'description': 'Funding sources', 'example': 'OT2OD025349'}, 'Acknowledgments': {'type': 'string', 'required': 'N', 'description': 'Acknowledgments beyond funding and contributors.', 'example': 'Thank you everyone!'}, 'Study purpose': {'type': 'string', 'required': 'Y', 'description': 'A description of the study purpose for the structured abstract.', 'example': 'This study was conducted to demonstrate data wranglers how to fill out dataset templates.'}, 'Study data collection': {'type': 'string', 'required': 'Y', 'description': 'A description of the study data collection process for this dataset.', 'example': 'Using an earlier version of this template we measured how much it confused data wranglers by counting the number of emails we had to exchange with them in order to fill it out.'}, 'Study primary conclusion': {'type': 'string', 'required': 'Y', 'description': 'A description of the primary conclusion drawn from the study for the structured abstract.', 'example': 'The primary conclusion of this study is that it is hard to make a good dataset template.'}, 'Study organ system': {'type': 'string', 'required': 'Y', 'description': 'The major organ systems related to this study.', 'example': 'spinal cord'}, 'Study approach': {'type': 'string', 'required': 'Y', 'description': 'The experimental approach or approaches taken in this study.', 'example': 'electrophysiology'}, 'Study technique': {'type': 'string', 'required': 'Y', 'description': 'The experimental techniques used in this study.', 'example': 'patch clamp'}, 'Study collection title': {'type': 'string', 'required': 'N', 'description': 'Title of the larger collection to which this dataset belongs.', 'example': 'My SPARC research study'}, 'Contributor name': {'type': 'string', 'required': 'Y', 'description': ' Name of any contributors to the dataset.  These individuals need not have been authors on any publications describing the data, but should be acknowledged for their role in producing and publishing the data set.  If more than one, add each contributor in a new column.', 'example': 'Last, First Middle'}, 'Contributor ORCiD': {'type': 'string', 'required': 'Y', 'description': 'ORCiD ID', 'example': 'https://orcid.org/0000-0002-5497-0243'}, 'Contributor affiliation': {'type': 'string', 'required': 'Y', 'description': 'Institutional affiliation for contributors', 'example': 'https://ror.org/0168r3w48'}, 'Contributor role': {'type': 'string', 'required': 'Y', 'description': 'Contributor role. At most one PrincipalInvestigator and at least one CorrespondingAuthor are required. These roles are provided by the Data Cite schema. Options are:\\nPrincipalInvestigator\\nCreator\\nCoInvestigator\\nCorrespondingAuthor\\nDataCollector\\nDataCurator\\nDataManager\\nDistributor\\nEditor\\nProducer\\nProjectLeader\\nProjectManager\\nProjectMember\\nRelatedPerson\\nResearcher\\nResearchGroup\\nSponsor\\nSupervisor\\nWorkPackageLeader\\nOther', 'example': 'DataCollector'}, 'Identifier description': {'type': 'string', 'required': 'Y', 'description': 'A description of the referent of the related identifier.', 'example': 'The protocol use to generate this dataset.'}, 'Relation type': {'type': 'string', 'required': 'Y', 'description': 'The relationship of this dataset to its related identifier. For example, if the identifier is the originating article, it would be “this dataset IsDescribedBy the originating article”. Options are\\nIsProtocolFor\\nHasProtocol\\nIsSoftwareFor\\nHasSoftware\\nIsCitedBy\\nCites\\nIsSupplementTo\\nIsSupplementedBy\\nIsContinuedByContinues\\nIsDescribedBy\\nDescribes\\nHasMetadata\\nIsMetadataFor\\nHasVersion\\nIsVersionOf\\nIsNewVersionOf\\nIsPreviousVersionOf\\nIsPartOf\\nHasPart\\nIsPublishedIn\\nIsReferencedBy\\nReferences\\nIsDocumentedBy\\nDocuments\\nIsCompiledBy\\nCompiles\\nIsVariantFormOf\\nIsOriginalFormOf\\nIsIdenticalTo\\nIsReviewedBy\\nReviews\\nIsDerivedFrom\\nIsSourceOf\\nIsRequiredBy\\nRequires\\nIsObsoletedBy\\nObsoletes', 'example': 'HasProtocol'}, 'Identifier': {'type': 'string', 'required': 'Y', 'description': 'The identifier for something related to this dataset. For example, the DOI or the relative path to the protocol generated by the Protocols.io, and/or the UUID generated by 12L digital twin platform.', 'example': 'https://doi.org/10.13003/5jchdy'}, 'Identifier type': {'type': 'string', 'required': 'Y', 'description': 'The type of the identifier. For example, DOI/path for protocol, and/or an UUID if referencing to a primary dataset already deposited in the 12L digital twin platform.', 'example': 'DOI'}, 'Number of subjects': {'type': 'integer', 'required': 'Y', 'description': 'Number of unique subjects in this dataset, should match subjects metadata file.', 'example': 1}, 'Number of samples': {'type': 'integer', 'required': 'Y', 'description': 'Number of unique samples in this dataset, should match samples metadata file. Set to zero if there are no samples. ', 'example': 0}}\n",
      "{'type': 'string', 'required': 'Y', 'description': 'Brief description of the study and the data set. Equivalent to the abstract of a scientific paper. Include the rationale for the approach, the types of data collected, the techniques used, formats and number of files and an approximate size.', 'example': 'A really cool dataset that I collected to answer some question.'}\n"
     ]
    }
   ],
   "source": [
    "des_schema = schema.get_schema(\"dataset_description\")\n",
    "print(des_schema.get('Subtitle'))"
   ]
  },
  {
   "cell_type": "markdown",
   "metadata": {},
   "source": [
    "* Get metadata's associated values\n",
    "\n",
    "    The `get_values(field_name: str)` method allows to retrieve values from a specific row or column of the metadata file by providing the row name or column name."
   ]
  },
  {
   "cell_type": "code",
   "execution_count": 10,
   "metadata": {},
   "outputs": [
    {
     "name": "stderr",
     "output_type": "stream",
     "text": [
      "c:\\Users\\jxu759\\Documents\\digital-twin-platform-workshop\\digitaltwins-api\\venv\\lib\\site-packages\\pandas\\core\\dtypes\\cast.py:1641: DeprecationWarning:np.find_common_type is deprecated.  Please use `np.result_type` or `np.promote_types`.\n",
      "See https://numpy.org/devdocs/release/1.25.0-notes.html and the docs for more information.  (Deprecated NumPy 1.25)\n"
     ]
    },
    {
     "data": {
      "text/plain": [
       "Value      PrincipalInvestigator\n",
       "Value 2      CorrespondingAuthor\n",
       "Value 3                      NaN\n",
       "Value n                      NaN\n",
       "Name: 20, dtype: object"
      ]
     },
     "execution_count": 10,
     "metadata": {},
     "output_type": "execute_result"
    }
   ],
   "source": [
    "dataset_description.get_values(field_name='Contributor role')"
   ]
  },
  {
   "cell_type": "markdown",
   "metadata": {},
   "source": [
    "* Clear all default metadata values before you edit them if you created your datasets from the template\n",
    "    * Clear all metadata values in the dataset_description file\n",
    "    * (Optional) clear the entire row (e.g., `field_name='Contributor role'`) of metadata values"
   ]
  },
  {
   "cell_type": "code",
   "execution_count": 11,
   "metadata": {},
   "outputs": [
    {
     "name": "stderr",
     "output_type": "stream",
     "text": [
      "c:\\Users\\jxu759\\Documents\\digital-twin-platform-workshop\\digitaltwins-api\\venv\\lib\\site-packages\\pandas\\core\\dtypes\\cast.py:1641: DeprecationWarning:np.find_common_type is deprecated.  Please use `np.result_type` or `np.promote_types`.\n",
      "See https://numpy.org/devdocs/release/1.25.0-notes.html and the docs for more information.  (Deprecated NumPy 1.25)\n",
      "c:\\Users\\jxu759\\Documents\\digital-twin-platform-workshop\\digitaltwins-api\\venv\\lib\\site-packages\\pandas\\core\\dtypes\\cast.py:1641: DeprecationWarning:np.find_common_type is deprecated.  Please use `np.result_type` or `np.promote_types`.\n",
      "See https://numpy.org/devdocs/release/1.25.0-notes.html and the docs for more information.  (Deprecated NumPy 1.25)\n"
     ]
    }
   ],
   "source": [
    "dataset_description.clear_values()"
   ]
  },
  {
   "cell_type": "markdown",
   "metadata": {},
   "source": [
    "* Get the values again to check if they have been deleted"
   ]
  },
  {
   "cell_type": "code",
   "execution_count": 12,
   "metadata": {},
   "outputs": [
    {
     "data": {
      "text/plain": [
       "Value    <NA>\n",
       "Name: 20, dtype: object"
      ]
     },
     "execution_count": 12,
     "metadata": {},
     "output_type": "execute_result"
    }
   ],
   "source": [
    "dataset_description.get_values(field_name='Contributor role')"
   ]
  },
  {
   "cell_type": "code",
   "execution_count": 13,
   "metadata": {},
   "outputs": [],
   "source": [
    "# dataset_description.clear_values(field_name='Contributor role')"
   ]
  },
  {
   "cell_type": "markdown",
   "metadata": {},
   "source": [
    "## 3. Add/update metadata values"
   ]
  },
  {
   "cell_type": "markdown",
   "metadata": {},
   "source": [
    "* This function allows you to add or update metadata values\n",
    "\n",
    "    `add_values(*values: Any, row_name: str = '', col_name: str = '', append: bool = True)`\n",
    "\n",
    "    * `*values` allows single or multiple string values for metadata values.\n",
    "    * `row_name` is the row heading in the `dataset_description` and `code_description` metadata files or elements in other metadata files.\n",
    "    * `col_name` takes the column heading in metadata file. (The default value of header in `dataset_description` and `code_description` is `Value`. Feel free to specify your own header value.)\n",
    "    * `append` takes a boolean value. The default value is `True`, which appends an element to the end of the list. If the `append` is set to `False`, the values will be overwritten/replaced with the new values you specify."
   ]
  },
  {
   "cell_type": "markdown",
   "metadata": {},
   "source": [
    "* Adding values by rows and columns\n",
    "    * By rows:\n",
    "        * Only `dataset_description` and `code_description` metadata files have both row and coloum headings while other files only have the column heading. Therefore, it is recommended to use the `row_name` parameter and add values by rows in `dataset_description` and `code_description` metadata files.\n",
    "             ```python\n",
    "            dataset_description.add_values(*[\"test1\", \"test2\", \"test3\"], row_name=\"contributor role\")\n",
    "\n",
    "            # Also supports column name. The values will begin populating from the cell identified by its row and column names (the default value is \"Value\")\n",
    "            dataset_description.add_values(\"test1\", \"test2\", \"test3\", row_name=\"contributor role\", col_name=\"Value\")\n",
    "            ```\n",
    "        * For adding values in other metadata files, you could insert values by rows without specifying the row_name and col_name name. Notice that the values length must match thee columns length.\n",
    "\n",
    "            ```python\n",
    "            code_parameters.add_values(*[\"breast_append\", \"test1_append\", \"test2_append\", \"test3_append\", \"test4_append\", \"test5..._append\",\"test3_append\", \"test4_append\", \"test5_append\"])\n",
    "            ```\n",
    "    * By columns:\n",
    "        * In metadata files such as code_parameters, manifest, performances, resources, samples, subjects, and submission metadata, it is recommended to use the `col_name` parameter and add values by column.\n",
    "\n",
    "            ```python\n",
    "            code_parameters.add_values(*[\"test1_name\", \"test2_name\", \"test3_name\", \"test4_name\"], col_name='name')\n",
    "            ```"
   ]
  },
  {
   "cell_type": "code",
   "execution_count": 14,
   "metadata": {},
   "outputs": [],
   "source": [
    "dataset_description.add_values(\"2.0.0\", row_name='metadataversion')\n",
    "dataset_description.add_values(\"experimental\", row_name='type')\n",
    "dataset_description.add_values(\"Duke breast cancer MRI preprocessing\", row_name='Title')\n",
    "dataset_description.add_values(\"\"\"Preprocessing the breast cancer MRI images and saving in Nifti format\"\"\",\n",
    "                                      row_name='subtitle')\n",
    "dataset_description.add_values(\"Breast cancer\", \"image processing\", row_name='Keywords')\n",
    "dataset_description.add_values(\"\"\"Preprocessing the breast cancer MRI images and saving in Nifti format\"\"\",\n",
    "                                      row_name=\"Study purpose\")\n",
    "dataset_description.add_values(\"derived from Duke Breast Cancer MRI dataset\",\n",
    "                                      row_name='Study data Collection')\n",
    "dataset_description.add_values(\"pri\", row_name='Study primary conclusion')\n",
    "dataset_description.add_values(\"mary\", row_name='Study primary conclusion')\n",
    "dataset_description.add_values(\"breast\", row_name='Study organ system')\n",
    "dataset_description.add_values(\"image processing\", row_name='Study approach')\n",
    "dataset_description.add_values(\"\"\"dicom2nifti\"\"\", row_name='Study technique')\n",
    "dataset_description.add_values(\"Lin, Chinchien\", \"Gao, Linkun\", row_name='contributorname')\n",
    "dataset_description.add_values(\"Prasad\", \"Jiali\", row_name='contributorNAME')\n",
    "dataset_description.add_values(*[\"bob\", \"db\"], row_name=\"contributor name\")\n",
    "dataset_description.add_values(\n",
    "    \"https://orcid.org/0000-0001-8170-199X\",\n",
    "    \"https://orcid.org/0000-0001-8171-199X\",\n",
    "    \"https://orcid.org/0000-0001-8172-199X\",\n",
    "    \"https://orcid.org/0000-0001-8173-199X\",\n",
    "    \"https://orcid.org/0000-0001-8174-199X\",\n",
    "    \"https://orcid.org/0000-0001-8176-199X\",\n",
    "    row_name='Contributor orcid')\n",
    "\n",
    "dataset_description.add_values(*[\"University of Auckland\"] * 6, row_name='Contributor affiliation')\n",
    "dataset_description.add_values(*[\"developer\", \"developer\", \"Researcher\", \"Researcher\", \"tester\", \"tester\"],\n",
    "                                      row_name=\"contributor role\")\n",
    "dataset_description.add_values(\"source\", row_name='Identifier description')\n",
    "dataset_description.add_values(\"WasDerivedFrom\", row_name='Relation type')\n",
    "dataset_description.add_values(\"DTP-UUID\", row_name='Identifier')\n",
    "dataset_description.add_values(\"12L digital twin UUID\", row_name='Identifier type')"
   ]
  },
  {
   "cell_type": "markdown",
   "metadata": {},
   "source": [
    "* Get the values you just added\n",
    "\n"
   ]
  },
  {
   "cell_type": "code",
   "execution_count": 15,
   "metadata": {},
   "outputs": [
    {
     "name": "stdout",
     "output_type": "stream",
     "text": [
      "Value       developer\n",
      "Value 1     developer\n",
      "Value 2    Researcher\n",
      "Value 3    Researcher\n",
      "Value 4        tester\n",
      "Value 5        tester\n",
      "Name: 20, dtype: object\n"
     ]
    }
   ],
   "source": [
    "values = dataset_description.get_values(field_name=\"contributorrole\")\n",
    "print(values)"
   ]
  },
  {
   "cell_type": "markdown",
   "metadata": {},
   "source": [
    "* Remove values by row or column\n",
    "\n",
    "    The `remove_values(*values: Any, field_name: str)` method can be used to remove values from a specific row or column of the metadata file. Two arguments are required for this method: values you want to remove and the row name or column name of the values."
   ]
  },
  {
   "cell_type": "code",
   "execution_count": 16,
   "metadata": {},
   "outputs": [
    {
     "name": "stdout",
     "output_type": "stream",
     "text": [
      "Value       developer\n",
      "Value 1     developer\n",
      "Value 2    Researcher\n",
      "Value 3    Researcher\n",
      "Value 4          <NA>\n",
      "Value 5          <NA>\n",
      "Name: 20, dtype: object\n"
     ]
    }
   ],
   "source": [
    "dataset_description.remove_values(\"tester\", field_name=\"contributor role\")\n",
    "\n",
    "values = dataset_description.get_values(field_name=\"contributorrole\")\n",
    "print(values)"
   ]
  },
  {
   "cell_type": "markdown",
   "metadata": {},
   "source": [
    "## 4. Add raw data to dataset 'primary' folders (derivative data will be covered in the next workshop)\n",
    "\n",
    "In your research drive, you'll find a folder named 'test_data' which contains the test datasets for this section of the tutorial. Please move the 'test_data' folder into the tutorial directory.\n",
    "* To comply with SDS framwork, the naming of subjects and samples folders MUST be in this format:  sub-xx (for subjects), sam-xx (for samples).\n",
    "\n",
    "* Copy the data, which can be either folders or files, from the raw sample data folder to the SDS dataset folder that you specified at the beginning of the tutorial.\n",
    "    * Add subject(s) - add subject(s) folder along with its subject and sample metadata.\n",
    "    * Add sample(s) -  add a single sample file or multiple sample files to the dataset sample folder\n",
    "\n",
    "    "
   ]
  },
  {
   "cell_type": "code",
   "execution_count": 17,
   "metadata": {},
   "outputs": [],
   "source": [
    "# Add a subject folder that is named with the subject ID. Copy data from primary source data to SDS dataset directory.\n",
    "dataset.add_subject(source_path=\"test_data/bids_data/sub-01\", subject=\"sub-1\", subject_metadata={\n",
    "    \"subject experimental group\": \"experimental\",\n",
    "    \"age\": \"041Y\",\n",
    "    \"sex\": \"F\",\n",
    "    \"species\": \"human\",\n",
    "    \"strain\": \"tissue\",\n",
    "    \"age category\": \"middle adulthood\"\n",
    "}, sample_metadata={\n",
    "    \"sample id\": \"\",\n",
    "    \"subject id\": \"\",\n",
    "    \"sample experimental group\": \"experimental\",\n",
    "    \"sample type\": \"tissue\",\n",
    "    \"sample anatomical location\": \"breast tissue\",\n",
    "})\n",
    "\n",
    "# Add multiple subjects\n",
    "dataset.add_subjects(source_paths=[\"test_data/bids_data/sub-01\",\"./test_data/bids_data/sub-02\"], subjects=[\"sub-1\",\"sub-2\"],subject_metadata={\n",
    "    \"subject experimental group\": \"experimental\",\n",
    "    \"species\": \"human\",\n",
    "    \"strain\": \"tissue\",\n",
    "}, sample_metadata={\n",
    "    \"sample experimental group\": \"experimental\",\n",
    "    \"sample type\": \"tissue\",\n",
    "    \"sample anatomical location\": \"breast tissue\",\n",
    "})"
   ]
  },
  {
   "cell_type": "code",
   "execution_count": 18,
   "metadata": {},
   "outputs": [],
   "source": [
    "# Add a primary sample dataset to the template dataset\n",
    "dataset.add_sample(source_path=\"test_data/sample1/raw\", subject=\"sub-xyz\", sample=\"sam-1\",\n",
    "                     data_type=\"primary\", sds_parent_dir=save_dir)\n",
    "\n",
    "# Add multiple primary sample datasets to the template dataset\n",
    "dataset.add_samples(source_paths=[\"test_data/sample1/raw\",\"./test_data/sample3/raw\"], subject=\"sub-xyz\", samples=[\"sam-1\",\"sam-3\"],\n",
    "                     data_type=\"primary\", sds_parent_dir=save_dir)"
   ]
  },
  {
   "cell_type": "code",
   "execution_count": 19,
   "metadata": {},
   "outputs": [],
   "source": [
    "sample_metadata = dataset.get_metadata(\"samples\")\n",
    "subject_metadata = dataset.get_metadata(\"subjects\")\n",
    "\n",
    "def add_values_for_sample_metadata(sample_metadata):\n",
    "    sample_metadata.add_values(*[\"test\"] * 6, col_name=\"was derived from\", append=False)\n",
    "    sample_metadata.add_values(*[\"pool id 1\", \"pool id 2\", \"pool id 3\", \"pool id 4\", \"pool id 5\", \"pool id 6\"],\n",
    "                               col_name=\"pool id\", append=False)\n",
    "    sample_metadata.add_values(*[\"Yes\"] * 5, \"No\", col_name=\"also in dataset\", append=False)\n",
    "    sample_metadata.add_values(*[\"Global\"] * 6, col_name=\"member of\", append=False)\n",
    "    sample_metadata.add_values(\n",
    "        *[\"laboratory 1\", \"laboratory 2\", \"laboratory 3\", \"laboratory 4\", \"laboratory 5\", \"laboratory 6\"],\n",
    "        col_name=\"laboratory internal id\", append=False)\n",
    "    sample_metadata.add_values(*[\"1991-05-25\"] * 3, *[\"1991-06-10\"] * 3, col_name=\"date of derivation\", append=False)\n",
    "\n",
    "    sample_metadata.save()\n",
    "\n",
    "def add_values_for_subject_metadata(subject_metadata):\n",
    "    subject_metadata.add_values(\"test-1\",\"test-2\",\"test-xyz\", col_name='subject experimental group', append=False)\n",
    "    subject_metadata.add_values(\"30y\",\"31y\",\"33y\", col_name='age', append=False)\n",
    "    subject_metadata.add_values(\"M\",\"M\",\"M\", col_name='sex', append=False)\n",
    "    subject_metadata.add_values(\"P\",\"human\",\"P\", col_name='species', append=False)\n",
    "    subject_metadata.add_values(\"test\",\"tissue\",\"test\", col_name='strain', append=False)\n",
    "    subject_metadata.add_values(\"old\",\"old\",\"old\", col_name=\"age category\", append=False)\n",
    "    subject_metadata.add_values(*[\"pool id 1\", \"pool id 2\", \"pool id 3\"],\n",
    "                               col_name=\"pool id\", append=False)\n",
    "    subject_metadata.add_values(*[\"Yes\"] * 3, col_name=\"also in dataset\", append=False)\n",
    "    subject_metadata.add_values(*[\"515dsd1515\",\"da515daa69\", \"515dsa62a\"], col_name=\"RRID for strain\", append=False)\n",
    "    subject_metadata.add_values(*[\"Global\"] * 3, col_name=\"member of\", append=False)\n",
    "    subject_metadata.add_values(\n",
    "        *[\"laboratory 1\", \"laboratory 2\", \"laboratory 3\"],\n",
    "        col_name=\"laboratory internal id\", append=False)\n",
    "    subject_metadata.add_values(*[\"1996-03-25\",\"1995-09-05\", \"1996-04-11\"], col_name=\"date of birth\", append=False)\n",
    "    subject_metadata.save()"
   ]
  },
  {
   "cell_type": "code",
   "execution_count": 20,
   "metadata": {},
   "outputs": [
    {
     "name": "stderr",
     "output_type": "stream",
     "text": [
      "c:\\Users\\jxu759\\Documents\\digital-twin-platform-workshop\\digitaltwins-api\\venv\\lib\\site-packages\\sparc_me\\core\\metadata.py:186: FutureWarning:The default dtype for empty Series will be 'object' instead of 'float64' in a future version. Specify a dtype explicitly to silence this warning.\n",
      "c:\\Users\\jxu759\\Documents\\digital-twin-platform-workshop\\digitaltwins-api\\venv\\lib\\site-packages\\pandas\\core\\dtypes\\cast.py:1641: DeprecationWarning:np.find_common_type is deprecated.  Please use `np.result_type` or `np.promote_types`.\n",
      "See https://numpy.org/devdocs/release/1.25.0-notes.html and the docs for more information.  (Deprecated NumPy 1.25)\n",
      "c:\\Users\\jxu759\\Documents\\digital-twin-platform-workshop\\digitaltwins-api\\venv\\lib\\site-packages\\pandas\\core\\dtypes\\cast.py:1641: DeprecationWarning:np.find_common_type is deprecated.  Please use `np.result_type` or `np.promote_types`.\n",
      "See https://numpy.org/devdocs/release/1.25.0-notes.html and the docs for more information.  (Deprecated NumPy 1.25)\n",
      "c:\\Users\\jxu759\\Documents\\digital-twin-platform-workshop\\digitaltwins-api\\venv\\lib\\site-packages\\pandas\\core\\dtypes\\cast.py:1641: DeprecationWarning:np.find_common_type is deprecated.  Please use `np.result_type` or `np.promote_types`.\n",
      "See https://numpy.org/devdocs/release/1.25.0-notes.html and the docs for more information.  (Deprecated NumPy 1.25)\n",
      "c:\\Users\\jxu759\\Documents\\digital-twin-platform-workshop\\digitaltwins-api\\venv\\lib\\site-packages\\pandas\\core\\dtypes\\cast.py:1641: DeprecationWarning:np.find_common_type is deprecated.  Please use `np.result_type` or `np.promote_types`.\n",
      "See https://numpy.org/devdocs/release/1.25.0-notes.html and the docs for more information.  (Deprecated NumPy 1.25)\n",
      "c:\\Users\\jxu759\\Documents\\digital-twin-platform-workshop\\digitaltwins-api\\venv\\lib\\site-packages\\pandas\\core\\dtypes\\cast.py:1641: DeprecationWarning:np.find_common_type is deprecated.  Please use `np.result_type` or `np.promote_types`.\n",
      "See https://numpy.org/devdocs/release/1.25.0-notes.html and the docs for more information.  (Deprecated NumPy 1.25)\n",
      "c:\\Users\\jxu759\\Documents\\digital-twin-platform-workshop\\digitaltwins-api\\venv\\lib\\site-packages\\pandas\\core\\dtypes\\cast.py:1641: DeprecationWarning:np.find_common_type is deprecated.  Please use `np.result_type` or `np.promote_types`.\n",
      "See https://numpy.org/devdocs/release/1.25.0-notes.html and the docs for more information.  (Deprecated NumPy 1.25)\n",
      "c:\\Users\\jxu759\\Documents\\digital-twin-platform-workshop\\digitaltwins-api\\venv\\lib\\site-packages\\pandas\\core\\dtypes\\cast.py:1641: DeprecationWarning:np.find_common_type is deprecated.  Please use `np.result_type` or `np.promote_types`.\n",
      "See https://numpy.org/devdocs/release/1.25.0-notes.html and the docs for more information.  (Deprecated NumPy 1.25)\n",
      "c:\\Users\\jxu759\\Documents\\digital-twin-platform-workshop\\digitaltwins-api\\venv\\lib\\site-packages\\pandas\\core\\dtypes\\cast.py:1641: DeprecationWarning:np.find_common_type is deprecated.  Please use `np.result_type` or `np.promote_types`.\n",
      "See https://numpy.org/devdocs/release/1.25.0-notes.html and the docs for more information.  (Deprecated NumPy 1.25)\n",
      "c:\\Users\\jxu759\\Documents\\digital-twin-platform-workshop\\digitaltwins-api\\venv\\lib\\site-packages\\pandas\\core\\dtypes\\cast.py:1641: DeprecationWarning:np.find_common_type is deprecated.  Please use `np.result_type` or `np.promote_types`.\n",
      "See https://numpy.org/devdocs/release/1.25.0-notes.html and the docs for more information.  (Deprecated NumPy 1.25)\n",
      "c:\\Users\\jxu759\\Documents\\digital-twin-platform-workshop\\digitaltwins-api\\venv\\lib\\site-packages\\pandas\\core\\dtypes\\cast.py:1641: DeprecationWarning:np.find_common_type is deprecated.  Please use `np.result_type` or `np.promote_types`.\n",
      "See https://numpy.org/devdocs/release/1.25.0-notes.html and the docs for more information.  (Deprecated NumPy 1.25)\n",
      "c:\\Users\\jxu759\\Documents\\digital-twin-platform-workshop\\digitaltwins-api\\venv\\lib\\site-packages\\pandas\\core\\dtypes\\cast.py:1641: DeprecationWarning:np.find_common_type is deprecated.  Please use `np.result_type` or `np.promote_types`.\n",
      "See https://numpy.org/devdocs/release/1.25.0-notes.html and the docs for more information.  (Deprecated NumPy 1.25)\n",
      "c:\\Users\\jxu759\\Documents\\digital-twin-platform-workshop\\digitaltwins-api\\venv\\lib\\site-packages\\pandas\\core\\dtypes\\cast.py:1641: DeprecationWarning:np.find_common_type is deprecated.  Please use `np.result_type` or `np.promote_types`.\n",
      "See https://numpy.org/devdocs/release/1.25.0-notes.html and the docs for more information.  (Deprecated NumPy 1.25)\n"
     ]
    }
   ],
   "source": [
    "add_values_for_sample_metadata(sample_metadata)\n",
    "add_values_for_subject_metadata(subject_metadata)"
   ]
  },
  {
   "cell_type": "code",
   "execution_count": 21,
   "metadata": {},
   "outputs": [],
   "source": [
    "dataset.add_thumbnail(\"./test_data/thumbnail_0.jpg\")\n",
    "dataset.add_thumbnail(\"./test_data/thumbnail_1.jpg\")\n",
    "dataset.delete_data(\"./SDStemplate/primary/thumbnail_0.jpg\")"
   ]
  },
  {
   "cell_type": "markdown",
   "metadata": {},
   "source": [
    "* After updating subject or sample data, the following metadata files will be updated __automatically__: dataset_description.xlsx, manifest.txt, samples.xlsx, subjects.xslx"
   ]
  },
  {
   "cell_type": "markdown",
   "metadata": {},
   "source": [
    "* Save the updated datasets \n",
    "\n",
    "    If you encounter any errors when running the above code:\n",
    "        \n",
    "    * Clear outputs and restart the kernel. Run the code again.\n",
    "    * Run this code in the Jupyter Notebook in browser directly instead of running in IDEs such as Pycharm."
   ]
  },
  {
   "cell_type": "code",
   "execution_count": 22,
   "metadata": {},
   "outputs": [],
   "source": [
    "dataset.save(save_dir=save_dir)"
   ]
  },
  {
   "cell_type": "markdown",
   "metadata": {},
   "source": [
    "* Validate the dataset descriptions within the metadata files you just updated"
   ]
  },
  {
   "cell_type": "code",
   "execution_count": 23,
   "metadata": {},
   "outputs": [
    {
     "name": "stdout",
     "output_type": "stream",
     "text": [
      "Target instance: {'Metadata Version': '2.0.0', 'Type': 'experimental', 'Title': 'Duke breast cancer MRI preprocessing', 'Subtitle': 'Preprocessing the breast cancer MRI images and saving in Nifti format', 'Keywords': 'Breast cancer', 'Study purpose': 'Preprocessing the breast cancer MRI images and saving in Nifti format', 'Study data collection': 'derived from Duke Breast Cancer MRI dataset', 'Study primary conclusion': 'pri', 'Study organ system': 'breast', 'Study approach': 'image processing', 'Study technique': 'dicom2nifti', 'Contributor name': 'Lin, Chinchien', 'Contributor ORCiD': 'https://orcid.org/0000-0001-8170-199X', 'Contributor affiliation': 'University of Auckland', 'Contributor role': 'developer', 'Identifier description': 'source', 'Relation type': 'WasDerivedFrom', 'Identifier': 'DTP-UUID', 'Identifier type': '12L digital twin UUID', 'Number of subjects': 3, 'Number of samples': 6}\n",
      "Validation: Passed\n",
      "Target instance: {'subject id': 'sub-1', 'pool id': 'pool id 1', 'subject experimental group': 'test-1', 'age': '30y', 'sex': 'M', 'species': 'P', 'strain': 'test', 'RRID for strain': '515dsd1515', 'age category': 'old', 'also in dataset': 'Yes', 'member of': 'Global', 'laboratory internal id': 'laboratory 1', 'date of birth': '1996-03-25'}\n",
      "Validation: Passed\n",
      "Target instance: {'subject id': 'sub-2', 'pool id': 'pool id 2', 'subject experimental group': 'test-2', 'age': '31y', 'sex': 'M', 'species': 'human', 'strain': 'tissue', 'RRID for strain': 'da515daa69', 'age category': 'old', 'also in dataset': 'Yes', 'member of': 'Global', 'laboratory internal id': 'laboratory 2', 'date of birth': '1995-09-05'}\n",
      "Validation: Passed\n",
      "Target instance: {'subject id': 'sub-xyz', 'pool id': 'pool id 3', 'subject experimental group': 'test-xyz', 'age': '33y', 'sex': 'M', 'species': 'P', 'strain': 'test', 'RRID for strain': '515dsa62a', 'age category': 'old', 'also in dataset': 'Yes', 'member of': 'Global', 'laboratory internal id': 'laboratory 3', 'date of birth': '1996-04-11'}\n",
      "Validation: Passed\n"
     ]
    }
   ],
   "source": [
    "description_meta = schema.load_data(\"./SDStemplate/dataset_description.xlsx\")\n",
    "validator.validate(description_meta, category=\"dataset_description\", version=\"2.0.0\")\n",
    "sub_meta = schema.load_data(\"./SDStemplate/subjects.xlsx\")\n",
    "validator.validate(sub_meta, category=\"subjects\", version=\"2.0.0\")"
   ]
  }
 ],
 "metadata": {
  "kernelspec": {
   "display_name": "Python 3 (ipykernel)",
   "language": "python",
   "name": "python3"
  },
  "language_info": {
   "codemirror_mode": {
    "name": "ipython",
    "version": 3
   },
   "file_extension": ".py",
   "mimetype": "text/x-python",
   "name": "python",
   "nbconvert_exporter": "python",
   "pygments_lexer": "ipython3",
   "version": "3.9.13"
  },
  "orig_nbformat": 4
 },
 "nbformat": 4,
 "nbformat_minor": 2
}
