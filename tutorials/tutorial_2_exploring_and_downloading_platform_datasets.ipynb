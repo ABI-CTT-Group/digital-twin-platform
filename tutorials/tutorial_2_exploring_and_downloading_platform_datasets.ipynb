{
 "cells": [
  {
   "cell_type": "markdown",
   "metadata": {},
   "source": [
    "# Tutorial 2: Exploring and downloading datasets from the DigitalTWINS Platform\n",
    "\n",
    "## Introduction\n",
    "The 12 LABOURS DigitalTWINS Platform’s harmonised database is organised into __Programs__ and __Projects__. For example, Exemplar Project 1 (__EP1__) is a project within the 12 LABOURS (__12L__) Program. Users can only access and download datasets from these projects once they have been granted access. See Tutorial 1 for information on how to request access and connect to the platform. This tutorial shows how to explore and download existing datasets from the DigitalTWINS Platform using its Python API.\n",
    "\n",
    "## Definitions\n",
    "API - Application Programming Interface used to access the features or data of an application or service.\n",
    "\n",
    "## Learning outcomes\n",
    "In this tutorial, you will learn how to:\n",
    "- access the platform using its Python API.\n",
    "- find datasets stored in the platform.\n",
    "- download datasets in SDS format.\n",
    "\n",
    "## Accessing the platform using its Python API\n",
    "First, we will use Python's built in `configparser` module to load a `config.ini` file that specifies the location and API access keys for your instance of the DigitalTWINS Platform.\n",
    "\n",
    "Please contact your DigitalTWINS Platform maintainer to access your `config.ini` and `credentials.json` and place both files in the same directory."
   ]
  },
  {
   "cell_type": "code",
   "execution_count": 1,
   "metadata": {
    "ExecuteTime": {
     "end_time": "2023-09-18T09:24:31.320492900Z",
     "start_time": "2023-09-18T09:24:31.290498600Z"
    }
   },
   "outputs": [],
   "source": [
    "import pathlib\n",
    "# Change the path below to point to the location of your config.ini file.\n",
    "#config_file = pathlib.Path(r\"./path/to/config.ini\")\n",
    "\n",
    "config_file = pathlib.Path(r\"./configs_12l.ini\")\n"
   ]
  },
  {
   "cell_type": "markdown",
   "metadata": {},
   "source": [
    "We will use the DigitalTWINS Python API's `Querier` class to list or search for existing datasets in the platform."
   ]
  },
  {
   "cell_type": "code",
   "execution_count": 2,
   "metadata": {
    "ExecuteTime": {
     "end_time": "2023-09-18T09:26:44.043409200Z",
     "start_time": "2023-09-18T09:24:41.594736100Z"
    }
   },
   "outputs": [],
   "source": [
    "import digitaltwins as dts\n",
    "\n",
    "querier = dts.Querier(config_file)"
   ]
  },
  {
   "cell_type": "markdown",
   "metadata": {},
   "source": [
    "### Listing program and  projects in the platform\n",
    "\n",
    "A list of existing programs in the platform can be retrieved as follows."
   ]
  },
  {
   "cell_type": "code",
   "execution_count": 3,
   "metadata": {},
   "outputs": [
    {
     "ename": "ConnectionError",
     "evalue": "HTTP connection error: Please make sure you have access to the remote server. then try again!",
     "output_type": "error",
     "traceback": [
      "\u001b[1;31m---------------------------------------------------------------------------\u001b[0m",
      "\u001b[1;31mConnectionRefusedError\u001b[0m                    Traceback (most recent call last)",
      "File \u001b[1;32mc:\\Users\\jxu759\\Documents\\digital-twin-platform-workshop\\digitaltwins-api\\venv\\lib\\site-packages\\urllib3\\connection.py:174\u001b[0m, in \u001b[0;36mHTTPConnection._new_conn\u001b[1;34m(self)\u001b[0m\n\u001b[0;32m    173\u001b[0m \u001b[39mtry\u001b[39;00m:\n\u001b[1;32m--> 174\u001b[0m     conn \u001b[39m=\u001b[39m connection\u001b[39m.\u001b[39mcreate_connection(\n\u001b[0;32m    175\u001b[0m         (\u001b[39mself\u001b[39m\u001b[39m.\u001b[39m_dns_host, \u001b[39mself\u001b[39m\u001b[39m.\u001b[39mport), \u001b[39mself\u001b[39m\u001b[39m.\u001b[39mtimeout, \u001b[39m*\u001b[39m\u001b[39m*\u001b[39mextra_kw\n\u001b[0;32m    176\u001b[0m     )\n\u001b[0;32m    178\u001b[0m \u001b[39mexcept\u001b[39;00m SocketTimeout:\n",
      "File \u001b[1;32mc:\\Users\\jxu759\\Documents\\digital-twin-platform-workshop\\digitaltwins-api\\venv\\lib\\site-packages\\urllib3\\util\\connection.py:95\u001b[0m, in \u001b[0;36mcreate_connection\u001b[1;34m(address, timeout, source_address, socket_options)\u001b[0m\n\u001b[0;32m     94\u001b[0m \u001b[39mif\u001b[39;00m err \u001b[39mis\u001b[39;00m \u001b[39mnot\u001b[39;00m \u001b[39mNone\u001b[39;00m:\n\u001b[1;32m---> 95\u001b[0m     \u001b[39mraise\u001b[39;00m err\n\u001b[0;32m     97\u001b[0m \u001b[39mraise\u001b[39;00m socket\u001b[39m.\u001b[39merror(\u001b[39m\"\u001b[39m\u001b[39mgetaddrinfo returns an empty list\u001b[39m\u001b[39m\"\u001b[39m)\n",
      "File \u001b[1;32mc:\\Users\\jxu759\\Documents\\digital-twin-platform-workshop\\digitaltwins-api\\venv\\lib\\site-packages\\urllib3\\util\\connection.py:85\u001b[0m, in \u001b[0;36mcreate_connection\u001b[1;34m(address, timeout, source_address, socket_options)\u001b[0m\n\u001b[0;32m     84\u001b[0m     sock\u001b[39m.\u001b[39mbind(source_address)\n\u001b[1;32m---> 85\u001b[0m sock\u001b[39m.\u001b[39;49mconnect(sa)\n\u001b[0;32m     86\u001b[0m \u001b[39mreturn\u001b[39;00m sock\n",
      "\u001b[1;31mConnectionRefusedError\u001b[0m: [WinError 10061] No connection could be made because the target machine actively refused it",
      "\nDuring handling of the above exception, another exception occurred:\n",
      "\u001b[1;31mNewConnectionError\u001b[0m                        Traceback (most recent call last)",
      "File \u001b[1;32mc:\\Users\\jxu759\\Documents\\digital-twin-platform-workshop\\digitaltwins-api\\venv\\lib\\site-packages\\urllib3\\connectionpool.py:714\u001b[0m, in \u001b[0;36mHTTPConnectionPool.urlopen\u001b[1;34m(self, method, url, body, headers, retries, redirect, assert_same_host, timeout, pool_timeout, release_conn, chunked, body_pos, **response_kw)\u001b[0m\n\u001b[0;32m    713\u001b[0m \u001b[39m# Make the request on the httplib connection object.\u001b[39;00m\n\u001b[1;32m--> 714\u001b[0m httplib_response \u001b[39m=\u001b[39m \u001b[39mself\u001b[39;49m\u001b[39m.\u001b[39;49m_make_request(\n\u001b[0;32m    715\u001b[0m     conn,\n\u001b[0;32m    716\u001b[0m     method,\n\u001b[0;32m    717\u001b[0m     url,\n\u001b[0;32m    718\u001b[0m     timeout\u001b[39m=\u001b[39;49mtimeout_obj,\n\u001b[0;32m    719\u001b[0m     body\u001b[39m=\u001b[39;49mbody,\n\u001b[0;32m    720\u001b[0m     headers\u001b[39m=\u001b[39;49mheaders,\n\u001b[0;32m    721\u001b[0m     chunked\u001b[39m=\u001b[39;49mchunked,\n\u001b[0;32m    722\u001b[0m )\n\u001b[0;32m    724\u001b[0m \u001b[39m# If we're going to release the connection in ``finally:``, then\u001b[39;00m\n\u001b[0;32m    725\u001b[0m \u001b[39m# the response doesn't need to know about the connection. Otherwise\u001b[39;00m\n\u001b[0;32m    726\u001b[0m \u001b[39m# it will also try to release it and we'll have a double-release\u001b[39;00m\n\u001b[0;32m    727\u001b[0m \u001b[39m# mess.\u001b[39;00m\n",
      "File \u001b[1;32mc:\\Users\\jxu759\\Documents\\digital-twin-platform-workshop\\digitaltwins-api\\venv\\lib\\site-packages\\urllib3\\connectionpool.py:403\u001b[0m, in \u001b[0;36mHTTPConnectionPool._make_request\u001b[1;34m(self, conn, method, url, timeout, chunked, **httplib_request_kw)\u001b[0m\n\u001b[0;32m    402\u001b[0m \u001b[39mtry\u001b[39;00m:\n\u001b[1;32m--> 403\u001b[0m     \u001b[39mself\u001b[39;49m\u001b[39m.\u001b[39;49m_validate_conn(conn)\n\u001b[0;32m    404\u001b[0m \u001b[39mexcept\u001b[39;00m (SocketTimeout, BaseSSLError) \u001b[39mas\u001b[39;00m e:\n\u001b[0;32m    405\u001b[0m     \u001b[39m# Py2 raises this as a BaseSSLError, Py3 raises it as socket timeout.\u001b[39;00m\n",
      "File \u001b[1;32mc:\\Users\\jxu759\\Documents\\digital-twin-platform-workshop\\digitaltwins-api\\venv\\lib\\site-packages\\urllib3\\connectionpool.py:1053\u001b[0m, in \u001b[0;36mHTTPSConnectionPool._validate_conn\u001b[1;34m(self, conn)\u001b[0m\n\u001b[0;32m   1052\u001b[0m \u001b[39mif\u001b[39;00m \u001b[39mnot\u001b[39;00m \u001b[39mgetattr\u001b[39m(conn, \u001b[39m\"\u001b[39m\u001b[39msock\u001b[39m\u001b[39m\"\u001b[39m, \u001b[39mNone\u001b[39;00m):  \u001b[39m# AppEngine might not have  `.sock`\u001b[39;00m\n\u001b[1;32m-> 1053\u001b[0m     conn\u001b[39m.\u001b[39;49mconnect()\n\u001b[0;32m   1055\u001b[0m \u001b[39mif\u001b[39;00m \u001b[39mnot\u001b[39;00m conn\u001b[39m.\u001b[39mis_verified:\n",
      "File \u001b[1;32mc:\\Users\\jxu759\\Documents\\digital-twin-platform-workshop\\digitaltwins-api\\venv\\lib\\site-packages\\urllib3\\connection.py:363\u001b[0m, in \u001b[0;36mHTTPSConnection.connect\u001b[1;34m(self)\u001b[0m\n\u001b[0;32m    361\u001b[0m \u001b[39mdef\u001b[39;00m \u001b[39mconnect\u001b[39m(\u001b[39mself\u001b[39m):\n\u001b[0;32m    362\u001b[0m     \u001b[39m# Add certificate verification\u001b[39;00m\n\u001b[1;32m--> 363\u001b[0m     \u001b[39mself\u001b[39m\u001b[39m.\u001b[39msock \u001b[39m=\u001b[39m conn \u001b[39m=\u001b[39m \u001b[39mself\u001b[39;49m\u001b[39m.\u001b[39;49m_new_conn()\n\u001b[0;32m    364\u001b[0m     hostname \u001b[39m=\u001b[39m \u001b[39mself\u001b[39m\u001b[39m.\u001b[39mhost\n",
      "File \u001b[1;32mc:\\Users\\jxu759\\Documents\\digital-twin-platform-workshop\\digitaltwins-api\\venv\\lib\\site-packages\\urllib3\\connection.py:186\u001b[0m, in \u001b[0;36mHTTPConnection._new_conn\u001b[1;34m(self)\u001b[0m\n\u001b[0;32m    185\u001b[0m \u001b[39mexcept\u001b[39;00m SocketError \u001b[39mas\u001b[39;00m e:\n\u001b[1;32m--> 186\u001b[0m     \u001b[39mraise\u001b[39;00m NewConnectionError(\n\u001b[0;32m    187\u001b[0m         \u001b[39mself\u001b[39m, \u001b[39m\"\u001b[39m\u001b[39mFailed to establish a new connection: \u001b[39m\u001b[39m%s\u001b[39;00m\u001b[39m\"\u001b[39m \u001b[39m%\u001b[39m e\n\u001b[0;32m    188\u001b[0m     )\n\u001b[0;32m    190\u001b[0m \u001b[39mreturn\u001b[39;00m conn\n",
      "\u001b[1;31mNewConnectionError\u001b[0m: <urllib3.connection.HTTPSConnection object at 0x00000277F8C0F3D0>: Failed to establish a new connection: [WinError 10061] No connection could be made because the target machine actively refused it",
      "\nDuring handling of the above exception, another exception occurred:\n",
      "\u001b[1;31mMaxRetryError\u001b[0m                             Traceback (most recent call last)",
      "File \u001b[1;32mc:\\Users\\jxu759\\Documents\\digital-twin-platform-workshop\\digitaltwins-api\\venv\\lib\\site-packages\\requests\\adapters.py:486\u001b[0m, in \u001b[0;36mHTTPAdapter.send\u001b[1;34m(self, request, stream, timeout, verify, cert, proxies)\u001b[0m\n\u001b[0;32m    485\u001b[0m \u001b[39mtry\u001b[39;00m:\n\u001b[1;32m--> 486\u001b[0m     resp \u001b[39m=\u001b[39m conn\u001b[39m.\u001b[39;49murlopen(\n\u001b[0;32m    487\u001b[0m         method\u001b[39m=\u001b[39;49mrequest\u001b[39m.\u001b[39;49mmethod,\n\u001b[0;32m    488\u001b[0m         url\u001b[39m=\u001b[39;49murl,\n\u001b[0;32m    489\u001b[0m         body\u001b[39m=\u001b[39;49mrequest\u001b[39m.\u001b[39;49mbody,\n\u001b[0;32m    490\u001b[0m         headers\u001b[39m=\u001b[39;49mrequest\u001b[39m.\u001b[39;49mheaders,\n\u001b[0;32m    491\u001b[0m         redirect\u001b[39m=\u001b[39;49m\u001b[39mFalse\u001b[39;49;00m,\n\u001b[0;32m    492\u001b[0m         assert_same_host\u001b[39m=\u001b[39;49m\u001b[39mFalse\u001b[39;49;00m,\n\u001b[0;32m    493\u001b[0m         preload_content\u001b[39m=\u001b[39;49m\u001b[39mFalse\u001b[39;49;00m,\n\u001b[0;32m    494\u001b[0m         decode_content\u001b[39m=\u001b[39;49m\u001b[39mFalse\u001b[39;49;00m,\n\u001b[0;32m    495\u001b[0m         retries\u001b[39m=\u001b[39;49m\u001b[39mself\u001b[39;49m\u001b[39m.\u001b[39;49mmax_retries,\n\u001b[0;32m    496\u001b[0m         timeout\u001b[39m=\u001b[39;49mtimeout,\n\u001b[0;32m    497\u001b[0m         chunked\u001b[39m=\u001b[39;49mchunked,\n\u001b[0;32m    498\u001b[0m     )\n\u001b[0;32m    500\u001b[0m \u001b[39mexcept\u001b[39;00m (ProtocolError, \u001b[39mOSError\u001b[39;00m) \u001b[39mas\u001b[39;00m err:\n",
      "File \u001b[1;32mc:\\Users\\jxu759\\Documents\\digital-twin-platform-workshop\\digitaltwins-api\\venv\\lib\\site-packages\\urllib3\\connectionpool.py:798\u001b[0m, in \u001b[0;36mHTTPConnectionPool.urlopen\u001b[1;34m(self, method, url, body, headers, retries, redirect, assert_same_host, timeout, pool_timeout, release_conn, chunked, body_pos, **response_kw)\u001b[0m\n\u001b[0;32m    796\u001b[0m     e \u001b[39m=\u001b[39m ProtocolError(\u001b[39m\"\u001b[39m\u001b[39mConnection aborted.\u001b[39m\u001b[39m\"\u001b[39m, e)\n\u001b[1;32m--> 798\u001b[0m retries \u001b[39m=\u001b[39m retries\u001b[39m.\u001b[39;49mincrement(\n\u001b[0;32m    799\u001b[0m     method, url, error\u001b[39m=\u001b[39;49me, _pool\u001b[39m=\u001b[39;49m\u001b[39mself\u001b[39;49m, _stacktrace\u001b[39m=\u001b[39;49msys\u001b[39m.\u001b[39;49mexc_info()[\u001b[39m2\u001b[39;49m]\n\u001b[0;32m    800\u001b[0m )\n\u001b[0;32m    801\u001b[0m retries\u001b[39m.\u001b[39msleep()\n",
      "File \u001b[1;32mc:\\Users\\jxu759\\Documents\\digital-twin-platform-workshop\\digitaltwins-api\\venv\\lib\\site-packages\\urllib3\\util\\retry.py:592\u001b[0m, in \u001b[0;36mRetry.increment\u001b[1;34m(self, method, url, response, error, _pool, _stacktrace)\u001b[0m\n\u001b[0;32m    591\u001b[0m \u001b[39mif\u001b[39;00m new_retry\u001b[39m.\u001b[39mis_exhausted():\n\u001b[1;32m--> 592\u001b[0m     \u001b[39mraise\u001b[39;00m MaxRetryError(_pool, url, error \u001b[39mor\u001b[39;00m ResponseError(cause))\n\u001b[0;32m    594\u001b[0m log\u001b[39m.\u001b[39mdebug(\u001b[39m\"\u001b[39m\u001b[39mIncremented Retry for (url=\u001b[39m\u001b[39m'\u001b[39m\u001b[39m%s\u001b[39;00m\u001b[39m'\u001b[39m\u001b[39m): \u001b[39m\u001b[39m%r\u001b[39;00m\u001b[39m\"\u001b[39m, url, new_retry)\n",
      "\u001b[1;31mMaxRetryError\u001b[0m: HTTPSConnectionPool(host='localhost', port=443): Max retries exceeded with url: /user/credentials/cdis/access_token (Caused by NewConnectionError('<urllib3.connection.HTTPSConnection object at 0x00000277F8C0F3D0>: Failed to establish a new connection: [WinError 10061] No connection could be made because the target machine actively refused it'))",
      "\nDuring handling of the above exception, another exception occurred:\n",
      "\u001b[1;31mConnectionError\u001b[0m                           Traceback (most recent call last)",
      "File \u001b[1;32mc:\\Users\\jxu759\\Documents\\digital-twin-platform-workshop\\digitaltwins-api\\venv\\lib\\site-packages\\digitaltwins\\gen3\\querier.py:78\u001b[0m, in \u001b[0;36mQuerier.graphql_query\u001b[1;34m(self, query_string, variables, count)\u001b[0m\n\u001b[0;32m     77\u001b[0m \u001b[39mtry\u001b[39;00m:\n\u001b[1;32m---> 78\u001b[0m     response \u001b[39m=\u001b[39m \u001b[39mself\u001b[39;49m\u001b[39m.\u001b[39;49m_querier\u001b[39m.\u001b[39;49mquery(query_string, variables)\n\u001b[0;32m     79\u001b[0m     data \u001b[39m=\u001b[39m response\u001b[39m.\u001b[39mget(\u001b[39m\"\u001b[39m\u001b[39mdata\u001b[39m\u001b[39m\"\u001b[39m)\n",
      "File \u001b[1;32mc:\\Users\\jxu759\\Documents\\digital-twin-platform-workshop\\digitaltwins-api\\venv\\lib\\site-packages\\gen3\\submission.py:423\u001b[0m, in \u001b[0;36mGen3Submission.query\u001b[1;34m(self, query_txt, variables, max_tries)\u001b[0m\n\u001b[0;32m    422\u001b[0m \u001b[39mwhile\u001b[39;00m tries \u001b[39m<\u001b[39m max_tries:\n\u001b[1;32m--> 423\u001b[0m     output \u001b[39m=\u001b[39m requests\u001b[39m.\u001b[39;49mpost(api_url, auth\u001b[39m=\u001b[39;49m\u001b[39mself\u001b[39;49m\u001b[39m.\u001b[39;49m_auth_provider, json\u001b[39m=\u001b[39;49mquery)\u001b[39m.\u001b[39mtext\n\u001b[0;32m    424\u001b[0m     data \u001b[39m=\u001b[39m json\u001b[39m.\u001b[39mloads(output)\n",
      "File \u001b[1;32mc:\\Users\\jxu759\\Documents\\digital-twin-platform-workshop\\digitaltwins-api\\venv\\lib\\site-packages\\requests\\api.py:115\u001b[0m, in \u001b[0;36mpost\u001b[1;34m(url, data, json, **kwargs)\u001b[0m\n\u001b[0;32m    104\u001b[0m \u001b[39m\u001b[39m\u001b[39mr\u001b[39m\u001b[39m\"\"\"Sends a POST request.\u001b[39;00m\n\u001b[0;32m    105\u001b[0m \n\u001b[0;32m    106\u001b[0m \u001b[39m:param url: URL for the new :class:`Request` object.\u001b[39;00m\n\u001b[1;32m   (...)\u001b[0m\n\u001b[0;32m    112\u001b[0m \u001b[39m:rtype: requests.Response\u001b[39;00m\n\u001b[0;32m    113\u001b[0m \u001b[39m\"\"\"\u001b[39;00m\n\u001b[1;32m--> 115\u001b[0m \u001b[39mreturn\u001b[39;00m request(\u001b[39m\"\u001b[39m\u001b[39mpost\u001b[39m\u001b[39m\"\u001b[39m, url, data\u001b[39m=\u001b[39mdata, json\u001b[39m=\u001b[39mjson, \u001b[39m*\u001b[39m\u001b[39m*\u001b[39mkwargs)\n",
      "File \u001b[1;32mc:\\Users\\jxu759\\Documents\\digital-twin-platform-workshop\\digitaltwins-api\\venv\\lib\\site-packages\\requests\\api.py:59\u001b[0m, in \u001b[0;36mrequest\u001b[1;34m(method, url, **kwargs)\u001b[0m\n\u001b[0;32m     58\u001b[0m \u001b[39mwith\u001b[39;00m sessions\u001b[39m.\u001b[39mSession() \u001b[39mas\u001b[39;00m session:\n\u001b[1;32m---> 59\u001b[0m     \u001b[39mreturn\u001b[39;00m session\u001b[39m.\u001b[39mrequest(method\u001b[39m=\u001b[39mmethod, url\u001b[39m=\u001b[39murl, \u001b[39m*\u001b[39m\u001b[39m*\u001b[39mkwargs)\n",
      "File \u001b[1;32mc:\\Users\\jxu759\\Documents\\digital-twin-platform-workshop\\digitaltwins-api\\venv\\lib\\site-packages\\requests\\sessions.py:575\u001b[0m, in \u001b[0;36mSession.request\u001b[1;34m(self, method, url, params, data, headers, cookies, files, auth, timeout, allow_redirects, proxies, hooks, stream, verify, cert, json)\u001b[0m\n\u001b[0;32m    563\u001b[0m req \u001b[39m=\u001b[39m Request(\n\u001b[0;32m    564\u001b[0m     method\u001b[39m=\u001b[39mmethod\u001b[39m.\u001b[39mupper(),\n\u001b[0;32m    565\u001b[0m     url\u001b[39m=\u001b[39murl,\n\u001b[1;32m   (...)\u001b[0m\n\u001b[0;32m    573\u001b[0m     hooks\u001b[39m=\u001b[39mhooks,\n\u001b[0;32m    574\u001b[0m )\n\u001b[1;32m--> 575\u001b[0m prep \u001b[39m=\u001b[39m \u001b[39mself\u001b[39;49m\u001b[39m.\u001b[39;49mprepare_request(req)\n\u001b[0;32m    577\u001b[0m proxies \u001b[39m=\u001b[39m proxies \u001b[39mor\u001b[39;00m {}\n",
      "File \u001b[1;32mc:\\Users\\jxu759\\Documents\\digital-twin-platform-workshop\\digitaltwins-api\\venv\\lib\\site-packages\\requests\\sessions.py:486\u001b[0m, in \u001b[0;36mSession.prepare_request\u001b[1;34m(self, request)\u001b[0m\n\u001b[0;32m    485\u001b[0m p \u001b[39m=\u001b[39m PreparedRequest()\n\u001b[1;32m--> 486\u001b[0m p\u001b[39m.\u001b[39;49mprepare(\n\u001b[0;32m    487\u001b[0m     method\u001b[39m=\u001b[39;49mrequest\u001b[39m.\u001b[39;49mmethod\u001b[39m.\u001b[39;49mupper(),\n\u001b[0;32m    488\u001b[0m     url\u001b[39m=\u001b[39;49mrequest\u001b[39m.\u001b[39;49murl,\n\u001b[0;32m    489\u001b[0m     files\u001b[39m=\u001b[39;49mrequest\u001b[39m.\u001b[39;49mfiles,\n\u001b[0;32m    490\u001b[0m     data\u001b[39m=\u001b[39;49mrequest\u001b[39m.\u001b[39;49mdata,\n\u001b[0;32m    491\u001b[0m     json\u001b[39m=\u001b[39;49mrequest\u001b[39m.\u001b[39;49mjson,\n\u001b[0;32m    492\u001b[0m     headers\u001b[39m=\u001b[39;49mmerge_setting(\n\u001b[0;32m    493\u001b[0m         request\u001b[39m.\u001b[39;49mheaders, \u001b[39mself\u001b[39;49m\u001b[39m.\u001b[39;49mheaders, dict_class\u001b[39m=\u001b[39;49mCaseInsensitiveDict\n\u001b[0;32m    494\u001b[0m     ),\n\u001b[0;32m    495\u001b[0m     params\u001b[39m=\u001b[39;49mmerge_setting(request\u001b[39m.\u001b[39;49mparams, \u001b[39mself\u001b[39;49m\u001b[39m.\u001b[39;49mparams),\n\u001b[0;32m    496\u001b[0m     auth\u001b[39m=\u001b[39;49mmerge_setting(auth, \u001b[39mself\u001b[39;49m\u001b[39m.\u001b[39;49mauth),\n\u001b[0;32m    497\u001b[0m     cookies\u001b[39m=\u001b[39;49mmerged_cookies,\n\u001b[0;32m    498\u001b[0m     hooks\u001b[39m=\u001b[39;49mmerge_hooks(request\u001b[39m.\u001b[39;49mhooks, \u001b[39mself\u001b[39;49m\u001b[39m.\u001b[39;49mhooks),\n\u001b[0;32m    499\u001b[0m )\n\u001b[0;32m    500\u001b[0m \u001b[39mreturn\u001b[39;00m p\n",
      "File \u001b[1;32mc:\\Users\\jxu759\\Documents\\digital-twin-platform-workshop\\digitaltwins-api\\venv\\lib\\site-packages\\requests\\models.py:372\u001b[0m, in \u001b[0;36mPreparedRequest.prepare\u001b[1;34m(self, method, url, headers, files, data, params, auth, cookies, hooks, json)\u001b[0m\n\u001b[0;32m    371\u001b[0m \u001b[39mself\u001b[39m\u001b[39m.\u001b[39mprepare_body(data, files, json)\n\u001b[1;32m--> 372\u001b[0m \u001b[39mself\u001b[39;49m\u001b[39m.\u001b[39;49mprepare_auth(auth, url)\n\u001b[0;32m    374\u001b[0m \u001b[39m# Note that prepare_auth must be last to enable authentication schemes\u001b[39;00m\n\u001b[0;32m    375\u001b[0m \u001b[39m# such as OAuth to work on a fully prepared request.\u001b[39;00m\n\u001b[0;32m    376\u001b[0m \n\u001b[0;32m    377\u001b[0m \u001b[39m# This MUST go after prepare_auth. Authenticators could add a hook\u001b[39;00m\n",
      "File \u001b[1;32mc:\\Users\\jxu759\\Documents\\digital-twin-platform-workshop\\digitaltwins-api\\venv\\lib\\site-packages\\requests\\models.py:603\u001b[0m, in \u001b[0;36mPreparedRequest.prepare_auth\u001b[1;34m(self, auth, url)\u001b[0m\n\u001b[0;32m    602\u001b[0m \u001b[39m# Allow auth to make its changes.\u001b[39;00m\n\u001b[1;32m--> 603\u001b[0m r \u001b[39m=\u001b[39m auth(\u001b[39mself\u001b[39;49m)\n\u001b[0;32m    605\u001b[0m \u001b[39m# Update self to reflect the auth changes.\u001b[39;00m\n",
      "File \u001b[1;32mc:\\Users\\jxu759\\Documents\\digital-twin-platform-workshop\\digitaltwins-api\\venv\\lib\\site-packages\\gen3\\auth.py:325\u001b[0m, in \u001b[0;36mGen3Auth.__call__\u001b[1;34m(self, request)\u001b[0m\n\u001b[0;32m    316\u001b[0m \u001b[39m\u001b[39m\u001b[39m\"\"\"Adds authorization header to the request\u001b[39;00m\n\u001b[0;32m    317\u001b[0m \n\u001b[0;32m    318\u001b[0m \u001b[39mThis gets called by the python.requests package on outbound requests\u001b[39;00m\n\u001b[1;32m   (...)\u001b[0m\n\u001b[0;32m    323\u001b[0m \n\u001b[0;32m    324\u001b[0m \u001b[39m\"\"\"\u001b[39;00m\n\u001b[1;32m--> 325\u001b[0m request\u001b[39m.\u001b[39mheaders[\u001b[39m\"\u001b[39m\u001b[39mAuthorization\u001b[39m\u001b[39m\"\u001b[39m] \u001b[39m=\u001b[39m \u001b[39mself\u001b[39;49m\u001b[39m.\u001b[39;49m_get_auth_value()\n\u001b[0;32m    326\u001b[0m request\u001b[39m.\u001b[39mregister_hook(\u001b[39m\"\u001b[39m\u001b[39mresponse\u001b[39m\u001b[39m\"\u001b[39m, \u001b[39mself\u001b[39m\u001b[39m.\u001b[39m_handle_401)\n",
      "File \u001b[1;32mc:\\Users\\jxu759\\Documents\\digital-twin-platform-workshop\\digitaltwins-api\\venv\\lib\\site-packages\\gen3\\auth.py:446\u001b[0m, in \u001b[0;36mGen3Auth._get_auth_value\u001b[1;34m(self)\u001b[0m\n\u001b[0;32m    440\u001b[0m \u001b[39m\u001b[39m\u001b[39m\"\"\"Returns the Authorization header value for the request\u001b[39;00m\n\u001b[0;32m    441\u001b[0m \n\u001b[0;32m    442\u001b[0m \u001b[39mThis gets called when added the Authorization header to the request.\u001b[39;00m\n\u001b[0;32m    443\u001b[0m \u001b[39mThis fetches the access token from the refresh token if the access token is missing.\u001b[39;00m\n\u001b[0;32m    444\u001b[0m \n\u001b[0;32m    445\u001b[0m \u001b[39m\"\"\"\u001b[39;00m\n\u001b[1;32m--> 446\u001b[0m \u001b[39mreturn\u001b[39;00m \u001b[39m\"\u001b[39m\u001b[39mbearer \u001b[39m\u001b[39m\"\u001b[39m \u001b[39m+\u001b[39m \u001b[39mself\u001b[39;49m\u001b[39m.\u001b[39;49mget_access_token()\n",
      "File \u001b[1;32mc:\\Users\\jxu759\\Documents\\digital-twin-platform-workshop\\digitaltwins-api\\venv\\lib\\site-packages\\gen3\\auth.py:433\u001b[0m, in \u001b[0;36mGen3Auth.get_access_token\u001b[1;34m(self)\u001b[0m\n\u001b[0;32m    432\u001b[0m \u001b[39mif\u001b[39;00m need_new_token:\n\u001b[1;32m--> 433\u001b[0m     \u001b[39mreturn\u001b[39;00m \u001b[39mself\u001b[39;49m\u001b[39m.\u001b[39;49mrefresh_access_token(\n\u001b[0;32m    434\u001b[0m         \u001b[39mself\u001b[39;49m\u001b[39m.\u001b[39;49mendpoint \u001b[39mif\u001b[39;49;00m \u001b[39mhasattr\u001b[39;49m(\u001b[39mself\u001b[39;49m, \u001b[39m\"\u001b[39;49m\u001b[39mendpoint\u001b[39;49m\u001b[39m\"\u001b[39;49m) \u001b[39melse\u001b[39;49;00m \u001b[39mNone\u001b[39;49;00m\n\u001b[0;32m    435\u001b[0m     )\n\u001b[0;32m    436\u001b[0m \u001b[39m# use cache\u001b[39;00m\n",
      "File \u001b[1;32mc:\\Users\\jxu759\\Documents\\digital-twin-platform-workshop\\digitaltwins-api\\venv\\lib\\site-packages\\gen3\\auth.py:367\u001b[0m, in \u001b[0;36mGen3Auth.refresh_access_token\u001b[1;34m(self, endpoint)\u001b[0m\n\u001b[0;32m    366\u001b[0m \u001b[39melse\u001b[39;00m:\n\u001b[1;32m--> 367\u001b[0m     \u001b[39mself\u001b[39m\u001b[39m.\u001b[39m_access_token \u001b[39m=\u001b[39m get_access_token_with_key(\u001b[39mself\u001b[39;49m\u001b[39m.\u001b[39;49m_refresh_token)\n\u001b[0;32m    369\u001b[0m \u001b[39mself\u001b[39m\u001b[39m.\u001b[39m_access_token_info \u001b[39m=\u001b[39m decode_token(\u001b[39mself\u001b[39m\u001b[39m.\u001b[39m_access_token)\n",
      "File \u001b[1;32mc:\\Users\\jxu759\\Documents\\digital-twin-platform-workshop\\digitaltwins-api\\venv\\lib\\site-packages\\gen3\\auth.py:75\u001b[0m, in \u001b[0;36mget_access_token_with_key\u001b[1;34m(api_key)\u001b[0m\n\u001b[0;32m     74\u001b[0m auth_url \u001b[39m=\u001b[39m \u001b[39m\"\u001b[39m\u001b[39m{}\u001b[39;00m\u001b[39m/user/credentials/cdis/access_token\u001b[39m\u001b[39m\"\u001b[39m\u001b[39m.\u001b[39mformat(endpoint)\n\u001b[1;32m---> 75\u001b[0m resp \u001b[39m=\u001b[39m requests\u001b[39m.\u001b[39;49mpost(auth_url, json\u001b[39m=\u001b[39;49mapi_key)\n\u001b[0;32m     76\u001b[0m token_key \u001b[39m=\u001b[39m \u001b[39m\"\u001b[39m\u001b[39maccess_token\u001b[39m\u001b[39m\"\u001b[39m\n",
      "File \u001b[1;32mc:\\Users\\jxu759\\Documents\\digital-twin-platform-workshop\\digitaltwins-api\\venv\\lib\\site-packages\\requests\\api.py:115\u001b[0m, in \u001b[0;36mpost\u001b[1;34m(url, data, json, **kwargs)\u001b[0m\n\u001b[0;32m    104\u001b[0m \u001b[39m\u001b[39m\u001b[39mr\u001b[39m\u001b[39m\"\"\"Sends a POST request.\u001b[39;00m\n\u001b[0;32m    105\u001b[0m \n\u001b[0;32m    106\u001b[0m \u001b[39m:param url: URL for the new :class:`Request` object.\u001b[39;00m\n\u001b[1;32m   (...)\u001b[0m\n\u001b[0;32m    112\u001b[0m \u001b[39m:rtype: requests.Response\u001b[39;00m\n\u001b[0;32m    113\u001b[0m \u001b[39m\"\"\"\u001b[39;00m\n\u001b[1;32m--> 115\u001b[0m \u001b[39mreturn\u001b[39;00m request(\u001b[39m\"\u001b[39m\u001b[39mpost\u001b[39m\u001b[39m\"\u001b[39m, url, data\u001b[39m=\u001b[39mdata, json\u001b[39m=\u001b[39mjson, \u001b[39m*\u001b[39m\u001b[39m*\u001b[39mkwargs)\n",
      "File \u001b[1;32mc:\\Users\\jxu759\\Documents\\digital-twin-platform-workshop\\digitaltwins-api\\venv\\lib\\site-packages\\requests\\api.py:59\u001b[0m, in \u001b[0;36mrequest\u001b[1;34m(method, url, **kwargs)\u001b[0m\n\u001b[0;32m     58\u001b[0m \u001b[39mwith\u001b[39;00m sessions\u001b[39m.\u001b[39mSession() \u001b[39mas\u001b[39;00m session:\n\u001b[1;32m---> 59\u001b[0m     \u001b[39mreturn\u001b[39;00m session\u001b[39m.\u001b[39mrequest(method\u001b[39m=\u001b[39mmethod, url\u001b[39m=\u001b[39murl, \u001b[39m*\u001b[39m\u001b[39m*\u001b[39mkwargs)\n",
      "File \u001b[1;32mc:\\Users\\jxu759\\Documents\\digital-twin-platform-workshop\\digitaltwins-api\\venv\\lib\\site-packages\\requests\\sessions.py:589\u001b[0m, in \u001b[0;36mSession.request\u001b[1;34m(self, method, url, params, data, headers, cookies, files, auth, timeout, allow_redirects, proxies, hooks, stream, verify, cert, json)\u001b[0m\n\u001b[0;32m    588\u001b[0m send_kwargs\u001b[39m.\u001b[39mupdate(settings)\n\u001b[1;32m--> 589\u001b[0m resp \u001b[39m=\u001b[39m \u001b[39mself\u001b[39m\u001b[39m.\u001b[39msend(prep, \u001b[39m*\u001b[39m\u001b[39m*\u001b[39msend_kwargs)\n\u001b[0;32m    591\u001b[0m \u001b[39mreturn\u001b[39;00m resp\n",
      "File \u001b[1;32mc:\\Users\\jxu759\\Documents\\digital-twin-platform-workshop\\digitaltwins-api\\venv\\lib\\site-packages\\requests\\sessions.py:703\u001b[0m, in \u001b[0;36mSession.send\u001b[1;34m(self, request, **kwargs)\u001b[0m\n\u001b[0;32m    702\u001b[0m \u001b[39m# Send the request\u001b[39;00m\n\u001b[1;32m--> 703\u001b[0m r \u001b[39m=\u001b[39m adapter\u001b[39m.\u001b[39msend(request, \u001b[39m*\u001b[39m\u001b[39m*\u001b[39mkwargs)\n\u001b[0;32m    705\u001b[0m \u001b[39m# Total elapsed time of the request (approximately)\u001b[39;00m\n",
      "File \u001b[1;32mc:\\Users\\jxu759\\Documents\\digital-twin-platform-workshop\\digitaltwins-api\\venv\\lib\\site-packages\\requests\\adapters.py:519\u001b[0m, in \u001b[0;36mHTTPAdapter.send\u001b[1;34m(self, request, stream, timeout, verify, cert, proxies)\u001b[0m\n\u001b[0;32m    517\u001b[0m         \u001b[39mraise\u001b[39;00m SSLError(e, request\u001b[39m=\u001b[39mrequest)\n\u001b[1;32m--> 519\u001b[0m     \u001b[39mraise\u001b[39;00m \u001b[39mConnectionError\u001b[39;00m(e, request\u001b[39m=\u001b[39mrequest)\n\u001b[0;32m    521\u001b[0m \u001b[39mexcept\u001b[39;00m ClosedPoolError \u001b[39mas\u001b[39;00m e:\n",
      "\u001b[1;31mConnectionError\u001b[0m: HTTPSConnectionPool(host='localhost', port=443): Max retries exceeded with url: /user/credentials/cdis/access_token (Caused by NewConnectionError('<urllib3.connection.HTTPSConnection object at 0x00000277F8C0F3D0>: Failed to establish a new connection: [WinError 10061] No connection could be made because the target machine actively refused it'))",
      "\nDuring handling of the above exception, another exception occurred:\n",
      "\u001b[1;31mConnectionError\u001b[0m                           Traceback (most recent call last)",
      "\u001b[1;32mc:\\Users\\jxu759\\Documents\\digital-twin-platform-workshop\\digitaltwins-api\\tutorials\\tutorial_2_exploring_and_downloading_platform_datasets.ipynb Cell 6\u001b[0m line \u001b[0;36m1\n\u001b[1;32m----> <a href='vscode-notebook-cell:/c%3A/Users/jxu759/Documents/digital-twin-platform-workshop/digitaltwins-api/tutorials/tutorial_2_exploring_and_downloading_platform_datasets.ipynb#W5sZmlsZQ%3D%3D?line=0'>1</a>\u001b[0m programs \u001b[39m=\u001b[39m querier\u001b[39m.\u001b[39;49mget_all_programs()\n",
      "File \u001b[1;32mc:\\Users\\jxu759\\Documents\\digital-twin-platform-workshop\\digitaltwins-api\\venv\\lib\\site-packages\\digitaltwins\\gen3\\querier.py:103\u001b[0m, in \u001b[0;36mQuerier.get_all_programs\u001b[1;34m(self)\u001b[0m\n\u001b[0;32m     90\u001b[0m \u001b[39m\u001b[39m\u001b[39m\"\"\"\u001b[39;00m\n\u001b[0;32m     91\u001b[0m \u001b[39mGetting all programs that the user have access to\u001b[39;00m\n\u001b[0;32m     92\u001b[0m \n\u001b[0;32m     93\u001b[0m \u001b[39m:return: List of programs\u001b[39;00m\n\u001b[0;32m     94\u001b[0m \u001b[39m:rtype: list\u001b[39;00m\n\u001b[0;32m     95\u001b[0m \u001b[39m\"\"\"\u001b[39;00m\n\u001b[0;32m     96\u001b[0m query_string \u001b[39m=\u001b[39m \u001b[39mf\u001b[39m\u001b[39m\"\"\"\u001b[39m\n\u001b[0;32m     97\u001b[0m \u001b[39m\u001b[39m\u001b[39m{{\u001b[39;00m\n\u001b[0;32m     98\u001b[0m \u001b[39m    program\u001b[39m\u001b[39m{{\u001b[39;00m\n\u001b[1;32m   (...)\u001b[0m\n\u001b[0;32m    101\u001b[0m \u001b[39m\u001b[39m\u001b[39m}}\u001b[39;00m\n\u001b[0;32m    102\u001b[0m \u001b[39m\u001b[39m\u001b[39m\"\"\"\u001b[39m\n\u001b[1;32m--> 103\u001b[0m data \u001b[39m=\u001b[39m \u001b[39mself\u001b[39;49m\u001b[39m.\u001b[39;49mgraphql_query(query_string)\n\u001b[0;32m    104\u001b[0m programs \u001b[39m=\u001b[39m data\u001b[39m.\u001b[39mget(\u001b[39m'\u001b[39m\u001b[39mprogram\u001b[39m\u001b[39m'\u001b[39m)\n\u001b[0;32m    106\u001b[0m \u001b[39mreturn\u001b[39;00m programs\n",
      "File \u001b[1;32mc:\\Users\\jxu759\\Documents\\digital-twin-platform-workshop\\digitaltwins-api\\venv\\lib\\site-packages\\digitaltwins\\gen3\\querier.py:86\u001b[0m, in \u001b[0;36mQuerier.graphql_query\u001b[1;34m(self, query_string, variables, count)\u001b[0m\n\u001b[0;32m     84\u001b[0m     \u001b[39mreturn\u001b[39;00m \u001b[39mself\u001b[39m\u001b[39m.\u001b[39mgraphql_query(query_string, variables\u001b[39m=\u001b[39mvariables, count\u001b[39m=\u001b[39mcount)\n\u001b[0;32m     85\u001b[0m \u001b[39mexcept\u001b[39;00m \u001b[39mConnectionError\u001b[39;00m \u001b[39mas\u001b[39;00m e:\n\u001b[1;32m---> 86\u001b[0m     \u001b[39mraise\u001b[39;00m \u001b[39mConnectionError\u001b[39;00m(\u001b[39m\"\u001b[39m\u001b[39mHTTP connection error: Please make sure you have access to the remote server. then \u001b[39m\u001b[39m\"\u001b[39m\n\u001b[0;32m     87\u001b[0m                           \u001b[39m\"\u001b[39m\u001b[39mtry again!\u001b[39m\u001b[39m\"\u001b[39m)\n",
      "\u001b[1;31mConnectionError\u001b[0m: HTTP connection error: Please make sure you have access to the remote server. then try again!"
     ]
    }
   ],
   "source": [
    "programs = querier.get_all_programs()"
   ]
  },
  {
   "cell_type": "markdown",
   "metadata": {},
   "source": [
    "A list of existing projects within a program can be retrieved as follows. The optional `program` argument can be used to only list projects in a specific program.\n",
    "\n",
    "<span style=\"color:yellow\"> [choose a specific program by the order on the list?]</span>"
   ]
  },
  {
   "cell_type": "code",
   "execution_count": null,
   "metadata": {},
   "outputs": [],
   "source": [
    "projects = querier.get_projects(program=programs[0])"
   ]
  },
  {
   "cell_type": "markdown",
   "metadata": {},
   "source": [
    "## Finding datasets\n",
    "Each dataset stored in the platform has a unique identifier (ID). Datasets can be retrieved using the platform API's `Dataset` class. This provides multiple methods to help with accessing metadata files in a dataset without needing to download the entire dataset. For example, the `get_dataset_description` method will return a Python dictionary of metadata elements for the SDS dataset description metadata file. The Digital Twin Platform’s API documentation (TODO) lists all the methods available for accessing dataset metadata.\n",
    "\n",
    "The first step in accessing a specific dataset is to find the dataset's ID. There are multiple approaches to identify the ID for a dataset of interest. These are described below.\n",
    "\n",
    "<span style=\"color:yellow\"> [1. Elements are used here before tutorial 3. 2. Maybe explain what SDS and detaset_description is here? SDS data is organised in six high-level folders: primary, source, derivative, code, protocol, and docs. dataset_description metadata file is mandatory for all SPARC datasets. It is a required file where an investigator provides basic metadata]</span>\n",
    "\n",
    "\n",
    "### Using the data catalogue on the platform's portal\n",
    "Dataset IDs are included in each dataset listed on the data catalogue page of the 12 LABOURS DigitalTWINS platform's portal. \n",
    "\n",
    "<span style=\"color:yellow\">[Dataset IDs of each dataset are listed ...] </span>\n",
    "\n",
    "TODO add screenshot.\n",
    "\n",
    "### Using the platform's API to list all datasets\n",
    "The `get_datasets` method of the `Querier` class allows a list of `Dataset` objects to be retrieved from the platform. The UID of a dataset can then be accessed using the `Dataset` classes `get_uid` method.\n",
    "\n",
    "<span style=\"color:yellow\">[What is UID and how is it different from dataset ID?]"
   ]
  },
  {
   "cell_type": "code",
   "execution_count": null,
   "metadata": {},
   "outputs": [],
   "source": [
    "datasets = querier.get_datasets(program=all, project=all)\n",
    "for dataset in datasets:\n",
    "    print(dataset.get_id())"
   ]
  },
  {
   "cell_type": "markdown",
   "metadata": {},
   "source": [
    "### Using the platform's API to search for datsets\n",
    "The `search_datasets` method of the `Querier` class allows for searching of datasets, and returns a python list of `Dataset` objects that match the search criteria . \n",
    "\n",
    "Currently, only searching text that matches exactly with the title of existing datasets in the platform is supported."
   ]
  },
  {
   "cell_type": "code",
   "execution_count": null,
   "metadata": {},
   "outputs": [],
   "source": [
    "dataset_id = 'dataset-1-version-1'\n",
    "datasets = querier.search_datasets(query=dataset_id)"
   ]
  },
  {
   "cell_type": "markdown",
   "metadata": {},
   "source": [
    "## Downloading datasets\n",
    "Datasets are stored in SDS format within the platforms harmonised database. We can use the DigitalTWINS Python API's `Downloader` class to select and download a dataset in SDS format. Once downloaded, the `sparc-me` Python module can be used explore the metadata in a dataset (see Tutorial 3).\n",
    "\n",
    "By default, datsets are downloaded to the current working directory, however, the `save_dir` optional argument can be specified to select a different download destination path."
   ]
  },
  {
   "cell_type": "code",
   "execution_count": null,
   "metadata": {},
   "outputs": [],
   "source": [
    "downloader = dts.Downloader(config_file)\n",
    "downloader.download(dataset_id, save_dir='./')"
   ]
  },
  {
   "cell_type": "markdown",
   "metadata": {},
   "source": [
    "Some datasets can be very large, so an option is provided to  only download the metadata files in a dataset, or the entire dataset."
   ]
  },
  {
   "cell_type": "code",
   "execution_count": null,
   "metadata": {},
   "outputs": [],
   "source": [
    "downloader.download(dataset_id, save_dir='./', metadata_only=True)"
   ]
  },
  {
   "cell_type": "markdown",
   "metadata": {},
   "source": [
    "## Next steps\n",
    "The next tutorial will show how to load and explore SDS datasets using the sparc-me Python tool."
   ]
  }
 ],
 "metadata": {
  "kernelspec": {
   "display_name": "Python 3 (ipykernel)",
   "language": "python",
   "name": "python3"
  },
  "language_info": {
   "codemirror_mode": {
    "name": "ipython",
    "version": 3
   },
   "file_extension": ".py",
   "mimetype": "text/x-python",
   "name": "python",
   "nbconvert_exporter": "python",
   "pygments_lexer": "ipython3",
   "version": "3.9.13"
  }
 },
 "nbformat": 4,
 "nbformat_minor": 2
}
