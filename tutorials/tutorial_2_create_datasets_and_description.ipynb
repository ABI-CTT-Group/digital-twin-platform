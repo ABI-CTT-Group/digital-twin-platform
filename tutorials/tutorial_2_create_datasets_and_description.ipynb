{
 "cells": [
  {
   "cell_type": "markdown",
   "metadata": {},
   "source": [
    "# Tutorial 2: Create datasets and description\n",
    "This tutorial shows how to create datasets and descpritions in SPARC Data Structure (SDS) format.\n",
    "\n"
   ]
  },
  {
   "cell_type": "markdown",
   "metadata": {},
   "source": [
    "## 1. Create an empty SDS dataset or load an existing SDS dataset\n",
    "* Setup sparc-me \n",
    "\n",
    "    Sparc-me is a python tool to explore, enhance, and expand SPARC datasets and their descriptions in accordance with DAIR principles."
   ]
  },
  {
   "cell_type": "code",
   "execution_count": null,
   "metadata": {},
   "outputs": [],
   "source": [
    "from sparc_me import Dataset\n",
    "\n",
    "dataset = Dataset()"
   ]
  },
  {
   "cell_type": "markdown",
   "metadata": {},
   "source": [
    "* Create an empty dataset from the SDS template. \n",
    "\n",
    "    In this tutorial, it is highly recommended to use SDS template version 2.0.0. Remember to include the path of where you want your dataset to be saved. "
   ]
  },
  {
   "cell_type": "code",
   "execution_count": null,
   "metadata": {},
   "outputs": [],
   "source": [
    "save_dir = \"./tmp/template/\"\n",
    "dataset.load_from_template(version=\"2.0.0\")"
   ]
  },
  {
   "cell_type": "markdown",
   "metadata": {},
   "source": [
    "* Load an existing SDS dataset (not recommended in this tutorial)"
   ]
  },
  {
   "cell_type": "code",
   "execution_count": null,
   "metadata": {},
   "outputs": [],
   "source": [
    "existing_dir = \"./your/dataset/path/here\"\n",
    "# dataset.load_dataset(dataset_path=existing_dir)"
   ]
  },
  {
   "cell_type": "markdown",
   "metadata": {},
   "source": [
    "## 2. Get metadata files and clear metadata if necessary.\n",
    "\n",
    "This tutorial focus more on the dataset_description metadata file. For other metadata files, replace the category field with the name of the metadata file you want to use e.g., from `category=\"dataset_description\"` to `category=\"code_parameters\"`.\n",
    "\n",
    "* List the categories and elements of metadata files"
   ]
  },
  {
   "cell_type": "code",
   "execution_count": null,
   "metadata": {},
   "outputs": [],
   "source": [
    "categories = dataset.list_categories(version=\"2.0.0\")\n",
    "elements = dataset.list_elements(category=\"dataset_description\", version=\"2.0.0\")"
   ]
  },
  {
   "cell_type": "markdown",
   "metadata": {},
   "source": [
    "* Get metadata file\n",
    "\n",
    "    Again, dataset_description metadata is used as an exmaple here and feel free to replace the category with the name of the metadata file you want to use."
   ]
  },
  {
   "cell_type": "code",
   "execution_count": null,
   "metadata": {},
   "outputs": [],
   "source": [
    "dataset_description = dataset.get_metadata(category=\"dataset_description\")"
   ]
  },
  {
   "cell_type": "markdown",
   "metadata": {},
   "source": [
    "* (Optional) clear your metadata values before you edit them.\n",
    "    * Clear all metadata values in the dataset_description file\n",
    "    * Clear the entire row (e.g., `field_name='Contributor role'`) of metadata values"
   ]
  },
  {
   "cell_type": "code",
   "execution_count": null,
   "metadata": {},
   "outputs": [],
   "source": [
    "dataset_description.clear_values()"
   ]
  },
  {
   "cell_type": "code",
   "execution_count": null,
   "metadata": {},
   "outputs": [],
   "source": [
    "dataset_description.clear_values(field_name='Contributor role')"
   ]
  },
  {
   "cell_type": "markdown",
   "metadata": {},
   "source": [
    "## 3. Add/update metadata values and save them"
   ]
  },
  {
   "cell_type": "markdown",
   "metadata": {},
   "source": [
    "* This function allows you to add or update metadata values\n",
    "\n",
    "    `add_values( *values: Any, row_name: str = '', header: str = '', append: bool = True)`\n",
    "\n",
    "    * `*values` allows single or multiple string values for metadata values you would like to add or update.\n",
    "    * `row_name` is the row heading in the `dataset_description` and `code_description` metadata files or elements in other metadata files. \n",
    "    * `header` takes the column heading in metadata file. The default value of header in `dataset_description` and `code_description` is `Value` column, feel free to specify yours.\n",
    "    * `append` takes a boolean value. The default value is True, which appends an element to the end of the list. If the append is set to False, the values will be overwritten/replaced with the new values you specify."
   ]
  },
  {
   "cell_type": "markdown",
   "metadata": {},
   "source": [
    "* Adding values by rows and columns\n",
    "    * By rows:\n",
    "        * Only `dataset_description` and `code_description` metadata files have both row and coloum headings while other files only have the column heading. Therefore, it is recommended to use the `row_name` parameter and add values by rows in `dataset_description` and `code_description` metadata files.\n",
    "             ```python\n",
    "            dataset_description.add_values(*[\"test1\", \"test2\", \"test3\"], row_name=\"contributor role\")\n",
    "            # Also supports:\n",
    "            dataset_description.add_values(\"test1\", \"test2\", \"test3\", row_name=\"contributor role\", header=\"Value\")\n",
    "            ```\n",
    "        * For adding values in other metadata files, you could insert values by rows without specifying the row_name and header name. Notice that the values length must match thee columns length.\n",
    "\n",
    "            ```python\n",
    "            code_parameters.add_values(*[\"breast_append\", \"test1_append\", \"test2_append\", \"test3_append\", \"test4_append\", \"test5..._append\",\"test3_append\", \"test4_append\", \"test5_append\"])\n",
    "            ```\n",
    "    * By columns:\n",
    "        * In metadata files such as code_parameters, manifest, performances, resources, samples, subjects, and submission metadata, it is recommended to use the `header` parameter and add values by column.\n",
    "\n",
    "            ```python\n",
    "            code_parameters.add_values(*[\"test1_name\", \"test2_name\", \"test3_name\", \"test4_name\"], header='name')\n",
    "            ```"
   ]
  },
  {
   "cell_type": "code",
   "execution_count": null,
   "metadata": {},
   "outputs": [],
   "source": [
    "dataset_description.add_values(\"2.0.0\", row_name='metadataversion')\n",
    "dataset_description.add_values(\"experimental\", row_name='type')\n",
    "dataset_description.add_values(\"Duke breast cancer MRI preprocessing\", row_name='Title')\n",
    "dataset_description.add_values(\"\"\"Preprocessing the breast cancer MRI images and saving in Nifti format\"\"\",\n",
    "                                      row_name='subtitle')\n",
    "dataset_description.add_values(\"Breast cancer\", \"image processing\", row_name='Keywords')\n",
    "dataset_description.add_values(\"\"\"Preprocessing the breast cancer MRI images and saving in Nifti format\"\"\",\n",
    "                                      row_name=\"Study purpose\")\n",
    "dataset_description.add_values(\"derived from Duke Breast Cancer MRI dataset\",\n",
    "                                      row_name='Study data Collection')\n",
    "dataset_description.add_values(\"NA\", row_name='Study primary conclusion')\n",
    "#dataset_description.add_values(\"NA\", row_name='Study primary conclusion', append=True)\n",
    "dataset_description.add_values(\"breast\", row_name='Study organ system')\n",
    "dataset_description.add_values(\"image processing\", row_name='Study approach')\n",
    "dataset_description.add_values(\"\"\"dicom2nifti\"\"\", row_name='Study technique')\n",
    "dataset_description.add_values(\"Lin, Chinchien\", \"Gao, Linkun\", row_name='contributorname')\n",
    "#dataset_description.add_values(\"Prasad\", \"Jiali\", row_name='contributorNAME', append=True)\n",
    "#dataset_description.add_values(*[\"bob\", \"db\"], row_name=\"contributor name\", append=True)\n",
    "dataset_description.add_values(\n",
    "    \"https://orcid.org/0000-0001-8170-199X\",\n",
    "    \"https://orcid.org/0000-0001-8171-199X\",\n",
    "    \"https://orcid.org/0000-0001-8172-199X\",\n",
    "    \"https://orcid.org/0000-0001-8173-199X\",\n",
    "    \"https://orcid.org/0000-0001-8174-199X\",\n",
    "    \"https://orcid.org/0000-0001-8176-199X\",\n",
    "    row_name='Contributor orcid')\n",
    "\n",
    "dataset_description.add_values(*[\"University of Auckland\"] * 6, row_name='Contributor affiliation')\n",
    "dataset_description.add_values(*[\"developer\", \"developer\", \"Researcher\", \"Researcher\", \"tester\", \"tester\"],\n",
    "                                      row_name=\"contributor role\")\n",
    "dataset_description.add_values(\"source\", row_name='Identifier description')\n",
    "dataset_description.add_values(\"WasDerivedFrom\", row_name='Relation type')\n",
    "dataset_description.add_values(\"DTP-UUID\", row_name='Identifier')\n",
    "dataset_description.add_values(\"12L digital twin UUID\", row_name='Identifier type')\n",
    "dataset_description.add_values(\"1\", row_name='Number of subjects')\n",
    "dataset_description.add_values(\"1\", row_name='Number of samples')"
   ]
  },
  {
   "cell_type": "markdown",
   "metadata": {},
   "source": [
    "* Get values\n",
    "\n",
    "    The `get_values(field_name: str)` method allows to get values from a specific row or column of the metadata file by providing the row name or column name."
   ]
  },
  {
   "cell_type": "code",
   "execution_count": null,
   "metadata": {},
   "outputs": [],
   "source": [
    "values = dataset_description.get_values(field_name=\"contributorrole\")\n",
    "print(values)"
   ]
  },
  {
   "cell_type": "markdown",
   "metadata": {},
   "source": [
    "* Remove values\n",
    "The `remove_values(*values: Any, field_name: str)` method can be used to remove values from a specific row or column of the metadata file. Two arguments are required for this method: values you want to remove and the row name or column name of the values."
   ]
  },
  {
   "cell_type": "code",
   "execution_count": null,
   "metadata": {},
   "outputs": [],
   "source": [
    "dataset_description.remove_values(\"tester\", field_name=\"contributor role\")"
   ]
  },
  {
   "cell_type": "markdown",
   "metadata": {},
   "source": [
    "* Save datasets including metadata\n",
    "\n",
    "    If encountering any errors when running the above code:\n",
    "        \n",
    "    * Clear outputs and run the code again. If it still doesn't work, create a folder `tmp/template` under the examples folder.\n",
    "    * Run this code in the Jupyter Notebook in browser directly. Do not run this code in IDEs such as Pycharm."
   ]
  },
  {
   "cell_type": "code",
   "execution_count": null,
   "metadata": {},
   "outputs": [],
   "source": [
    "dataset.save(save_dir=save_dir)"
   ]
  },
  {
   "cell_type": "markdown",
   "metadata": {},
   "source": [
    "## 4. Add datasets to dataset primary or derivative folders\n",
    "\n",
    "* Copy data (can either be folders or files) from \"source_data_raw\" to a \"sds_dataset\" parent directory adhering to SDS framework. The \"sds_dataset\" is the primary and default directory.\n"
   ]
  },
  {
   "cell_type": "code",
   "execution_count": null,
   "metadata": {},
   "outputs": [],
   "source": [
    "dataset.add_samples(source_path=\"./test_data/sample1/raw\", subject=\"subject-xyz\", sample=\"sample-1\",\n",
    "                     data_type=\"primary\", sds_parent_dir=save_dir)\n",
    "# If you want to move the data to destination directory, set copy to 'False'.\n",
    "dataset.add_samples(source_path=\"./test_data/sample2/raw\", subject=\"subject-xyz\", sample=\"sample-2\",\n",
    "                 data_type=\"primary\", sds_parent_dir=save_dir)\n",
    "\n",
    "# Copy data from \"source_data_derived\" to a \"sds_dataset\" parent directory adhering to SDS framework.\n",
    "dataset.add_samples(source_path=\"./test_data/sample1/derived\", subject=\"subject-xyz\", sample=\"sample-abc\",\n",
    "                 data_type=\"derivative\", sds_parent_dir=save_dir)"
   ]
  },
  {
   "cell_type": "markdown",
   "metadata": {},
   "source": [
    "* Add subject along with the subject and sample metadata."
   ]
  },
  {
   "cell_type": "code",
   "execution_count": null,
   "metadata": {},
   "outputs": [],
   "source": [
    "# copy data from \"source_data_primary\" to \"sds_dataset\" primary (default) directory\n",
    "dataset.add_subject(source_path=\"./test_data/bids_data/sub-01\", subject=\"subject-1\", subject_metadata={\n",
    "    \"subject id\": \"\",\n",
    "    \"subject experimental group\": \"experimental\",\n",
    "    \"age\": \"041Y\",\n",
    "    \"sex\": \"F\",\n",
    "    \"species\": \"human\",\n",
    "    \"strain\": \"tissue\",\n",
    "    \"age category\": \"middle adulthood\"\n",
    "}, sample_metadata={\n",
    "    \"sample id\": \"\",\n",
    "    \"subject id\": \"\",\n",
    "    \"sample experimental group\": \"experimental\",\n",
    "    \"sample type\": \"tissue\",\n",
    "    \"sample anatomical location\": \"breast tissue\",\n",
    "})"
   ]
  },
  {
   "cell_type": "markdown",
   "metadata": {},
   "source": [
    "* Add a single sample file to the dataset sample folder"
   ]
  },
  {
   "cell_type": "code",
   "execution_count": null,
   "metadata": {},
   "outputs": [],
   "source": [
    "dataset.add_samples(source_path=\"./test_data/sample1/raw/simple_test1.txt\", subject=\"subject-xyz\",\n",
    "                        sample=\"sample-2\",\n",
    "                        data_type=\"primary\", sds_parent_dir=save_dir)"
   ]
  }
 ],
 "metadata": {
  "kernelspec": {
   "display_name": "Python 3",
   "language": "python",
   "name": "python3"
  },
  "language_info": {
   "codemirror_mode": {
    "name": "ipython",
    "version": 3
   },
   "file_extension": ".py",
   "mimetype": "text/x-python",
   "name": "python",
   "nbconvert_exporter": "python",
   "pygments_lexer": "ipython3",
   "version": "3.8.10"
  },
  "orig_nbformat": 4
 },
 "nbformat": 4,
 "nbformat_minor": 2
}
