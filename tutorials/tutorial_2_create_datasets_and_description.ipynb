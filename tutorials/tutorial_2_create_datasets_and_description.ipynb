{
 "cells": [
  {
   "cell_type": "markdown",
   "metadata": {},
   "source": [
    "# Tutorial 2: Create datasets and description\n",
    "This tutorial shows how to create datasets and descpritions in SPARC Data Structure (SDS) format.\n",
    "\n"
   ]
  },
  {
   "cell_type": "markdown",
   "metadata": {},
   "source": [
    "1. Create an empty dataset from the SDS template version 2.0.0. Include the path here.\n",
    "\n",
    "2. Add/update dataset description and save it. List the categories and elements. \n",
    "\n",
    "\n",
    "3. Add your datasets, can either be folder or files.\n",
    "add_data(folder/file)"
   ]
  }
 ],
 "metadata": {
  "language_info": {
   "name": "python"
  },
  "orig_nbformat": 4
 },
 "nbformat": 4,
 "nbformat_minor": 2
}
