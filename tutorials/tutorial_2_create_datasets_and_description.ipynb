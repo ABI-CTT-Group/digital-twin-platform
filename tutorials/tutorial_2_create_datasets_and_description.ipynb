{
 "cells": [
  {
   "cell_type": "markdown",
   "metadata": {},
   "source": [
    "# Tutorial 2: Create datasets and description\n",
    "This tutorial shows how to create datasets and descpritions in SPARC Data Structure (SDS) format.\n",
    "\n"
   ]
  },
  {
   "cell_type": "markdown",
   "metadata": {},
   "source": [
    "## 1. Create an empty SDS dataset or load an existing SDS dataset\n",
    "* Setup sparc-me \n",
    "\n",
    "    Sparc-me is a python tool to explore, enhance, and expand SPARC datasets and their descriptions in accordance with DAIR principles."
   ]
  },
  {
   "cell_type": "code",
   "execution_count": null,
   "metadata": {},
   "outputs": [],
   "source": [
    "from sparc_me import Dataset\n",
    "\n",
    "dataset = Dataset()"
   ]
  },
  {
   "cell_type": "markdown",
   "metadata": {},
   "source": [
    "* Create an empty dataset from the SDS template. \n",
    "\n",
    "    In this tutorial, it is highly recommended to use SDS template version 2.0.0. Remember to include the path of where you want your dataset to be saved. "
   ]
  },
  {
   "cell_type": "code",
   "execution_count": null,
   "metadata": {},
   "outputs": [],
   "source": [
    "save_dir = \"./tmp/template/\"\n",
    "dataset.load_from_template(version=\"2.0.0\")"
   ]
  },
  {
   "cell_type": "markdown",
   "metadata": {},
   "source": [
    "* Load an existing SDS dataset (not recommended in this tutorial)"
   ]
  },
  {
   "cell_type": "code",
   "execution_count": null,
   "metadata": {},
   "outputs": [],
   "source": [
    "existing_dir = \"./your/dataset/path/here\"\n",
    "# dataset.load_dataset(dataset_path=existing_dir)"
   ]
  },
  {
   "cell_type": "markdown",
   "metadata": {},
   "source": [
    "## 2. Get metadata files and clear metadata if necessary.\n",
    "\n",
    "This tutorial focus more on the dataset_description metadata file. For other metadata files, replace the category field with the name of the metadata file you want to use e.g., from `category=\"dataset_description\"` to `category=\"code_parameters\"`.\n",
    "\n",
    "* List the categories and elements of metadata files"
   ]
  },
  {
   "cell_type": "code",
   "execution_count": null,
   "metadata": {},
   "outputs": [],
   "source": [
    "categories = dataset.list_categories(version=\"2.0.0\")\n",
    "elements = dataset.list_elements(category=\"dataset_description\", version=\"2.0.0\")"
   ]
  },
  {
   "cell_type": "markdown",
   "metadata": {},
   "source": [
    "* Get metadata file\n",
    "\n",
    "    Again, dataset_description metadata is used as an exmaple here and feel free to replace the category with the name of the metadata file you want to use."
   ]
  },
  {
   "cell_type": "code",
   "execution_count": null,
   "metadata": {},
   "outputs": [],
   "source": [
    "dataset_description = dataset.get_metadata(category=\"dataset_description\")"
   ]
  },
  {
   "cell_type": "markdown",
   "metadata": {},
   "source": [
    "* (Optional) clear your metadata values before you edit them.\n",
    "    * Clear all metadata values in the dataset_description file\n",
    "    * Clear the entire row (e.g., `field_name='Contributor role'`) of metadata values"
   ]
  },
  {
   "cell_type": "code",
   "execution_count": null,
   "metadata": {},
   "outputs": [],
   "source": [
    "dataset_description.clear_values()"
   ]
  },
  {
   "cell_type": "code",
   "execution_count": null,
   "metadata": {},
   "outputs": [],
   "source": [
    "dataset_description.clear_values(field_name='Contributor role')"
   ]
  },
  {
   "cell_type": "markdown",
   "metadata": {},
   "source": [
    "## 3. Add/update metadata values and save them"
   ]
  },
  {
   "cell_type": "markdown",
   "metadata": {},
   "source": [
    "* This function allows you to add or update metadata values\n",
    "\n",
    "    `add_values( *values: Any, row_name: str = '', header: str = '', append: bool = True)`\n",
    "\n",
    "    * `*values` allows single or multiple string values for metadata values you would like to add or update.\n",
    "    * `row_name` is the row heading in the `dataset_description` and `code_description` metadata files or elements in other metadata files.  Only these two metadata files have both row and coloum headings while other files only have column heading. Thereforre, it is recommended to use this parameter and add values by rows in `dataset_description` and `code_description` metadata files.\n",
    "    * `header` takes the column heading in metadata file. The default value of header in `dataset_description` and `code_description` is `Value` column, feel free to specify yours. In other metadata files such as code_parameters, manifest, performances, resources, samples, subjects, and submission, it is recommended to use this parameter and add values by column.\n",
    "    * `append` takes a boolean value. The default value is True, which appends an element to the end of the list. If the append is set to False, the values will be overwritten/replaced with the new values you specify."
   ]
  },
  {
   "cell_type": "code",
   "execution_count": null,
   "metadata": {},
   "outputs": [],
   "source": [
    "dataset_description.add_values(\"2.0.0\", row_name='metadataversion')\n",
    "dataset_description.add_values(\"experimental\", row_name='type')\n",
    "dataset_description.add_values(\"Duke breast cancer MRI preprocessing\", row_name='Title')\n",
    "dataset_description.add_values(\"\"\"Preprocessing the breast cancer MRI images and saving in Nifti format\"\"\",\n",
    "                                      row_name='subtitle')\n",
    "dataset_description.add_values(\"Breast cancer\", \"image processing\", row_name='Keywords')\n",
    "dataset_description.add_values(\"\"\"Preprocessing the breast cancer MRI images and saving in Nifti format\"\"\",\n",
    "                                      row_name=\"Study purpose\")\n",
    "dataset_description.add_values(\"derived from Duke Breast Cancer MRI dataset\",\n",
    "                                      row_name='Study data Collection')\n",
    "dataset_description.add_values(\"NA\", row_name='Study primary conclusion')\n",
    "#dataset_description.add_values(\"NA\", row_name='Study primary conclusion', append=True)\n",
    "dataset_description.add_values(\"breast\", row_name='Study organ system')\n",
    "dataset_description.add_values(\"image processing\", row_name='Study approach')\n",
    "dataset_description.add_values(\"\"\"dicom2nifti\"\"\", row_name='Study technique')\n",
    "dataset_description.add_values(\"Lin, Chinchien\", \"Gao, Linkun\", row_name='contributorname')\n",
    "#dataset_description.add_values(\"Prasad\", \"Jiali\", row_name='contributorNAME', append=True)\n",
    "#dataset_description.add_values(*[\"bob\", \"db\"], row_name=\"contributor name\", append=True)\n",
    "dataset_description.add_values(\n",
    "    \"https://orcid.org/0000-0001-8170-199X\",\n",
    "    \"https://orcid.org/0000-0001-8171-199X\",\n",
    "    \"https://orcid.org/0000-0001-8172-199X\",\n",
    "    \"https://orcid.org/0000-0001-8173-199X\",\n",
    "    \"https://orcid.org/0000-0001-8174-199X\",\n",
    "    \"https://orcid.org/0000-0001-8176-199X\",\n",
    "    row_name='Contributor orcid')\n",
    "\n",
    "dataset_description.add_values(*[\"University of Auckland\"] * 6, row_name='Contributor affiliation')\n",
    "dataset_description.add_values(*[\"developer\", \"developer\", \"Researcher\", \"Researcher\", \"tester\", \"tester\"],\n",
    "                                      row_name=\"contributor role\")\n",
    "dataset_description.add_values(\"source\", row_name='Identifier description')\n",
    "dataset_description.add_values(\"WasDerivedFrom\", row_name='Relation type')\n",
    "dataset_description.add_values(\"DTP-UUID\", row_name='Identifier')\n",
    "dataset_description.add_values(\"12L digital twin UUID\", row_name='Identifier type')\n",
    "dataset_description.add_values(\"1\", row_name='Number of subjects')\n",
    "dataset_description.add_values(\"1\", row_name='Number of samples')"
   ]
  },
  {
   "cell_type": "markdown",
   "metadata": {},
   "source": [
    "## 4. Add your datasets, can either be folder or files.\n",
    "add_data(folder/file)"
   ]
  }
 ],
 "metadata": {
  "kernelspec": {
   "display_name": "Python 3",
   "language": "python",
   "name": "python3"
  },
  "language_info": {
   "codemirror_mode": {
    "name": "ipython",
    "version": 3
   },
   "file_extension": ".py",
   "mimetype": "text/x-python",
   "name": "python",
   "nbconvert_exporter": "python",
   "pygments_lexer": "ipython3",
   "version": "3.8.10"
  },
  "orig_nbformat": 4
 },
 "nbformat": 4,
 "nbformat_minor": 2
}
