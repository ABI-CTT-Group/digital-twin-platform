{
 "cells": [
  {
   "cell_type": "markdown",
   "metadata": {},
   "source": [
    "# Tutorial 1: Getting started\n",
    "This tutorial provides a step-by-step guide on how to interact with the Digital Twin Platform hosted on eResearch virtual machine (VM) from your local system. \n",
    "\n",
    "You'll learn:\n",
    "* How to log into your VM (each 12 LABOURS exemplar project has a VM)\n",
    "* How to retrieve an API key from GEN3 Data Commons\n",
    "* How to create a virtual environment and install dependencies to interact with the Digital Twin Platform.\n",
    "\n",
    "For optimal interaction with the Digital Twin Platform, we highly recommend using Linux operating system. Windows is compatible, but may have operational nuances compared to Linux."
   ]
  },
  {
   "cell_type": "markdown",
   "metadata": {},
   "source": [
    "## 1. Instructions on logging into VM on localhost with port forwarding (TO DO: check the port numbers to be mapped)\n",
    "\n",
    "* IRODS\n",
    "\n",
    "    Each 12 LABOURS exemplar project has a VM for storing your own data on IRODS. The project specific VM address are the following:\n",
    "    * abi-12l-ep1.its.auckland.ac.nz (for exemplar project 1)\n",
    "    * abi-12l-ep2.its.auckland.ac.nz (for exemplar project 2)\n",
    "    * abi-12l-ep2a.its.auckland.ac.nz (for exemplar project 3)\n",
    "    \n",
    "    From a terminal / console shell, update `Address` and run the following command with your own UPI:\n",
    "    ```\n",
    "    ssh -L 3000:localhost:3000 UPI@Address\n",
    "    ```\n",
    "* GEN3\n",
    "\n",
    "    All 12 LABOURS exemplar projects have the same VM for storing metadata on GEN3.\n",
    "\n",
    "    ```\n",
    "    ssh -L 3000:localhost:3000 UPI@abi-12l.its.auckland.ac.nz\n",
    "    ```\n",
    "\n",
    "\n",
    "Two factor authentification is required to log into eReasearch VM.\n",
    "* When prompted, enter your University of Auckland (UoA) login password and the UoA token in the format of `password:token`. Open your Authy app to find the UoA token."
   ]
  },
  {
   "cell_type": "markdown",
   "metadata": {},
   "source": [
    "<img src=\"images/Logging_into_VM.png\" width=\"50%\"/>"
   ]
  },
  {
   "cell_type": "markdown",
   "metadata": {},
   "source": [
    "## 3. Getting GEN3 API key\n",
    "For 12 LABOURS exemplar projects, a Digital Twin Platform instance has been created for your project on a UoA Centre for eResearch Virtual Machine (Linux operating system). An example Digital Twin Platform instance is running on Nectar Cloud (for publicly available data only) and it is used here to illustarte the steps of obtaining GEN3 API key.\n",
    "\n",
    "* [GEN3 website](https://gen3.abi-ctt-ctp.cloud.edu.au/identity). To be confirmed [TO DO]\n",
    "\n",
    "* The GEN3 API key is provided to you as \"credentials.json\". You need it for this tutorial.\n",
    "\n",
    "* Move the 'credentials.json' file to the same folder where ‘config.ini’ file is located. Specify the path of the 'credentials.json' file inside the ‘config.ini’ file to connect to the 12 LABOURS Digital Twin platform."
   ]
  },
  {
   "cell_type": "markdown",
   "metadata": {},
   "source": [
    "## 4. Installation\n",
    "Here is the [link](../README.md) to the readme instructions for creating a python environment and installing dependencies for accessing the Digital Twin Platform.\n",
    "\n"
   ]
  }
 ],
 "metadata": {
  "kernelspec": {
   "display_name": "Python 3",
   "language": "python",
   "name": "python3"
  },
  "language_info": {
   "codemirror_mode": {
    "name": "ipython",
    "version": 3
   },
   "file_extension": ".py",
   "mimetype": "text/x-python",
   "name": "python",
   "nbconvert_exporter": "python",
   "pygments_lexer": "ipython3",
   "version": "3.8.10"
  },
  "orig_nbformat": 4
 },
 "nbformat": 4,
 "nbformat_minor": 2
}
