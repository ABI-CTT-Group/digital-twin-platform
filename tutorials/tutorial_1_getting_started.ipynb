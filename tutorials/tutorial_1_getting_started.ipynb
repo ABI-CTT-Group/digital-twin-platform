{
 "cells": [
  {
   "cell_type": "markdown",
   "metadata": {
    "pycharm": {
     "name": "#%% md\n"
    }
   },
   "source": [
    "# Tutorial 1: Getting started with the 12 LABOURS DigitalTWINS platfom\n",
    "\n",
    "## Introduction\n",
    "This tutorial shows how to get access to and interact with the 12 LABOURS DigitalTWINS Platform and its web portal.\n",
    "\n",
    "## Definitions\n",
    "API - Application Programming Interface used to access the features or data of an application or service.\n",
    "CTT - ABI Clinical Translational Technologies Research Group\n",
    "\n",
    "## Learning outcomes\n",
    "In this tutorial, you will learn how to:\n",
    "- install the platform's API.\n",
    "- connect to the platform.\n",
    "- access the platform's web portal.\n",
    "\n",
    "## Installing the platform's API\n",
    "We will connect to the DigitalTWINS platform programmatically using its Python API, which is called `digitaltwins`. It is designed to be used with the `sparc-me` Python tool, which is used for managing datasets.\n",
    "\n",
    "### 1. **Setting up a virtual environment (optional but recommended)**\n",
    "\n",
    "It is recommended to use a virtual environment instead of your system environment. Your integrated development environment (IDE) software e.g. (PyCharm, VisualStudio Code etc) provides the ability to create a Python virtual environment for new projects. The code below shows how to create a new Python virtual environment directly from the Linux or Mac terminal or from the Windows PowerShell (will be stored in a new folder named **venv** in the current working directory), and how to activate the virtual environment.\n",
    "\n",
    "Linux and MacOS\n",
    "```\n",
    "python3 -m venv venv\n",
    "source venv/bin/activate\n",
    "```\n",
    "\n",
    "Windows\n",
    "```\n",
    "python3 -m venv venv\n",
    "venv\\Scripts\\activate\n",
    "```\n",
    "### 2. **Installing digitaltwins and sparc-me from PyPI**\n",
    "```\n",
    "pip install digitaltwins\n",
    "pip install sparc-me\n",
    "```\n",
    "\n",
    "## Accessing your local eResearch storage drive\n",
    "For security reasons, the CTT team have placed project specific documentation for connecting to your instance of the 12 LABOURS DigitalTWINS platform on your project-specific eResearch drive. Please see the [Workshop FAQ Section of the 12 LABOURS DigitalTWINS platform user documentation] to find the instructions for mounting your eResearch drive.\n",
    "\n",
    "## Connecting to the platform\n",
    "\n",
    "### 1. Open a terminal on your computer\n",
    "\n",
    "- Windows users: Open Windows PowerShell.\n",
    "- Linux or Mac users: Open a terminal.\n",
    "\n",
    "### 2. Enter the following command to connect to your virtual machine (VM).\n",
    "\n",
    "- Replace UPI with your University of Auckland UPI.\n",
    "- Replace VM_ADDRESS with the VM address the virtual machine that has been assigned to your project (e.g. X@aucland.ac.nz). You can find the VM address for your VM in the `README.txt` file located in the root directory of your eResearch storage drive.\n",
    "\n",
    "`ssh -L 3000:localhost:3000 -L 8000:localhost:8000 -L 80:localhost:80 -L 443:localhost:443 -L 1247:localhost:1247 UPI@VM_ADDRESS`\n",
    "\n",
    "When prompted, enter your University of Auckland password and 2-factor authentication code separated by a colon ie `UOA_PASSWORD:TWO_FACTOR_AUTHENTICATION_CODE`. For security reasons, the password or text cursor may not show as you type in your password.\n",
    "\n",
    "If successful, a command prompt will appear. Please leave this terminal running in the background.\n",
    "\n",
    "### 3. Locating your platform API configuration file\n",
    "\n",
    "A configuration file is required to programmatically interact with your instance of the platform. The path to this file needs to be specified when connecting to the platform using the `digitaltwins` Python API in Tutorials 2 and 5. The location of your project-specific configuration file can be found in the `README.txt` file located in the root directory of your eResearch storage drive. **Please do not copy, move, or share the configuration file**.\n",
    "\n",
    "### Troubleshooting\n",
    "Sometimes you need to connect to VPN even if you are on campus (UoA IT ticket has been submitted and CeR are following up).\n",
    "\n",
    "## Accessing the platform's web portal\n",
    "Once you have connected to the platform, open https://localhost:3000 in a web browser to access the web portal for the 12 LABOURS DigitalTWINS platform. The data catalogue can be found from the `View data browswer` link on the `DATA & MODELS` page.\n",
    "\n",
    "Please wait a moment for the datasets to load. If the datasets still do not load, then please reload the website.\n",
    "\n",
    "## Next steps\n",
    "The [next tutorial](https://github.com/ABI-CTT-Group/digitaltwins-api/blob/main/tutorials/tutorial_2_exploring_and_downloading_platform_datasets.ipynb) will show how to explore and download datasets from the 12 LABOURS DigitalTWINS platform."
   ]
  },
  {
   "cell_type": "code",
   "execution_count": null,
   "outputs": [],
   "source": [],
   "metadata": {
    "collapsed": false,
    "pycharm": {
     "name": "#%%\n"
    }
   }
  }
 ],
 "metadata": {
  "kernelspec": {
   "display_name": "Python 3 (ipykernel)",
   "language": "python",
   "name": "python3"
  },
  "language_info": {
   "codemirror_mode": {
    "name": "ipython",
    "version": 3
   },
   "file_extension": ".py",
   "mimetype": "text/x-python",
   "name": "python",
   "nbconvert_exporter": "python",
   "pygments_lexer": "ipython3",
   "version": "3.11.0"
  }
 },
 "nbformat": 4,
 "nbformat_minor": 2
}