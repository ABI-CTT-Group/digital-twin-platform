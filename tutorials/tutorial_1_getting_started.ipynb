{
 "cells": [
  {
   "cell_type": "markdown",
   "metadata": {},
   "source": [
    "# Tutorial 1: Getting started\n",
    "This tutorial provides a step-by-step guide on how to interact with the Digital Twin Platform hosted on eResearch virtual machine (VM) from your local system. \n",
    "\n",
    "You'll learn:\n",
    "* How to log into your VMs (each 12 LABOURS exemplar project has a VM for storing study data).\n",
    "* How to use the API key that's retrieved from GEN3 Data Commons.\n",
    "* How to create a virtual environment and install dependencies to interact with the Digital Twin Platform.\n",
    "\n",
    "For optimal interaction with the Digital Twin Platform, we highly recommend using Linux operating system. Windows is compatible, but may have operational nuances compared to Linux."
   ]
  },
  {
   "cell_type": "markdown",
   "metadata": {},
   "source": [
    "## 1. Instructions on logging into VM on localhost with port forwarding\n",
    "\n",
    "This section illustrates the process of logging into a VM hosted on your local machine (localhost) by using port forwarding. Port forwarding allows external devices to access services on private networks i.e., VMs in this case. UoA Centre for eResearch VMs (Linux operating system) have already been installed on your localhost.\n",
    "\n",
    "Launch your terminal or console shell. Select and run the following command with your own UPI:\n",
    "\n",
    "* 12L Portal\n",
    "\n",
    "    People within the 12 LABOURS initiatives will use the same VM for accessing 12Labours portal.\n",
    "    \n",
    "    ```\n",
    "    ssh -L 8080:localhost:8080 -L 80:localhost:80 -L 1247:localhost:1247 UPI@bn-cer00436.its.auckland.ac.nz\n",
    "    ```\n",
    "\n",
    "* GEN3\n",
    "\n",
    "    All 12 LABOURS  projects have the same VM for storing and accessing metadata on GEN3.\n",
    "\n",
    "    ```\n",
    "    ssh -L 8080:localhost:8080 -L 80:localhost:80 -L 1247:localhost:1247 UPI@bn-cer00436.its.auckland.ac.nz\n",
    "    ```\n",
    "\n",
    "* IRODS\n",
    "\n",
    "    Each 12 LABOURS exemplar project has a VM for storing your own data on IRODS. The project specific VM address are the following:\n",
    "    ```\n",
    "    ssh -L 1248:localhost:1247 UPI@abi-12l-ep1.its.auckland.ac.nz (for exemplar project 1)\n",
    "    ssh -L 1248:localhost:1247 UPI@abi-12l-ep2.its.auckland.ac.nz (for exemplar project 2)\n",
    "    ssh -L 1248:localhost:1247 UPI@abi-12l-ep2a.its.auckland.ac.nz (for exemplar project 3)\n",
    "    ssh -L 8080:localhost:8080 -L 80:localhost:80 -L 1247:localhost:1247 UPI@bn-cer00436.its.auckland.ac.nz (for other 12L projects)\n",
    "    ```\n",
    "\n",
    "Two factor authentification is required to log into eReasearch VM.\n",
    "* When prompted, enter your University of Auckland (UoA) login password and the UoA token in the format of `password:token`. Open your Authy app to find the UoA token."
   ]
  },
  {
   "cell_type": "markdown",
   "metadata": {},
   "source": [
    "<img src=\"images/Logging_into_VM.png\" width=\"50%\"/>"
   ]
  },
  {
   "cell_type": "markdown",
   "metadata": {},
   "source": [
    "## 3. Using the provided API Key to access the portal\n",
    "A Digital Twin Platform instance has been created for 12 LABOURS projects on a VM.\n",
    "\n",
    "* The API key is provided to you as 'credentials.json'. You need it for the tutorials 3-6.\n",
    "\n",
    "* The 'config.ini' file, which is also provided to you, contains the information necessary for connecting to the 12 LABOURS Digital Twin platform.\n",
    "\n",
    "* Specify the path of the 'credentials.json' file inside the ‘config.ini’ file. For convenience, we recommend placing both the 'credentials.json' and 'config.ini' files in the same folder.\n"
   ]
  },
  {
   "cell_type": "markdown",
   "metadata": {},
   "source": [
    "## 4. Installation\n",
    "Here is the [link](../README.md) to the readme instructions for creating a python environment and installing dependencies for accessing the Digital Twin Platform.\n",
    "\n"
   ]
  }
 ],
 "metadata": {
  "kernelspec": {
   "display_name": "Python 3",
   "language": "python",
   "name": "python3"
  },
  "language_info": {
   "codemirror_mode": {
    "name": "ipython",
    "version": 3
   },
   "file_extension": ".py",
   "mimetype": "text/x-python",
   "name": "python",
   "nbconvert_exporter": "python",
   "pygments_lexer": "ipython3",
   "version": "3.8.10"
  },
  "orig_nbformat": 4
 },
 "nbformat": 4,
 "nbformat_minor": 2
}
