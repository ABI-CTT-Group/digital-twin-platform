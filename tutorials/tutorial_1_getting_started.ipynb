{
 "cells": [
  {
   "cell_type": "markdown",
   "metadata": {},
   "source": [
    "# Tutorial 1: Getting started\n",
    "This tutorial provides a step-by-step guide on how to interact with the Digital Twin Platform hosted on eResearch virtual machine (VM) from your local system. You'll learn how to ...\n",
    "\n",
    "#You'll learn how to retrieve an API key from GEN3 Data Commons, create a virtual environment and install dependencies to interact with the Digital Twin Platform.\n",
    "\n",
    "For optimal interaction with the Digital Twin Platform, we highly recommend using Linux operating system. Windows is compatible, but may have operational nuances compared to Linux."
   ]
  },
  {
   "cell_type": "markdown",
   "metadata": {},
   "source": [
    "## 1. Instructions on logging into VM on localhost with port forwarding\n",
    "\n",
    "From a terminal / console shell, run the following command with your own UPI (TO DO: check the port numbers to be mapped):\n",
    "\n",
    "```\n",
    "ssh -L 3000:localhost:3000 UPI@abi-12l.its.auckland.ac.nz\n",
    "```\n",
    "Two factor authentification is required to log into eReasearch VM.\n",
    "* When prompted, enter your University of Auckland (UoA) login password and the UoA token in the format of `password:token`. Open your Authy app to find the UoA token."
   ]
  },
  {
   "cell_type": "markdown",
   "metadata": {},
   "source": [
    "## 2. Pre-requisite: Setting Up Your GEN3 API Account (To be deleted/moved)\n",
    "* Provide your full name, email address, and upi to the administrator.\n",
    "* Once your details are submitted, the system administrator will register you as a user on the platform."
   ]
  },
  {
   "cell_type": "markdown",
   "metadata": {},
   "source": [
    "## 3. Getting GEN3 API key\n",
    "* Navigate to the [GEN3 website](https://gen3.abi-ctt-ctp.cloud.edu.au/identity). To be confirmed [TO DO]"
   ]
  },
  {
   "cell_type": "markdown",
   "metadata": {},
   "source": [
    "![title](images/GEN3_website.png)"
   ]
  },
  {
   "cell_type": "markdown",
   "metadata": {},
   "source": [
    "\n",
    "* Login using your UoA credentials. The Login button can be found at the top right corner of the GEN3 website. Or you can click on the 'Login from Google' button in the middle of the homepage."
   ]
  },
  {
   "cell_type": "markdown",
   "metadata": {},
   "source": [
    "* Click on the 'Create API key' button."
   ]
  },
  {
   "cell_type": "markdown",
   "metadata": {},
   "source": [
    "![title](images/GEN3_website_create_API_key.png)"
   ]
  },
  {
   "cell_type": "markdown",
   "metadata": {},
   "source": [
    "\n",
    "* Once the API key is generated, you will see an option to 'Download' it. Click on this option, and the API key will be saved as \"credentials.json\" to your downloads folder. You will nedd this file for tutorial 3."
   ]
  },
  {
   "cell_type": "markdown",
   "metadata": {},
   "source": [
    "![title](images/GEN3_website_create_API_key_download.png)"
   ]
  },
  {
   "cell_type": "markdown",
   "metadata": {},
   "source": [
    "* Move the 'credentials.json' file to the `configs/templates` folder and specify the path inside the ‘config.ini’ file to connect to the 12 LABOURS Digital Twin platform."
   ]
  },
  {
   "cell_type": "markdown",
   "metadata": {},
   "source": [
    "## 4. Creating a python environment for accessing the Digital Twin Platform\n",
    "It is recommended to use a virtual environment instead of your system environment.\n",
    "\n",
    "### Virtual environment (Recommended)\n",
    "* Create a virtual environment\n",
    "\n",
    "    `python3 -m venv venv/`\n",
    "\n",
    "* Activate the virtual environment\n",
    "\n",
    "    `source venv/bin/activate`\n",
    "\n",
    "\n",
    "* Install the dependencies\n",
    "\n",
    "    `pip install digital-twin-platform`\n",
    "    \n",
    "    `pip install ipykernel`\n",
    "\n",
    "### Not using a virtual environment (Not recommended)"
   ]
  }
 ],
 "metadata": {
  "kernelspec": {
   "display_name": "Python 3",
   "language": "python",
   "name": "python3"
  },
  "language_info": {
   "codemirror_mode": {
    "name": "ipython",
    "version": 3
   },
   "file_extension": ".py",
   "mimetype": "text/x-python",
   "name": "python",
   "nbconvert_exporter": "python",
   "pygments_lexer": "ipython3",
   "version": "3.8.10"
  },
  "orig_nbformat": 4
 },
 "nbformat": 4,
 "nbformat_minor": 2
}
