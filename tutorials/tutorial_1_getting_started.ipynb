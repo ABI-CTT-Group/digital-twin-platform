{
 "cells": [
  {
   "cell_type": "markdown",
   "metadata": {},
   "source": [
    "# Tutorial 1: Getting started with the 12 LABOURS DigitalTWINS platfom\n",
    "\n",
    "## Introduction\n",
    "This tutorial shows how to get access to and interact with the 12 LABOURS DigitalTWINS Platform and its web portal.\n",
    "\n",
    "## Definitions\n",
    "API - Application Programming Interface used to access the features or data of an application or service.\n",
    "\n",
    "## Learning outcomes\n",
    "In this tutorial, you will learn how to:\n",
    "- install the platform's API.\n",
    "- connect to the platform.\n",
    "- access the platform's web portal.\n",
    "\n",
    "## Installing the platform's API\n",
    "The platform's python API is called `digitaltwins`. The instructions for installing it can be found on the installation section of the [digitaltwins-api readme file](https://github.com/ABI-CTT-Group/digitaltwins-api/tree/main). \n",
    "\n",
    "## Connecting to the platform\n",
    "Please contact your 12 LABOURS DigitalTWINS platform administrator to obtain instructions for accessing the platform.\n",
    "\n",
    "## Accesing the platform's web portal\n",
    "The web portal is accessible at https://localhost:3000.\n",
    "\n",
    "## Next steps\n",
    "The next tutorial will show how to explore and download datasets from the 12 LABOURS DigitalTWINS platform."
   ]
  }
 ],
 "metadata": {
  "kernelspec": {
   "display_name": "Python 3 (ipykernel)",
   "language": "python",
   "name": "python3"
  },
  "language_info": {
   "codemirror_mode": {
    "name": "ipython",
    "version": 3
   },
   "file_extension": ".py",
   "mimetype": "text/x-python",
   "name": "python",
   "nbconvert_exporter": "python",
   "pygments_lexer": "ipython3",
   "version": "3.11.0"
  }
 },
 "nbformat": 4,
 "nbformat_minor": 2
}
