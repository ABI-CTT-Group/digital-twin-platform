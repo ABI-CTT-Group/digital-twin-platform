{
 "cells": [
  {
   "cell_type": "markdown",
   "metadata": {},
   "source": "# Tutorial: digitaltwins api\n"
  },
  {
   "metadata": {},
   "cell_type": "markdown",
   "source": [
    "## Introduction\n",
    "The 12 LABOURS DigitalTWINS Platform’s harmonised database is organised into **Programs** and **Projects**. For example, Exemplar Project 1 (**EP1**) is a project within the 12 LABOURS (**12L**) Program. Users can only access and download datasets from these projects once they have been granted access. This tutorial shows how to find existing datasets from the DigitalTWINS Platform's portal or its Python API."
   ]
  },
  {
   "metadata": {},
   "cell_type": "markdown",
   "source": [
    "## Definitions\n",
    "\n",
    "- SPARC dataset structure: data within the DigitalTWINS platform is stored in the SPARC Dataset Structure (SDS). More information about SDS datasets can be found on the SPARC project's documentation. The use of SDS datasets in the 12 LABOURS DigitaTWINS platform is described in the following presentation."
   ]
  },
  {
   "metadata": {},
   "cell_type": "markdown",
   "source": [
    "## Learning outcomes\n",
    "\n",
    "In this tutorial, you will learn how to:\n",
    "- find existing datasets stored in the platform's portal.\n",
    "- access the platform using the `digitaltwins` Python API and find existing datasets."
   ]
  },
  {
   "metadata": {},
   "cell_type": "markdown",
   "source": [
    "## Finding datasets using the platform's portal\n",
    "Visit the [DigitalTWINS platform's portal](http://130.216.217.173:3000/data/browser?type=dataset&page=1&limit=1000) hosted on the Nectar research cloud"
   ]
  },
  {
   "metadata": {},
   "cell_type": "markdown",
   "source": "## Finding datasets in the platform using the `digitaltwins` Python API"
  },
  {
   "metadata": {},
   "cell_type": "markdown",
   "source": "Installing the digitaltwins API"
  },
  {
   "metadata": {},
   "cell_type": "code",
   "source": "! pip install digitaltwins==1.0b2",
   "outputs": [],
   "execution_count": null
  },
  {
   "metadata": {},
   "cell_type": "markdown",
   "source": "Setting up the connection to the platform:"
  },
  {
   "metadata": {},
   "cell_type": "code",
   "source": [
    "from digitaltwins import Connection\n",
    "\n",
    "connection = Connection(host=\"130.216.217.173\", \n",
    "                        port = \"5433\", \n",
    "                        database = \"digitaltwins\", \n",
    "                        user = \"postgres_read\", \n",
    "                        password = \"postgres_read\")\n",
    "connection.connect()\n"
   ],
   "outputs": [],
   "execution_count": null
  },
  {
   "metadata": {},
   "cell_type": "markdown",
   "source": "Getting ready to query the platform"
  },
  {
   "metadata": {},
   "cell_type": "code",
   "source": [
    "from digitaltwins.metadata.querier import Querier\n",
    "querier = Querier(connection)"
   ],
   "outputs": [],
   "execution_count": null
  },
  {
   "metadata": {},
   "cell_type": "markdown",
   "source": "Listing programs"
  },
  {
   "metadata": {},
   "cell_type": "code",
   "source": "querier.get_programs()",
   "outputs": [],
   "execution_count": null
  },
  {
   "metadata": {},
   "cell_type": "markdown",
   "source": "Listing projects"
  },
  {
   "metadata": {},
   "cell_type": "code",
   "source": "querier.get_projects()",
   "outputs": [],
   "execution_count": null
  },
  {
   "metadata": {},
   "cell_type": "markdown",
   "source": "Listing all datasets"
  },
  {
   "metadata": {},
   "cell_type": "code",
   "source": "querier.get_datasets()",
   "outputs": [],
   "execution_count": null
  },
  {
   "metadata": {},
   "cell_type": "markdown",
   "source": "Finding measurement datasets"
  },
  {
   "metadata": {},
   "cell_type": "code",
   "source": "querier.get_datasets(categories=[\"measurement\"])",
   "outputs": [],
   "execution_count": null
  },
  {
   "metadata": {},
   "cell_type": "markdown",
   "source": "Finding workflow datasets"
  },
  {
   "metadata": {},
   "cell_type": "code",
   "source": "querier.get_datasets(categories=[\"workflow\"])",
   "outputs": [],
   "execution_count": null
  },
  {
   "metadata": {},
   "cell_type": "markdown",
   "source": "Finding tool datasets"
  },
  {
   "metadata": {},
   "cell_type": "code",
   "source": "querier.get_datasets(categories=[\"tool\"])",
   "outputs": [],
   "execution_count": null
  },
  {
   "metadata": {},
   "cell_type": "markdown",
   "source": "Finding model datasetd"
  },
  {
   "metadata": {},
   "cell_type": "code",
   "source": "querier.get_datasets(categories=[\"model\"])",
   "outputs": [],
   "execution_count": null
  },
  {
   "metadata": {},
   "cell_type": "markdown",
   "source": "finding both measurements and workflows datasets"
  },
  {
   "metadata": {},
   "cell_type": "code",
   "source": "querier.get_datasets(categories=[\"measurement\", \"workflow\"])",
   "outputs": [],
   "execution_count": null
  },
  {
   "metadata": {},
   "cell_type": "code",
   "source": "",
   "outputs": [],
   "execution_count": null
  }
 ],
 "metadata": {
  "kernelspec": {
   "display_name": "Python 3 (ipykernel)",
   "language": "python",
   "name": "python3"
  },
  "language_info": {
   "codemirror_mode": {
    "name": "ipython",
    "version": 3
   },
   "file_extension": ".py",
   "mimetype": "text/x-python",
   "name": "python",
   "nbconvert_exporter": "python",
   "pygments_lexer": "ipython3",
   "version": "3.9.13"
  }
 },
 "nbformat": 4,
 "nbformat_minor": 2
}
