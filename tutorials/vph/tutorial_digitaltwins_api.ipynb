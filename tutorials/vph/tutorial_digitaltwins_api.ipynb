{
 "cells": [
  {
   "cell_type": "markdown",
   "metadata": {},
   "source": "# Tutorial: digitaltwins api\n"
  },
  {
   "metadata": {},
   "cell_type": "markdown",
   "source": [
    "## Introduction\n",
    "The 12 LABOURS DigitalTWINS Platform’s harmonised database is organised into **Programs** and **Projects**. For example, Exemplar Project 1 (**EP1**) is a project within the 12 LABOURS (**12L**) Program. Users can only access and download datasets from these projects once they have been granted access. This tutorial shows how to find existing datasets from the DigitalTWINS Platform's portal or its Python API."
   ]
  },
  {
   "metadata": {},
   "cell_type": "markdown",
   "source": [
    "## Definitions\n",
    "\n",
    "- SPARC dataset structure: data within the DigitalTWINS platform is stored in the SPARC Dataset Structure (SDS). More information about SDS datasets can be found on the SPARC project's documentation. The use of SDS datasets in the 12 LABOURS DigitaTWINS platform is described in the following presentation."
   ]
  },
  {
   "metadata": {},
   "cell_type": "markdown",
   "source": [
    "## Learning outcomes\n",
    "\n",
    "In this tutorial, you will learn how to:\n",
    "- find existing datasets stored in the platform's portal.\n",
    "- access the platform using the `digitaltwins` Python API and find existing datasets."
   ]
  },
  {
   "metadata": {},
   "cell_type": "markdown",
   "source": [
    "## Finding datasets using the platform's portal\n",
    "Visit the [DigitalTWINS platform's portal](http://130.216.217.173:3000/data/browser?type=dataset&page=1&limit=1000) hosted on the Nectar research cloud"
   ]
  },
  {
   "metadata": {},
   "cell_type": "markdown",
   "source": "## Finding datasets in the platform using the `digitaltwins` Python API"
  },
  {
   "metadata": {},
   "cell_type": "markdown",
   "source": "Installing the digitaltwins API"
  },
  {
   "metadata": {
    "ExecuteTime": {
     "end_time": "2024-09-04T02:44:14.950868Z",
     "start_time": "2024-09-04T02:44:12.412565Z"
    }
   },
   "cell_type": "code",
   "source": "! pip install digitaltwins==1.0b1",
   "outputs": [
    {
     "name": "stdout",
     "output_type": "stream",
     "text": [
      "Requirement already satisfied: digitaltwins==1.0b1 in /home/clin864/opt/digitaltwins-api (1.0b1)\r\n",
      "Requirement already satisfied: psycopg2 in /home/clin864/opt/digitaltwins-api/venv_39_dev/lib/python3.9/site-packages (from digitaltwins==1.0b1) (2.9.9)\r\n",
      "Requirement already satisfied: python-irodsclient>=1.1.8 in /home/clin864/opt/digitaltwins-api/venv_39_dev/lib/python3.9/site-packages (from digitaltwins==1.0b1) (2.1.0)\r\n",
      "Requirement already satisfied: PrettyTable>=0.7.2 in /home/clin864/opt/digitaltwins-api/venv_39_dev/lib/python3.9/site-packages (from python-irodsclient>=1.1.8->digitaltwins==1.0b1) (3.11.0)\r\n",
      "Requirement already satisfied: defusedxml in /home/clin864/opt/digitaltwins-api/venv_39_dev/lib/python3.9/site-packages (from python-irodsclient>=1.1.8->digitaltwins==1.0b1) (0.7.1)\r\n",
      "Requirement already satisfied: six>=1.10.0 in /home/clin864/opt/digitaltwins-api/venv_39_dev/lib/python3.9/site-packages (from python-irodsclient>=1.1.8->digitaltwins==1.0b1) (1.16.0)\r\n",
      "Requirement already satisfied: wcwidth in /home/clin864/opt/digitaltwins-api/venv_39_dev/lib/python3.9/site-packages (from PrettyTable>=0.7.2->python-irodsclient>=1.1.8->digitaltwins==1.0b1) (0.2.13)\r\n",
      "\r\n",
      "\u001B[1m[\u001B[0m\u001B[34;49mnotice\u001B[0m\u001B[1;39;49m]\u001B[0m\u001B[39;49m A new release of pip is available: \u001B[0m\u001B[31;49m23.2.1\u001B[0m\u001B[39;49m -> \u001B[0m\u001B[32;49m24.2\u001B[0m\r\n",
      "\u001B[1m[\u001B[0m\u001B[34;49mnotice\u001B[0m\u001B[1;39;49m]\u001B[0m\u001B[39;49m To update, run: \u001B[0m\u001B[32;49mpip install --upgrade pip\u001B[0m\r\n"
     ]
    }
   ],
   "execution_count": 24
  },
  {
   "metadata": {},
   "cell_type": "markdown",
   "source": "Setting up the connection to the platform:"
  },
  {
   "metadata": {
    "ExecuteTime": {
     "end_time": "2024-09-04T02:44:15.020677Z",
     "start_time": "2024-09-04T02:44:14.953571Z"
    }
   },
   "cell_type": "code",
   "source": [
    "from digitaltwins import Connection\n",
    "\n",
    "connection = Connection(host=\"130.216.217.173\", \n",
    "                        port = \"5433\", \n",
    "                        database = \"digitaltwins\", \n",
    "                        user = \"postgres\", \n",
    "                        password = \"postgres\")\n",
    "connection.connect()\n"
   ],
   "outputs": [
    {
     "data": {
      "text/plain": [
       "(<connection object at 0x7af34e1b7900; dsn: 'user=postgres password=xxx dbname=digitaltwins host=130.216.217.173 port=5433', closed: 0>,\n",
       " <cursor object at 0x7af34e0de7c0; closed: 0>)"
      ]
     },
     "execution_count": 25,
     "metadata": {},
     "output_type": "execute_result"
    }
   ],
   "execution_count": 25
  },
  {
   "metadata": {},
   "cell_type": "markdown",
   "source": "Getting ready to query the platform"
  },
  {
   "metadata": {
    "ExecuteTime": {
     "end_time": "2024-09-04T02:44:15.025991Z",
     "start_time": "2024-09-04T02:44:15.022114Z"
    }
   },
   "cell_type": "code",
   "source": [
    "from digitaltwins.metadata.querier import Querier\n",
    "querier = Querier(connection)"
   ],
   "outputs": [],
   "execution_count": 26
  },
  {
   "metadata": {},
   "cell_type": "markdown",
   "source": "Listing programs"
  },
  {
   "metadata": {
    "ExecuteTime": {
     "end_time": "2024-09-04T02:44:15.039352Z",
     "start_time": "2024-09-04T02:44:15.029027Z"
    }
   },
   "cell_type": "code",
   "source": "querier.get_programs()",
   "outputs": [
    {
     "data": {
      "text/plain": [
       "[{'program_uuid': 'e885fc00-ba53-11ee-8dd3-484d7e9beb16',\n",
       "  'program_name': 'program_1'},\n",
       " {'program_uuid': '38d6a83c-5f4d-11ef-917d-484d7e9beb16',\n",
       "  'program_name': '12L'}]"
      ]
     },
     "execution_count": 27,
     "metadata": {},
     "output_type": "execute_result"
    }
   ],
   "execution_count": 27
  },
  {
   "metadata": {},
   "cell_type": "markdown",
   "source": "Listing projects"
  },
  {
   "metadata": {
    "ExecuteTime": {
     "end_time": "2024-09-04T02:44:15.051479Z",
     "start_time": "2024-09-04T02:44:15.042731Z"
    }
   },
   "cell_type": "code",
   "source": "querier.get_projects()",
   "outputs": [
    {
     "data": {
      "text/plain": [
       "[{'program_uuid': 'e885fc00-ba53-11ee-8dd3-484d7e9beb16',\n",
       "  'project_uuid': '01480638-ba55-11ee-8dd3-484d7e9beb16',\n",
       "  'project_name': 'project_1'},\n",
       " {'program_uuid': 'e885fc00-ba53-11ee-8dd3-484d7e9beb16',\n",
       "  'project_uuid': '2e81f3f2-ba55-11ee-8dd3-484d7e9beb16',\n",
       "  'project_name': 'project_2'},\n",
       " {'program_uuid': '38d6a83c-5f4d-11ef-917d-484d7e9beb16',\n",
       "  'project_uuid': '9fce33d4-5f4d-11ef-917d-484d7e9beb16',\n",
       "  'project_name': 'ep4'},\n",
       " {'program_uuid': '38d6a83c-5f4d-11ef-917d-484d7e9beb16',\n",
       "  'project_uuid': 'a611bd1a-5f4d-11ef-917d-484d7e9beb16',\n",
       "  'project_name': 'ep1'}]"
      ]
     },
     "execution_count": 28,
     "metadata": {},
     "output_type": "execute_result"
    }
   ],
   "execution_count": 28
  },
  {
   "metadata": {},
   "cell_type": "markdown",
   "source": "Listing all datasets"
  },
  {
   "metadata": {
    "ExecuteTime": {
     "end_time": "2024-09-04T02:44:15.065991Z",
     "start_time": "2024-09-04T02:44:15.053493Z"
    }
   },
   "cell_type": "code",
   "source": "querier.get_datasets()",
   "outputs": [
    {
     "data": {
      "text/plain": [
       "[{'project_uuid': '9fce33d4-5f4d-11ef-917d-484d7e9beb16',\n",
       "  'dataset_uuid': '93d49efa-5f4e-11ef-917d-484d7e9beb16',\n",
       "  'dataset_id': 3,\n",
       "  'version': 1,\n",
       "  'category': 'measurement',\n",
       "  'dataset_name': 'measurement_dicom'},\n",
       " {'project_uuid': '9fce33d4-5f4d-11ef-917d-484d7e9beb16',\n",
       "  'dataset_uuid': 'ca555e58-5f51-11ef-917d-484d7e9beb16',\n",
       "  'dataset_id': 5,\n",
       "  'version': 1,\n",
       "  'category': 'measurement',\n",
       "  'dataset_name': 'measurement_segmentation'},\n",
       " {'project_uuid': '9fce33d4-5f4d-11ef-917d-484d7e9beb16',\n",
       "  'dataset_uuid': 'e3b3eaa0-65ae-11ef-917d-484d7e9beb16',\n",
       "  'dataset_id': 2,\n",
       "  'version': 1,\n",
       "  'category': 'workflow',\n",
       "  'dataset_name': 'workflow_breast_demo'},\n",
       " {'project_uuid': '9fce33d4-5f4d-11ef-917d-484d7e9beb16',\n",
       "  'dataset_uuid': 'b8041e9c-5f51-11ef-917d-484d7e9beb16',\n",
       "  'dataset_id': 4,\n",
       "  'version': 1,\n",
       "  'category': 'measurement',\n",
       "  'dataset_name': 'measurement_nifti'},\n",
       " {'project_uuid': 'a611bd1a-5f4d-11ef-917d-484d7e9beb16',\n",
       "  'dataset_uuid': 'f5e1df04-5f53-11ef-917d-484d7e9beb16',\n",
       "  'dataset_id': 6,\n",
       "  'version': 1,\n",
       "  'category': 'measurement',\n",
       "  'dataset_name': 'measurement_point_cloud'},\n",
       " {'project_uuid': '9fce33d4-5f4d-11ef-917d-484d7e9beb16',\n",
       "  'dataset_uuid': 'c4de2c1e-65ac-11ef-917d-484d7e9beb16',\n",
       "  'dataset_id': 7,\n",
       "  'version': 1,\n",
       "  'category': 'measurement',\n",
       "  'dataset_name': 'measurement_mesh'},\n",
       " {'project_uuid': '9fce33d4-5f4d-11ef-917d-484d7e9beb16',\n",
       "  'dataset_uuid': 'c4de2c1f-65ac-11ef-917d-484d7e9beb16',\n",
       "  'dataset_id': 8,\n",
       "  'version': 1,\n",
       "  'category': 'measurement',\n",
       "  'dataset_name': 'measurement_tumour_location'},\n",
       " {'project_uuid': '9fce33d4-5f4d-11ef-917d-484d7e9beb16',\n",
       "  'dataset_uuid': 'c4de2c20-65ac-11ef-917d-484d7e9beb16',\n",
       "  'dataset_id': 9,\n",
       "  'version': 1,\n",
       "  'category': 'measurement',\n",
       "  'dataset_name': 'measurement_clinical_report'},\n",
       " {'project_uuid': '9fce33d4-5f4d-11ef-917d-484d7e9beb16',\n",
       "  'dataset_uuid': 'b6b7b362-65ae-11ef-917d-484d7e9beb16',\n",
       "  'dataset_id': 14,\n",
       "  'version': 1,\n",
       "  'category': 'tool',\n",
       "  'dataset_name': 'tool_locate_tumour'},\n",
       " {'project_uuid': '9fce33d4-5f4d-11ef-917d-484d7e9beb16',\n",
       "  'dataset_uuid': 'b6b7b361-65ae-11ef-917d-484d7e9beb16',\n",
       "  'dataset_id': 13,\n",
       "  'version': 1,\n",
       "  'category': 'tool',\n",
       "  'dataset_name': 'tool_create_mesh'},\n",
       " {'project_uuid': '9fce33d4-5f4d-11ef-917d-484d7e9beb16',\n",
       "  'dataset_uuid': '69cfadbc-5f52-11ef-917d-484d7e9beb16',\n",
       "  'dataset_id': 10,\n",
       "  'version': 1,\n",
       "  'category': 'tool',\n",
       "  'dataset_name': 'tool_create_nifti'},\n",
       " {'project_uuid': '9fce33d4-5f4d-11ef-917d-484d7e9beb16',\n",
       "  'dataset_uuid': 'b6b7b363-65ae-11ef-917d-484d7e9beb16',\n",
       "  'dataset_id': 15,\n",
       "  'version': 1,\n",
       "  'category': 'tool',\n",
       "  'dataset_name': 'tool_create_clinical_report'},\n",
       " {'project_uuid': '9fce33d4-5f4d-11ef-917d-484d7e9beb16',\n",
       "  'dataset_uuid': '69cfadbd-5f52-11ef-917d-484d7e9beb16',\n",
       "  'dataset_id': 11,\n",
       "  'version': 1,\n",
       "  'category': 'tool',\n",
       "  'dataset_name': 'tool_segment'},\n",
       " {'project_uuid': '9fce33d4-5f4d-11ef-917d-484d7e9beb16',\n",
       "  'dataset_uuid': '660eac41-5f53-11ef-917d-484d7e9beb16',\n",
       "  'dataset_id': 17,\n",
       "  'version': 1,\n",
       "  'category': 'model',\n",
       "  'dataset_name': 'model_skin_segmentation'},\n",
       " {'project_uuid': '9fce33d4-5f4d-11ef-917d-484d7e9beb16',\n",
       "  'dataset_uuid': 'b6b7b360-65ae-11ef-917d-484d7e9beb16',\n",
       "  'dataset_id': 12,\n",
       "  'version': 1,\n",
       "  'category': 'tool',\n",
       "  'dataset_name': 'tool_create_point_cloud'},\n",
       " {'project_uuid': '9fce33d4-5f4d-11ef-917d-484d7e9beb16',\n",
       "  'dataset_uuid': '660eac40-5f53-11ef-917d-484d7e9beb16',\n",
       "  'dataset_id': 16,\n",
       "  'version': 1,\n",
       "  'category': 'model',\n",
       "  'dataset_name': 'model_lungs_segmentation'},\n",
       " {'project_uuid': '9fce33d4-5f4d-11ef-917d-484d7e9beb16',\n",
       "  'dataset_uuid': 'd8f0b6d4-65ae-11ef-917d-484d7e9beb16',\n",
       "  'dataset_id': 18,\n",
       "  'version': 1,\n",
       "  'category': 'model',\n",
       "  'dataset_name': 'model_pca'},\n",
       " {'project_uuid': 'a611bd1a-5f4d-11ef-917d-484d7e9beb16',\n",
       "  'dataset_uuid': '7c80c900-65b0-11ef-917d-484d7e9beb16',\n",
       "  'dataset_id': 20,\n",
       "  'version': 1,\n",
       "  'category': 'measurement',\n",
       "  'dataset_name': 'measurement_ctpa_dicom'},\n",
       " {'project_uuid': 'a611bd1a-5f4d-11ef-917d-484d7e9beb16',\n",
       "  'dataset_uuid': '7c80c901-65b0-11ef-917d-484d7e9beb16',\n",
       "  'dataset_id': 21,\n",
       "  'version': 1,\n",
       "  'category': 'measurement',\n",
       "  'dataset_name': 'measurement_cardiac_output'},\n",
       " {'project_uuid': 'a611bd1a-5f4d-11ef-917d-484d7e9beb16',\n",
       "  'dataset_uuid': 'e669d202-65b1-11ef-917d-484d7e9beb16',\n",
       "  'dataset_id': 22,\n",
       "  'version': 1,\n",
       "  'category': 'tool',\n",
       "  'dataset_name': 'tool_generate_cardiac_output'},\n",
       " {'project_uuid': 'a611bd1a-5f4d-11ef-917d-484d7e9beb16',\n",
       "  'dataset_uuid': 'f51edde2-65b1-11ef-917d-484d7e9beb16',\n",
       "  'dataset_id': 19,\n",
       "  'version': 1,\n",
       "  'category': 'workflow',\n",
       "  'dataset_name': 'workflow_clinical_reporting_for_cteph_patients'}]"
      ]
     },
     "execution_count": 29,
     "metadata": {},
     "output_type": "execute_result"
    }
   ],
   "execution_count": 29
  },
  {
   "metadata": {},
   "cell_type": "markdown",
   "source": "Finding measurement datasets"
  },
  {
   "metadata": {
    "ExecuteTime": {
     "end_time": "2024-09-04T02:44:15.078283Z",
     "start_time": "2024-09-04T02:44:15.067926Z"
    }
   },
   "cell_type": "code",
   "source": "querier.get_datasets(categories=[\"measurement\"])",
   "outputs": [
    {
     "data": {
      "text/plain": [
       "[{'project_uuid': '9fce33d4-5f4d-11ef-917d-484d7e9beb16',\n",
       "  'dataset_uuid': '93d49efa-5f4e-11ef-917d-484d7e9beb16',\n",
       "  'dataset_id': 3,\n",
       "  'version': 1,\n",
       "  'category': 'measurement',\n",
       "  'dataset_name': 'measurement_dicom'},\n",
       " {'project_uuid': '9fce33d4-5f4d-11ef-917d-484d7e9beb16',\n",
       "  'dataset_uuid': 'ca555e58-5f51-11ef-917d-484d7e9beb16',\n",
       "  'dataset_id': 5,\n",
       "  'version': 1,\n",
       "  'category': 'measurement',\n",
       "  'dataset_name': 'measurement_segmentation'},\n",
       " {'project_uuid': '9fce33d4-5f4d-11ef-917d-484d7e9beb16',\n",
       "  'dataset_uuid': 'b8041e9c-5f51-11ef-917d-484d7e9beb16',\n",
       "  'dataset_id': 4,\n",
       "  'version': 1,\n",
       "  'category': 'measurement',\n",
       "  'dataset_name': 'measurement_nifti'},\n",
       " {'project_uuid': 'a611bd1a-5f4d-11ef-917d-484d7e9beb16',\n",
       "  'dataset_uuid': 'f5e1df04-5f53-11ef-917d-484d7e9beb16',\n",
       "  'dataset_id': 6,\n",
       "  'version': 1,\n",
       "  'category': 'measurement',\n",
       "  'dataset_name': 'measurement_point_cloud'},\n",
       " {'project_uuid': '9fce33d4-5f4d-11ef-917d-484d7e9beb16',\n",
       "  'dataset_uuid': 'c4de2c1e-65ac-11ef-917d-484d7e9beb16',\n",
       "  'dataset_id': 7,\n",
       "  'version': 1,\n",
       "  'category': 'measurement',\n",
       "  'dataset_name': 'measurement_mesh'},\n",
       " {'project_uuid': '9fce33d4-5f4d-11ef-917d-484d7e9beb16',\n",
       "  'dataset_uuid': 'c4de2c1f-65ac-11ef-917d-484d7e9beb16',\n",
       "  'dataset_id': 8,\n",
       "  'version': 1,\n",
       "  'category': 'measurement',\n",
       "  'dataset_name': 'measurement_tumour_location'},\n",
       " {'project_uuid': '9fce33d4-5f4d-11ef-917d-484d7e9beb16',\n",
       "  'dataset_uuid': 'c4de2c20-65ac-11ef-917d-484d7e9beb16',\n",
       "  'dataset_id': 9,\n",
       "  'version': 1,\n",
       "  'category': 'measurement',\n",
       "  'dataset_name': 'measurement_clinical_report'},\n",
       " {'project_uuid': 'a611bd1a-5f4d-11ef-917d-484d7e9beb16',\n",
       "  'dataset_uuid': '7c80c900-65b0-11ef-917d-484d7e9beb16',\n",
       "  'dataset_id': 20,\n",
       "  'version': 1,\n",
       "  'category': 'measurement',\n",
       "  'dataset_name': 'measurement_ctpa_dicom'},\n",
       " {'project_uuid': 'a611bd1a-5f4d-11ef-917d-484d7e9beb16',\n",
       "  'dataset_uuid': '7c80c901-65b0-11ef-917d-484d7e9beb16',\n",
       "  'dataset_id': 21,\n",
       "  'version': 1,\n",
       "  'category': 'measurement',\n",
       "  'dataset_name': 'measurement_cardiac_output'}]"
      ]
     },
     "execution_count": 30,
     "metadata": {},
     "output_type": "execute_result"
    }
   ],
   "execution_count": 30
  },
  {
   "metadata": {},
   "cell_type": "markdown",
   "source": "Finding workflow datasets"
  },
  {
   "metadata": {
    "ExecuteTime": {
     "end_time": "2024-09-04T02:44:15.089945Z",
     "start_time": "2024-09-04T02:44:15.081048Z"
    }
   },
   "cell_type": "code",
   "source": "querier.get_datasets(categories=[\"workflow\"])",
   "outputs": [
    {
     "data": {
      "text/plain": [
       "[{'project_uuid': '9fce33d4-5f4d-11ef-917d-484d7e9beb16',\n",
       "  'dataset_uuid': 'e3b3eaa0-65ae-11ef-917d-484d7e9beb16',\n",
       "  'dataset_id': 2,\n",
       "  'version': 1,\n",
       "  'category': 'workflow',\n",
       "  'dataset_name': 'workflow_breast_demo'},\n",
       " {'project_uuid': 'a611bd1a-5f4d-11ef-917d-484d7e9beb16',\n",
       "  'dataset_uuid': 'f51edde2-65b1-11ef-917d-484d7e9beb16',\n",
       "  'dataset_id': 19,\n",
       "  'version': 1,\n",
       "  'category': 'workflow',\n",
       "  'dataset_name': 'workflow_clinical_reporting_for_cteph_patients'}]"
      ]
     },
     "execution_count": 31,
     "metadata": {},
     "output_type": "execute_result"
    }
   ],
   "execution_count": 31
  },
  {
   "metadata": {},
   "cell_type": "markdown",
   "source": "Finding tool datasets"
  },
  {
   "metadata": {
    "ExecuteTime": {
     "end_time": "2024-09-04T02:44:15.101360Z",
     "start_time": "2024-09-04T02:44:15.092139Z"
    }
   },
   "cell_type": "code",
   "source": "querier.get_datasets(categories=[\"tool\"])",
   "outputs": [
    {
     "data": {
      "text/plain": [
       "[{'project_uuid': '9fce33d4-5f4d-11ef-917d-484d7e9beb16',\n",
       "  'dataset_uuid': 'b6b7b362-65ae-11ef-917d-484d7e9beb16',\n",
       "  'dataset_id': 14,\n",
       "  'version': 1,\n",
       "  'category': 'tool',\n",
       "  'dataset_name': 'tool_locate_tumour'},\n",
       " {'project_uuid': '9fce33d4-5f4d-11ef-917d-484d7e9beb16',\n",
       "  'dataset_uuid': 'b6b7b361-65ae-11ef-917d-484d7e9beb16',\n",
       "  'dataset_id': 13,\n",
       "  'version': 1,\n",
       "  'category': 'tool',\n",
       "  'dataset_name': 'tool_create_mesh'},\n",
       " {'project_uuid': '9fce33d4-5f4d-11ef-917d-484d7e9beb16',\n",
       "  'dataset_uuid': '69cfadbc-5f52-11ef-917d-484d7e9beb16',\n",
       "  'dataset_id': 10,\n",
       "  'version': 1,\n",
       "  'category': 'tool',\n",
       "  'dataset_name': 'tool_create_nifti'},\n",
       " {'project_uuid': '9fce33d4-5f4d-11ef-917d-484d7e9beb16',\n",
       "  'dataset_uuid': 'b6b7b363-65ae-11ef-917d-484d7e9beb16',\n",
       "  'dataset_id': 15,\n",
       "  'version': 1,\n",
       "  'category': 'tool',\n",
       "  'dataset_name': 'tool_create_clinical_report'},\n",
       " {'project_uuid': '9fce33d4-5f4d-11ef-917d-484d7e9beb16',\n",
       "  'dataset_uuid': '69cfadbd-5f52-11ef-917d-484d7e9beb16',\n",
       "  'dataset_id': 11,\n",
       "  'version': 1,\n",
       "  'category': 'tool',\n",
       "  'dataset_name': 'tool_segment'},\n",
       " {'project_uuid': '9fce33d4-5f4d-11ef-917d-484d7e9beb16',\n",
       "  'dataset_uuid': 'b6b7b360-65ae-11ef-917d-484d7e9beb16',\n",
       "  'dataset_id': 12,\n",
       "  'version': 1,\n",
       "  'category': 'tool',\n",
       "  'dataset_name': 'tool_create_point_cloud'},\n",
       " {'project_uuid': 'a611bd1a-5f4d-11ef-917d-484d7e9beb16',\n",
       "  'dataset_uuid': 'e669d202-65b1-11ef-917d-484d7e9beb16',\n",
       "  'dataset_id': 22,\n",
       "  'version': 1,\n",
       "  'category': 'tool',\n",
       "  'dataset_name': 'tool_generate_cardiac_output'}]"
      ]
     },
     "execution_count": 32,
     "metadata": {},
     "output_type": "execute_result"
    }
   ],
   "execution_count": 32
  },
  {
   "metadata": {},
   "cell_type": "markdown",
   "source": "Finding model datasetd"
  },
  {
   "metadata": {
    "ExecuteTime": {
     "end_time": "2024-09-04T02:44:15.114347Z",
     "start_time": "2024-09-04T02:44:15.106271Z"
    }
   },
   "cell_type": "code",
   "source": "querier.get_datasets(categories=[\"model\"])",
   "outputs": [
    {
     "data": {
      "text/plain": [
       "[{'project_uuid': '9fce33d4-5f4d-11ef-917d-484d7e9beb16',\n",
       "  'dataset_uuid': '660eac41-5f53-11ef-917d-484d7e9beb16',\n",
       "  'dataset_id': 17,\n",
       "  'version': 1,\n",
       "  'category': 'model',\n",
       "  'dataset_name': 'model_skin_segmentation'},\n",
       " {'project_uuid': '9fce33d4-5f4d-11ef-917d-484d7e9beb16',\n",
       "  'dataset_uuid': '660eac40-5f53-11ef-917d-484d7e9beb16',\n",
       "  'dataset_id': 16,\n",
       "  'version': 1,\n",
       "  'category': 'model',\n",
       "  'dataset_name': 'model_lungs_segmentation'},\n",
       " {'project_uuid': '9fce33d4-5f4d-11ef-917d-484d7e9beb16',\n",
       "  'dataset_uuid': 'd8f0b6d4-65ae-11ef-917d-484d7e9beb16',\n",
       "  'dataset_id': 18,\n",
       "  'version': 1,\n",
       "  'category': 'model',\n",
       "  'dataset_name': 'model_pca'}]"
      ]
     },
     "execution_count": 33,
     "metadata": {},
     "output_type": "execute_result"
    }
   ],
   "execution_count": 33
  },
  {
   "metadata": {},
   "cell_type": "markdown",
   "source": "finding both measurements and workflows datasets"
  },
  {
   "metadata": {
    "ExecuteTime": {
     "end_time": "2024-09-04T02:44:15.128762Z",
     "start_time": "2024-09-04T02:44:15.116407Z"
    }
   },
   "cell_type": "code",
   "source": "querier.get_datasets(categories=[\"measurement\", \"workflow\"])",
   "outputs": [
    {
     "data": {
      "text/plain": [
       "[{'project_uuid': '9fce33d4-5f4d-11ef-917d-484d7e9beb16',\n",
       "  'dataset_uuid': '93d49efa-5f4e-11ef-917d-484d7e9beb16',\n",
       "  'dataset_id': 3,\n",
       "  'version': 1,\n",
       "  'category': 'measurement',\n",
       "  'dataset_name': 'measurement_dicom'},\n",
       " {'project_uuid': '9fce33d4-5f4d-11ef-917d-484d7e9beb16',\n",
       "  'dataset_uuid': 'ca555e58-5f51-11ef-917d-484d7e9beb16',\n",
       "  'dataset_id': 5,\n",
       "  'version': 1,\n",
       "  'category': 'measurement',\n",
       "  'dataset_name': 'measurement_segmentation'},\n",
       " {'project_uuid': '9fce33d4-5f4d-11ef-917d-484d7e9beb16',\n",
       "  'dataset_uuid': 'e3b3eaa0-65ae-11ef-917d-484d7e9beb16',\n",
       "  'dataset_id': 2,\n",
       "  'version': 1,\n",
       "  'category': 'workflow',\n",
       "  'dataset_name': 'workflow_breast_demo'},\n",
       " {'project_uuid': '9fce33d4-5f4d-11ef-917d-484d7e9beb16',\n",
       "  'dataset_uuid': 'b8041e9c-5f51-11ef-917d-484d7e9beb16',\n",
       "  'dataset_id': 4,\n",
       "  'version': 1,\n",
       "  'category': 'measurement',\n",
       "  'dataset_name': 'measurement_nifti'},\n",
       " {'project_uuid': 'a611bd1a-5f4d-11ef-917d-484d7e9beb16',\n",
       "  'dataset_uuid': 'f5e1df04-5f53-11ef-917d-484d7e9beb16',\n",
       "  'dataset_id': 6,\n",
       "  'version': 1,\n",
       "  'category': 'measurement',\n",
       "  'dataset_name': 'measurement_point_cloud'},\n",
       " {'project_uuid': '9fce33d4-5f4d-11ef-917d-484d7e9beb16',\n",
       "  'dataset_uuid': 'c4de2c1e-65ac-11ef-917d-484d7e9beb16',\n",
       "  'dataset_id': 7,\n",
       "  'version': 1,\n",
       "  'category': 'measurement',\n",
       "  'dataset_name': 'measurement_mesh'},\n",
       " {'project_uuid': '9fce33d4-5f4d-11ef-917d-484d7e9beb16',\n",
       "  'dataset_uuid': 'c4de2c1f-65ac-11ef-917d-484d7e9beb16',\n",
       "  'dataset_id': 8,\n",
       "  'version': 1,\n",
       "  'category': 'measurement',\n",
       "  'dataset_name': 'measurement_tumour_location'},\n",
       " {'project_uuid': '9fce33d4-5f4d-11ef-917d-484d7e9beb16',\n",
       "  'dataset_uuid': 'c4de2c20-65ac-11ef-917d-484d7e9beb16',\n",
       "  'dataset_id': 9,\n",
       "  'version': 1,\n",
       "  'category': 'measurement',\n",
       "  'dataset_name': 'measurement_clinical_report'},\n",
       " {'project_uuid': 'a611bd1a-5f4d-11ef-917d-484d7e9beb16',\n",
       "  'dataset_uuid': '7c80c900-65b0-11ef-917d-484d7e9beb16',\n",
       "  'dataset_id': 20,\n",
       "  'version': 1,\n",
       "  'category': 'measurement',\n",
       "  'dataset_name': 'measurement_ctpa_dicom'},\n",
       " {'project_uuid': 'a611bd1a-5f4d-11ef-917d-484d7e9beb16',\n",
       "  'dataset_uuid': '7c80c901-65b0-11ef-917d-484d7e9beb16',\n",
       "  'dataset_id': 21,\n",
       "  'version': 1,\n",
       "  'category': 'measurement',\n",
       "  'dataset_name': 'measurement_cardiac_output'},\n",
       " {'project_uuid': 'a611bd1a-5f4d-11ef-917d-484d7e9beb16',\n",
       "  'dataset_uuid': 'f51edde2-65b1-11ef-917d-484d7e9beb16',\n",
       "  'dataset_id': 19,\n",
       "  'version': 1,\n",
       "  'category': 'workflow',\n",
       "  'dataset_name': 'workflow_clinical_reporting_for_cteph_patients'}]"
      ]
     },
     "execution_count": 34,
     "metadata": {},
     "output_type": "execute_result"
    }
   ],
   "execution_count": 34
  },
  {
   "metadata": {
    "ExecuteTime": {
     "end_time": "2024-09-04T02:44:15.134689Z",
     "start_time": "2024-09-04T02:44:15.131361Z"
    }
   },
   "cell_type": "code",
   "source": "",
   "outputs": [],
   "execution_count": 34
  }
 ],
 "metadata": {
  "kernelspec": {
   "display_name": "Python 3 (ipykernel)",
   "language": "python",
   "name": "python3"
  },
  "language_info": {
   "codemirror_mode": {
    "name": "ipython",
    "version": 3
   },
   "file_extension": ".py",
   "mimetype": "text/x-python",
   "name": "python",
   "nbconvert_exporter": "python",
   "pygments_lexer": "ipython3",
   "version": "3.9.13"
  }
 },
 "nbformat": 4,
 "nbformat_minor": 2
}
