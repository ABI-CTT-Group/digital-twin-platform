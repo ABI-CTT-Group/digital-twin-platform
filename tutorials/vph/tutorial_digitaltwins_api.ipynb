{
 "cells": [
  {
   "cell_type": "markdown",
   "metadata": {},
   "source": [
    "# Tutorial: digitaltwins api\n",
    "\n",
    "## Introduction\n",
    "The 12 LABOURS DigitalTWINS Platform’s harmonised database is organised into **Programs** and **Projects**. For example, Exemplar Project 1 (**EP1**) is a project within the 12 LABOURS (**12L**) Program. Users can only access and download datasets from these projects once they have been granted access. This tutorial shows how to find existing datasets from the DigitalTWINS Platform's portal or its Python API.\n",
    "\n",
    "## Definitions\n",
    "- API - Application Programming Interface used to access the features or data of an application or service.\n",
    "\n",
    "## Learning outcomes\n",
    "In this tutorial, you will learn how to:\n",
    "- find existing datasets stored in the platform's portal.\n",
    "- access the platform using the `digitaltwins` Python API and find existing datasets.\n",
    "\n",
    "## Finding datasets\n",
    "Each dataset stored in the platform has an unique dataset id (ID), e.g. \"dataset-3\", and identifier (UUIDID) e.g. `93d49efa-5f4e-11ef-917d-484d7e9beb16`.\n",
    "\n",
    "### Finding datasets using the platform's portal\n",
    "Visit the [DigitalTWINS platform's portal](http://placeholder) hosted on the Nectar research cloud\n",
    "\n",
    "### Finding datasets in the platform using the `digitaltwins` Python API\n"
   ]
  },
  {
   "metadata": {},
   "cell_type": "code",
   "outputs": [],
   "execution_count": null,
   "source": "import digitaltwins"
  }
 ],
 "metadata": {
  "kernelspec": {
   "display_name": "Python 3 (ipykernel)",
   "language": "python",
   "name": "python3"
  },
  "language_info": {
   "codemirror_mode": {
    "name": "ipython",
    "version": 3
   },
   "file_extension": ".py",
   "mimetype": "text/x-python",
   "name": "python",
   "nbconvert_exporter": "python",
   "pygments_lexer": "ipython3",
   "version": "3.9.13"
  }
 },
 "nbformat": 4,
 "nbformat_minor": 2
}
