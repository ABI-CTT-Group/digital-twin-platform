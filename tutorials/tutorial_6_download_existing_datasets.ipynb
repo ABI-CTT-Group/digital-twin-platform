{
 "cells": [
  {
   "cell_type": "markdown",
   "metadata": {},
   "source": [
    "# Tutorial 6: Download existing datasets via Digital Twin Platform API\n",
    "This tutorial shows how to download the existing datasets from the digital twin platform. "
   ]
  },
  {
   "cell_type": "code",
   "execution_count": 2,
   "metadata": {},
   "outputs": [],
   "source": [
    "import sys\n",
    "sys.path.append('../')\n",
    "\n",
    "from digitaltwins import Downloader\n",
    "from pathlib import Path"
   ]
  },
  {
   "cell_type": "code",
   "execution_count": 8,
   "metadata": {},
   "outputs": [
    {
     "name": "stdout",
     "output_type": "stream",
     "text": [
      "Downloading dataset breast\n"
     ]
    },
    {
     "ename": "NetworkException",
     "evalue": "Could not connect to specified host and port: localhost:1247",
     "output_type": "error",
     "traceback": [
      "\u001b[1;31m---------------------------------------------------------------------------\u001b[0m",
      "\u001b[1;31mSyntaxError\u001b[0m                               Traceback (most recent call last)",
      "File \u001b[1;32mc:\\Users\\jxu759\\Documents\\digital-twin-platform-workshop\\digital-twin-platform\\.venv\\lib\\site-packages\\irods\\session.py:264\u001b[0m, in \u001b[0;36miRODSSession.server_version\u001b[1;34m(self)\u001b[0m\n\u001b[0;32m    263\u001b[0m     reported_vsn \u001b[39m=\u001b[39m os\u001b[39m.\u001b[39menviron\u001b[39m.\u001b[39mget(\u001b[39m\"\u001b[39m\u001b[39mPYTHON_IRODSCLIENT_REPORTED_SERVER_VERSION\u001b[39m\u001b[39m\"\u001b[39m,\u001b[39m\"\u001b[39m\u001b[39m\"\u001b[39m)\n\u001b[1;32m--> 264\u001b[0m     \u001b[39mreturn\u001b[39;00m \u001b[39mtuple\u001b[39m(ast\u001b[39m.\u001b[39;49mliteral_eval(reported_vsn))\n\u001b[0;32m    265\u001b[0m \u001b[39mexcept\u001b[39;00m \u001b[39mSyntaxError\u001b[39;00m:  \u001b[39m# environment variable was malformed, empty, or unset\u001b[39;00m\n",
      "File \u001b[1;32m~\\AppData\\Local\\Programs\\Python\\Python39\\lib\\ast.py:62\u001b[0m, in \u001b[0;36mliteral_eval\u001b[1;34m(node_or_string)\u001b[0m\n\u001b[0;32m     61\u001b[0m \u001b[39mif\u001b[39;00m \u001b[39misinstance\u001b[39m(node_or_string, \u001b[39mstr\u001b[39m):\n\u001b[1;32m---> 62\u001b[0m     node_or_string \u001b[39m=\u001b[39m parse(node_or_string, mode\u001b[39m=\u001b[39;49m\u001b[39m'\u001b[39;49m\u001b[39meval\u001b[39;49m\u001b[39m'\u001b[39;49m)\n\u001b[0;32m     63\u001b[0m \u001b[39mif\u001b[39;00m \u001b[39misinstance\u001b[39m(node_or_string, Expression):\n",
      "File \u001b[1;32m~\\AppData\\Local\\Programs\\Python\\Python39\\lib\\ast.py:50\u001b[0m, in \u001b[0;36mparse\u001b[1;34m(source, filename, mode, type_comments, feature_version)\u001b[0m\n\u001b[0;32m     49\u001b[0m \u001b[39m# Else it should be an int giving the minor version for 3.x.\u001b[39;00m\n\u001b[1;32m---> 50\u001b[0m \u001b[39mreturn\u001b[39;00m \u001b[39mcompile\u001b[39;49m(source, filename, mode, flags,\n\u001b[0;32m     51\u001b[0m                _feature_version\u001b[39m=\u001b[39;49mfeature_version)\n",
      "\u001b[1;31mSyntaxError\u001b[0m: unexpected EOF while parsing (<unknown>, line 0)",
      "\nDuring handling of the above exception, another exception occurred:\n",
      "\u001b[1;31mStopIteration\u001b[0m                             Traceback (most recent call last)",
      "File \u001b[1;32mc:\\Users\\jxu759\\Documents\\digital-twin-platform-workshop\\digital-twin-platform\\.venv\\lib\\site-packages\\irods\\session.py:270\u001b[0m, in \u001b[0;36miRODSSession.__server_version\u001b[1;34m(self)\u001b[0m\n\u001b[0;32m    269\u001b[0m \u001b[39mtry\u001b[39;00m:\n\u001b[1;32m--> 270\u001b[0m     conn \u001b[39m=\u001b[39m \u001b[39mnext\u001b[39;49m(\u001b[39miter\u001b[39;49m(\u001b[39mself\u001b[39;49m\u001b[39m.\u001b[39;49mpool\u001b[39m.\u001b[39;49mactive))\n\u001b[0;32m    271\u001b[0m     \u001b[39mreturn\u001b[39;00m conn\u001b[39m.\u001b[39mserver_version\n",
      "\u001b[1;31mStopIteration\u001b[0m: ",
      "\nDuring handling of the above exception, another exception occurred:\n",
      "\u001b[1;31mKeyError\u001b[0m                                  Traceback (most recent call last)",
      "File \u001b[1;32mc:\\Users\\jxu759\\Documents\\digital-twin-platform-workshop\\digital-twin-platform\\.venv\\lib\\site-packages\\irods\\pool.py:59\u001b[0m, in \u001b[0;36mPool.get_connection\u001b[1;34m(self)\u001b[0m\n\u001b[0;32m     58\u001b[0m \u001b[39mtry\u001b[39;00m:\n\u001b[1;32m---> 59\u001b[0m     conn \u001b[39m=\u001b[39m \u001b[39mself\u001b[39;49m\u001b[39m.\u001b[39;49midle\u001b[39m.\u001b[39;49mpop()\n\u001b[0;32m     61\u001b[0m     curr_time \u001b[39m=\u001b[39m datetime\u001b[39m.\u001b[39mdatetime\u001b[39m.\u001b[39mnow()\n",
      "\u001b[1;31mKeyError\u001b[0m: 'pop from an empty set'",
      "\nDuring handling of the above exception, another exception occurred:\n",
      "\u001b[1;31mConnectionRefusedError\u001b[0m                    Traceback (most recent call last)",
      "File \u001b[1;32mc:\\Users\\jxu759\\Documents\\digital-twin-platform-workshop\\digital-twin-platform\\.venv\\lib\\site-packages\\irods\\connection.py:224\u001b[0m, in \u001b[0;36mConnection._connect\u001b[1;34m(self)\u001b[0m\n\u001b[0;32m    223\u001b[0m \u001b[39mtry\u001b[39;00m:\n\u001b[1;32m--> 224\u001b[0m     s \u001b[39m=\u001b[39m socket\u001b[39m.\u001b[39;49mcreate_connection(address, timeout)\n\u001b[0;32m    225\u001b[0m     \u001b[39mself\u001b[39m\u001b[39m.\u001b[39m_disconnected \u001b[39m=\u001b[39m \u001b[39mFalse\u001b[39;00m\n",
      "File \u001b[1;32m~\\AppData\\Local\\Programs\\Python\\Python39\\lib\\socket.py:844\u001b[0m, in \u001b[0;36mcreate_connection\u001b[1;34m(address, timeout, source_address)\u001b[0m\n\u001b[0;32m    843\u001b[0m \u001b[39mtry\u001b[39;00m:\n\u001b[1;32m--> 844\u001b[0m     \u001b[39mraise\u001b[39;00m err\n\u001b[0;32m    845\u001b[0m \u001b[39mfinally\u001b[39;00m:\n\u001b[0;32m    846\u001b[0m     \u001b[39m# Break explicitly a reference cycle\u001b[39;00m\n",
      "File \u001b[1;32m~\\AppData\\Local\\Programs\\Python\\Python39\\lib\\socket.py:832\u001b[0m, in \u001b[0;36mcreate_connection\u001b[1;34m(address, timeout, source_address)\u001b[0m\n\u001b[0;32m    831\u001b[0m     sock\u001b[39m.\u001b[39mbind(source_address)\n\u001b[1;32m--> 832\u001b[0m sock\u001b[39m.\u001b[39;49mconnect(sa)\n\u001b[0;32m    833\u001b[0m \u001b[39m# Break explicitly a reference cycle\u001b[39;00m\n",
      "\u001b[1;31mConnectionRefusedError\u001b[0m: [WinError 10061] No connection could be made because the target machine actively refused it",
      "\nDuring handling of the above exception, another exception occurred:\n",
      "\u001b[1;31mNetworkException\u001b[0m                          Traceback (most recent call last)",
      "\u001b[1;32mc:\\Users\\jxu759\\Documents\\digital-twin-platform-workshop\\digital-twin-platform\\tutorials\\tutorial_6_download_existing_datasets.ipynb Cell 3\u001b[0m line \u001b[0;36m4\n\u001b[0;32m      <a href='vscode-notebook-cell:/c%3A/Users/jxu759/Documents/digital-twin-platform-workshop/digital-twin-platform/tutorials/tutorial_6_download_existing_datasets.ipynb#W1sZmlsZQ%3D%3D?line=1'>2</a>\u001b[0m downloader \u001b[39m=\u001b[39m Downloader(config_file)\n\u001b[0;32m      <a href='vscode-notebook-cell:/c%3A/Users/jxu759/Documents/digital-twin-platform-workshop/digital-twin-platform/tutorials/tutorial_6_download_existing_datasets.ipynb#W1sZmlsZQ%3D%3D?line=2'>3</a>\u001b[0m dataset_name \u001b[39m=\u001b[39m \u001b[39m'\u001b[39m\u001b[39mbreast\u001b[39m\u001b[39m'\u001b[39m\n\u001b[1;32m----> <a href='vscode-notebook-cell:/c%3A/Users/jxu759/Documents/digital-twin-platform-workshop/digital-twin-platform/tutorials/tutorial_6_download_existing_datasets.ipynb#W1sZmlsZQ%3D%3D?line=3'>4</a>\u001b[0m downloader\u001b[39m.\u001b[39;49mexecute(dataset_name, save_dir\u001b[39m=\u001b[39;49m\u001b[39m\"\u001b[39;49m\u001b[39m../\u001b[39;49m\u001b[39m\"\u001b[39;49m)\n\u001b[0;32m      <a href='vscode-notebook-cell:/c%3A/Users/jxu759/Documents/digital-twin-platform-workshop/digital-twin-platform/tutorials/tutorial_6_download_existing_datasets.ipynb#W1sZmlsZQ%3D%3D?line=4'>5</a>\u001b[0m \u001b[39mprint\u001b[39m(\u001b[39m\"\u001b[39m\u001b[39mdone\u001b[39m\u001b[39m\"\u001b[39m)\n",
      "File \u001b[1;32mc:\\Users\\jxu759\\Documents\\digital-twin-platform-workshop\\digital-twin-platform\\tutorials\\..\\dtp\\core\\downloader.py:27\u001b[0m, in \u001b[0;36mDownloader.execute\u001b[1;34m(self, dataset_name, save_dir)\u001b[0m\n\u001b[0;32m     23\u001b[0m os\u001b[39m.\u001b[39mmakedirs(\u001b[39mstr\u001b[39m(save_dir), exist_ok\u001b[39m=\u001b[39m\u001b[39mTrue\u001b[39;00m)\n\u001b[0;32m     25\u001b[0m \u001b[39mprint\u001b[39m(\u001b[39m\"\u001b[39m\u001b[39mDownloading dataset \u001b[39m\u001b[39m\"\u001b[39m \u001b[39m+\u001b[39m dataset_name)\n\u001b[1;32m---> 27\u001b[0m \u001b[39mself\u001b[39;49m\u001b[39m.\u001b[39;49m_irods\u001b[39m.\u001b[39;49mdownload(dataset_name, save_dir)\n\u001b[0;32m     29\u001b[0m \u001b[39mprint\u001b[39m(\u001b[39m\"\u001b[39m\u001b[39mDataset successfully downloaded\u001b[39m\u001b[39m\"\u001b[39m)\n",
      "File \u001b[1;32mc:\\Users\\jxu759\\Documents\\digital-twin-platform-workshop\\digital-twin-platform\\tutorials\\..\\dtp\\irods\\irods.py:83\u001b[0m, in \u001b[0;36mIRODS.download\u001b[1;34m(self, collection_name, save_dir)\u001b[0m\n\u001b[0;32m     77\u001b[0m \u001b[39mwith\u001b[39;00m iRODSSession(host\u001b[39m=\u001b[39m\u001b[39mself\u001b[39m\u001b[39m.\u001b[39m_host,\n\u001b[0;32m     78\u001b[0m                   port\u001b[39m=\u001b[39m\u001b[39mself\u001b[39m\u001b[39m.\u001b[39m_port,\n\u001b[0;32m     79\u001b[0m                   user\u001b[39m=\u001b[39m\u001b[39mself\u001b[39m\u001b[39m.\u001b[39m_user,\n\u001b[0;32m     80\u001b[0m                   password\u001b[39m=\u001b[39m\u001b[39mself\u001b[39m\u001b[39m.\u001b[39m_password,\n\u001b[0;32m     81\u001b[0m                   zone\u001b[39m=\u001b[39m\u001b[39mself\u001b[39m\u001b[39m.\u001b[39m_zone) \u001b[39mas\u001b[39;00m session:\n\u001b[0;32m     82\u001b[0m     collection_path \u001b[39m=\u001b[39m \u001b[39mself\u001b[39m\u001b[39m.\u001b[39m_project_root \u001b[39m+\u001b[39m \u001b[39m'\u001b[39m\u001b[39m/\u001b[39m\u001b[39m'\u001b[39m \u001b[39m+\u001b[39m collection_name\n\u001b[1;32m---> 83\u001b[0m     \u001b[39mself\u001b[39;49m\u001b[39m.\u001b[39;49m_download_collection(session, collection_path, save_dir\u001b[39m=\u001b[39;49msave_dir)\n",
      "File \u001b[1;32mc:\\Users\\jxu759\\Documents\\digital-twin-platform-workshop\\digital-twin-platform\\tutorials\\..\\dtp\\irods\\irods.py:98\u001b[0m, in \u001b[0;36mIRODS._download_collection\u001b[1;34m(self, session, collection_path, save_dir)\u001b[0m\n\u001b[0;32m     85\u001b[0m \u001b[39mdef\u001b[39;00m \u001b[39m_download_collection\u001b[39m(\u001b[39mself\u001b[39m, session, collection_path, save_dir):\n\u001b[0;32m     86\u001b[0m \u001b[39m    \u001b[39m\u001b[39m\"\"\"\u001b[39;00m\n\u001b[0;32m     87\u001b[0m \u001b[39m    Downloading an iRODS collection\u001b[39;00m\n\u001b[0;32m     88\u001b[0m \n\u001b[1;32m   (...)\u001b[0m\n\u001b[0;32m     96\u001b[0m \u001b[39m    :rtype:\u001b[39;00m\n\u001b[0;32m     97\u001b[0m \u001b[39m    \"\"\"\u001b[39;00m\n\u001b[1;32m---> 98\u001b[0m     collection \u001b[39m=\u001b[39m session\u001b[39m.\u001b[39;49mcollections\u001b[39m.\u001b[39;49mget(collection_path)\n\u001b[0;32m     99\u001b[0m     save_dir \u001b[39m=\u001b[39m Path(save_dir)\n\u001b[0;32m    100\u001b[0m     save_dir \u001b[39m=\u001b[39m save_dir\u001b[39m.\u001b[39mjoinpath(collection\u001b[39m.\u001b[39mname)\n",
      "File \u001b[1;32mc:\\Users\\jxu759\\Documents\\digital-twin-platform-workshop\\digital-twin-platform\\.venv\\lib\\site-packages\\irods\\manager\\collection_manager.py:21\u001b[0m, in \u001b[0;36mCollectionManager.get\u001b[1;34m(self, path)\u001b[0m\n\u001b[0;32m     18\u001b[0m repeats \u001b[39m=\u001b[39m (\u001b[39mTrue\u001b[39;00m,\u001b[39mFalse\u001b[39;00m) \u001b[39mif\u001b[39;00m \u001b[39mhasattr\u001b[39m(\u001b[39mself\u001b[39m\u001b[39m.\u001b[39msess,\u001b[39m'\u001b[39m\u001b[39mticket__\u001b[39m\u001b[39m'\u001b[39m) \\\n\u001b[0;32m     19\u001b[0m      \u001b[39melse\u001b[39;00m (\u001b[39mFalse\u001b[39;00m,)\n\u001b[0;32m     20\u001b[0m \u001b[39mfor\u001b[39;00m rep \u001b[39min\u001b[39;00m repeats:\n\u001b[1;32m---> 21\u001b[0m     query \u001b[39m=\u001b[39m \u001b[39mself\u001b[39;49m\u001b[39m.\u001b[39;49msess\u001b[39m.\u001b[39;49mquery(Collection)\u001b[39m.\u001b[39mfilter(\u001b[39m*\u001b[39mfilters)\n\u001b[0;32m     22\u001b[0m     \u001b[39mtry\u001b[39;00m:\n\u001b[0;32m     23\u001b[0m         result \u001b[39m=\u001b[39m query\u001b[39m.\u001b[39mone()\n",
      "File \u001b[1;32mc:\\Users\\jxu759\\Documents\\digital-twin-platform-workshop\\digital-twin-platform\\.venv\\lib\\site-packages\\irods\\session.py:242\u001b[0m, in \u001b[0;36miRODSSession.query\u001b[1;34m(self, *args)\u001b[0m\n\u001b[0;32m    241\u001b[0m \u001b[39mdef\u001b[39;00m \u001b[39mquery\u001b[39m(\u001b[39mself\u001b[39m, \u001b[39m*\u001b[39margs):\n\u001b[1;32m--> 242\u001b[0m     \u001b[39mreturn\u001b[39;00m Query(\u001b[39mself\u001b[39;49m, \u001b[39m*\u001b[39;49margs)\n",
      "File \u001b[1;32mc:\\Users\\jxu759\\Documents\\digital-twin-platform-workshop\\digital-twin-platform\\.venv\\lib\\site-packages\\irods\\query.py:44\u001b[0m, in \u001b[0;36mQuery.__init__\u001b[1;34m(self, sess, *args, **kwargs)\u001b[0m\n\u001b[0;32m     42\u001b[0m \u001b[39mif\u001b[39;00m \u001b[39misinstance\u001b[39m(arg, \u001b[39mtype\u001b[39m) \u001b[39mand\u001b[39;00m \u001b[39missubclass\u001b[39m(arg, Model):\n\u001b[0;32m     43\u001b[0m     \u001b[39mfor\u001b[39;00m col \u001b[39min\u001b[39;00m arg\u001b[39m.\u001b[39m_columns:\n\u001b[1;32m---> 44\u001b[0m         \u001b[39mif\u001b[39;00m \u001b[39mself\u001b[39;49m\u001b[39m.\u001b[39;49msess\u001b[39m.\u001b[39;49mserver_version \u001b[39m>\u001b[39m\u001b[39m=\u001b[39m col\u001b[39m.\u001b[39mmin_version:\n\u001b[0;32m     45\u001b[0m             \u001b[39mself\u001b[39m\u001b[39m.\u001b[39mcolumns[col] \u001b[39m=\u001b[39m \u001b[39m1\u001b[39m\n\u001b[0;32m     46\u001b[0m \u001b[39melif\u001b[39;00m \u001b[39misinstance\u001b[39m(arg, Column):\n",
      "File \u001b[1;32mc:\\Users\\jxu759\\Documents\\digital-twin-platform-workshop\\digital-twin-platform\\.venv\\lib\\site-packages\\irods\\session.py:266\u001b[0m, in \u001b[0;36miRODSSession.server_version\u001b[1;34m(self)\u001b[0m\n\u001b[0;32m    264\u001b[0m     \u001b[39mreturn\u001b[39;00m \u001b[39mtuple\u001b[39m(ast\u001b[39m.\u001b[39mliteral_eval(reported_vsn))\n\u001b[0;32m    265\u001b[0m \u001b[39mexcept\u001b[39;00m \u001b[39mSyntaxError\u001b[39;00m:  \u001b[39m# environment variable was malformed, empty, or unset\u001b[39;00m\n\u001b[1;32m--> 266\u001b[0m     \u001b[39mreturn\u001b[39;00m \u001b[39mself\u001b[39;49m\u001b[39m.\u001b[39;49m__server_version()\n",
      "File \u001b[1;32mc:\\Users\\jxu759\\Documents\\digital-twin-platform-workshop\\digital-twin-platform\\.venv\\lib\\site-packages\\irods\\session.py:273\u001b[0m, in \u001b[0;36miRODSSession.__server_version\u001b[1;34m(self)\u001b[0m\n\u001b[0;32m    271\u001b[0m     \u001b[39mreturn\u001b[39;00m conn\u001b[39m.\u001b[39mserver_version\n\u001b[0;32m    272\u001b[0m \u001b[39mexcept\u001b[39;00m \u001b[39mStopIteration\u001b[39;00m:\n\u001b[1;32m--> 273\u001b[0m     conn \u001b[39m=\u001b[39m \u001b[39mself\u001b[39;49m\u001b[39m.\u001b[39;49mpool\u001b[39m.\u001b[39;49mget_connection()\n\u001b[0;32m    274\u001b[0m     version \u001b[39m=\u001b[39m conn\u001b[39m.\u001b[39mserver_version\n\u001b[0;32m    275\u001b[0m     conn\u001b[39m.\u001b[39mrelease()\n",
      "File \u001b[1;32mc:\\Users\\jxu759\\Documents\\digital-twin-platform-workshop\\digital-twin-platform\\.venv\\lib\\site-packages\\irods\\pool.py:15\u001b[0m, in \u001b[0;36mattribute_from_return_value.<locals>.deco.<locals>.method_\u001b[1;34m(self, *s, **kw)\u001b[0m\n\u001b[0;32m     14\u001b[0m \u001b[39mdef\u001b[39;00m \u001b[39mmethod_\u001b[39m(\u001b[39mself\u001b[39m,\u001b[39m*\u001b[39ms,\u001b[39m*\u001b[39m\u001b[39m*\u001b[39mkw):\n\u001b[1;32m---> 15\u001b[0m     ret \u001b[39m=\u001b[39m method(\u001b[39mself\u001b[39m,\u001b[39m*\u001b[39ms,\u001b[39m*\u001b[39m\u001b[39m*\u001b[39mkw)\n\u001b[0;32m     16\u001b[0m     \u001b[39msetattr\u001b[39m(\u001b[39mself\u001b[39m,attrname,ret)\n\u001b[0;32m     17\u001b[0m     \u001b[39mreturn\u001b[39;00m ret\n",
      "File \u001b[1;32mc:\\Users\\jxu759\\Documents\\digital-twin-platform-workshop\\digital-twin-platform\\.venv\\lib\\site-packages\\irods\\pool.py:75\u001b[0m, in \u001b[0;36mPool.get_connection\u001b[1;34m(self)\u001b[0m\n\u001b[0;32m     73\u001b[0m         logger\u001b[39m.\u001b[39mdebug(\u001b[39m\"\u001b[39m\u001b[39mCreated new connection with id: \u001b[39m\u001b[39m{}\u001b[39;00m\u001b[39m\"\u001b[39m\u001b[39m.\u001b[39mformat(\u001b[39mid\u001b[39m(conn)))\n\u001b[0;32m     74\u001b[0m \u001b[39mexcept\u001b[39;00m \u001b[39mKeyError\u001b[39;00m:\n\u001b[1;32m---> 75\u001b[0m     conn \u001b[39m=\u001b[39m Connection(\u001b[39mself\u001b[39;49m, \u001b[39mself\u001b[39;49m\u001b[39m.\u001b[39;49maccount)\n\u001b[0;32m     76\u001b[0m     logger\u001b[39m.\u001b[39mdebug(\u001b[39m\"\u001b[39m\u001b[39mNo connection found in idle set. Created a new connection with id: \u001b[39m\u001b[39m{}\u001b[39;00m\u001b[39m\"\u001b[39m\u001b[39m.\u001b[39mformat(\u001b[39mid\u001b[39m(conn)))\n\u001b[0;32m     78\u001b[0m \u001b[39mself\u001b[39m\u001b[39m.\u001b[39mactive\u001b[39m.\u001b[39madd(conn)\n",
      "File \u001b[1;32mc:\\Users\\jxu759\\Documents\\digital-twin-platform-workshop\\digital-twin-platform\\.venv\\lib\\site-packages\\irods\\connection.py:63\u001b[0m, in \u001b[0;36mConnection.__init__\u001b[1;34m(self, pool, account)\u001b[0m\n\u001b[0;32m     61\u001b[0m \u001b[39mself\u001b[39m\u001b[39m.\u001b[39maccount \u001b[39m=\u001b[39m account\n\u001b[0;32m     62\u001b[0m \u001b[39mself\u001b[39m\u001b[39m.\u001b[39m_client_signature \u001b[39m=\u001b[39m \u001b[39mNone\u001b[39;00m\n\u001b[1;32m---> 63\u001b[0m \u001b[39mself\u001b[39m\u001b[39m.\u001b[39m_server_version \u001b[39m=\u001b[39m \u001b[39mself\u001b[39;49m\u001b[39m.\u001b[39;49m_connect()\n\u001b[0;32m     64\u001b[0m \u001b[39mself\u001b[39m\u001b[39m.\u001b[39m_disconnected \u001b[39m=\u001b[39m \u001b[39mFalse\u001b[39;00m\n\u001b[0;32m     66\u001b[0m scheme \u001b[39m=\u001b[39m \u001b[39mself\u001b[39m\u001b[39m.\u001b[39maccount\u001b[39m.\u001b[39mauthentication_scheme\n",
      "File \u001b[1;32mc:\\Users\\jxu759\\Documents\\digital-twin-platform-workshop\\digital-twin-platform\\.venv\\lib\\site-packages\\irods\\connection.py:227\u001b[0m, in \u001b[0;36mConnection._connect\u001b[1;34m(self)\u001b[0m\n\u001b[0;32m    225\u001b[0m     \u001b[39mself\u001b[39m\u001b[39m.\u001b[39m_disconnected \u001b[39m=\u001b[39m \u001b[39mFalse\u001b[39;00m\n\u001b[0;32m    226\u001b[0m \u001b[39mexcept\u001b[39;00m socket\u001b[39m.\u001b[39merror:\n\u001b[1;32m--> 227\u001b[0m     \u001b[39mraise\u001b[39;00m NetworkException(\n\u001b[0;32m    228\u001b[0m         \u001b[39m\"\u001b[39m\u001b[39mCould not connect to specified host and port: \u001b[39m\u001b[39m\"\u001b[39m \u001b[39m+\u001b[39m\n\u001b[0;32m    229\u001b[0m         \u001b[39m\"\u001b[39m\u001b[39m{}\u001b[39;00m\u001b[39m:\u001b[39m\u001b[39m{}\u001b[39;00m\u001b[39m\"\u001b[39m\u001b[39m.\u001b[39mformat(\u001b[39m*\u001b[39maddress))\n\u001b[0;32m    231\u001b[0m \u001b[39mself\u001b[39m\u001b[39m.\u001b[39msocket \u001b[39m=\u001b[39m s\n\u001b[0;32m    233\u001b[0m main_message \u001b[39m=\u001b[39m StartupPack(\n\u001b[0;32m    234\u001b[0m     (\u001b[39mself\u001b[39m\u001b[39m.\u001b[39maccount\u001b[39m.\u001b[39mproxy_user, \u001b[39mself\u001b[39m\u001b[39m.\u001b[39maccount\u001b[39m.\u001b[39mproxy_zone),\n\u001b[0;32m    235\u001b[0m     (\u001b[39mself\u001b[39m\u001b[39m.\u001b[39maccount\u001b[39m.\u001b[39mclient_user, \u001b[39mself\u001b[39m\u001b[39m.\u001b[39maccount\u001b[39m.\u001b[39mclient_zone),\n\u001b[0;32m    236\u001b[0m     \u001b[39mself\u001b[39m\u001b[39m.\u001b[39mpool\u001b[39m.\u001b[39mapplication_name\n\u001b[0;32m    237\u001b[0m )\n",
      "\u001b[1;31mNetworkException\u001b[0m: Could not connect to specified host and port: localhost:1247"
     ]
    }
   ],
   "source": [
    "config_file = Path(r\"../configs/templates/config.ini\")\n",
    "downloader = Downloader(config_file)\n",
    "dataset_name = 'breast'\n",
    "downloader.execute(dataset_name, save_dir=\"../\")\n",
    "print(\"done\")"
   ]
  }
 ],
 "metadata": {
  "kernelspec": {
   "display_name": ".venv",
   "language": "python",
   "name": "python3"
  },
  "language_info": {
   "codemirror_mode": {
    "name": "ipython",
    "version": 3
   },
   "file_extension": ".py",
   "mimetype": "text/x-python",
   "name": "python",
   "nbconvert_exporter": "python",
   "pygments_lexer": "ipython3",
   "version": "3.9.13"
  },
  "orig_nbformat": 4
 },
 "nbformat": 4,
 "nbformat_minor": 2
}
