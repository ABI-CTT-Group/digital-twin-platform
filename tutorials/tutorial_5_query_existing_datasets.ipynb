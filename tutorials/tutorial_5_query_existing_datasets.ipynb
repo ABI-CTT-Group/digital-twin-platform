{
 "cells": [
  {
   "cell_type": "markdown",
   "metadata": {},
   "source": [
    "# Tutorial 5: Query existing datasets via Digital Twin Platform API\n",
    "## Introduction\n",
    "The 12 LABOURS Digital Twin Platform’s database is organised into Program and Projects, e.g., “12 Labours” would be a program and “EP1” would be a project within this program. Only users who have been granted access to projects can access dataset metadata and download datasets. See Tutorial 1 for information on how to request access to data and for connecting to the Digital Twin Platform. \n",
    "\n",
    "This tutorial describes how to access existing datasets from a specific instance of the Digital Twin Platform using its API.\n",
    "\n",
    "## Learning outcomes\n",
    "\n",
    "* How to access metadata from an existing dataset in the 12 LABOURS digital Twin Platform’s API.\n",
    "* How to search for existing datasets using the 12 LABOURS digital Twin Platform’s API.\n",
    "* How to download existing datasets in SDS format using the 12 LABOURS digital Twin Platform’s API.\n",
    "\n",
    "## Setup\n",
    "\n",
    "We will use the MetadataQuerier class of the Digital Twin Platform API to access metadata of the datasets in the platform.\n",
    "\n",
    "The ‘config.ini’ file can be loaded using Python’s in-built ‘configparser’ and ‘Path’ classes.\n",
    "\n"
   ]
  },
  {
   "cell_type": "code",
   "execution_count": 2,
   "metadata": {},
   "outputs": [],
   "source": [
    "from digitaltwins import MetadataQuerier\n",
    "from pathlib import Path\n",
    "import configparser"
   ]
  },
  {
   "cell_type": "code",
   "execution_count": null,
   "metadata": {},
   "outputs": [],
   "source": [
    "# Load platform configuration.\n",
    "config = configparser.ConfigParser()\n",
    "config_path = Path(r\"config.ini\")\n",
    "config.read(config_path)\n",
    "querier = MetadataQuerier(config)"
   ]
  },
  {
   "cell_type": "markdown",
   "metadata": {},
   "source": [
    "## Accessing program and projects within the platform\n",
    "A list of existing programs in the platform can be retrieved using the `get_all_programs` method.\n"
   ]
  },
  {
   "cell_type": "code",
   "execution_count": null,
   "metadata": {},
   "outputs": [],
   "source": [
    "# List programs on the platform.\n",
    "programs = querier.get_all_programs()"
   ]
  },
  {
   "cell_type": "markdown",
   "metadata": {},
   "source": [
    "The projects within a specific program can be retrieved using the `get_projects_by_program` method.\n"
   ]
  },
  {
   "cell_type": "code",
   "execution_count": null,
   "metadata": {},
   "outputs": [],
   "source": [
    "# List projects within a program.\n",
    "projects = querier.get_projects_by_program(program=config[\"gen3\"].get(\"program\"))"
   ]
  },
  {
   "cell_type": "markdown",
   "metadata": {},
   "source": [
    "## Interacting with Datasets\n",
    "Each dataset has a unique identifier (UID). Datasets can be retrieved as a `dataset` python object. The `dataset` object provides multiple methods to help with interacting with a datasets e.g. `get_dataset_description`, which will provide dataset information as a data dictionary, or `download_dataset`, which will download a dataset in a specific format such as in SDS format. The [Digital Twin Platform’s API documentation](https://docs.google.com/document/d/10dQ0Cyq0NQ1JlxPYCVtGCIY2umZrYzhAltsyRd9QhgY/edit#heading=h.5le3tsd740bn) lists all the methods available for interacting with datasets."
   ]
  },
  {
   "cell_type": "markdown",
   "metadata": {},
   "source": [
    "### Listing all datasets in the platform\n",
    "The ‘get_datasets’ method allows  ‘Dataset’ objects for all datasets in the platform to be retrieved as a python list."
   ]
  },
  {
   "cell_type": "code",
   "execution_count": null,
   "metadata": {},
   "outputs": [],
   "source": [
    "datasets = querier.get_datasets(program=all, project=all)\n",
    "for dataset in datasets:\n",
    "    print(dataset.uid)"
   ]
  },
  {
   "cell_type": "markdown",
   "metadata": {},
   "source": [
    "### Finding specific dataset identifiers\n",
    "The first step in accessing a specific dataset is to find the dataset's UID. There are multiple approaches to find the UID for a dataset of interest:\n",
    "1. From 12 LABOURS Digital Twin Portal - the Dataset IDs are included in each dataset entry in the platform’s data catalogue.  \n",
    "2. By selecting a specific dataset UID after listing all datasets, or \n",
    "3. By searching for existing datasets and retrivining the dataset UID of interest\n"
   ]
  },
  {
   "cell_type": "markdown",
   "metadata": {},
   "source": [
    "### Searching for datasets\n",
    "TODO\n",
    "The `search_datasets` method allows for searching of datasets, and returns a python list of `dataset` objects that match the search criteria . Currently, only searching text that __matches exactly__ with the title of existing datasets in the platform is supported.\n"
   ]
  },
  {
   "cell_type": "code",
   "execution_count": null,
   "metadata": {},
   "outputs": [],
   "source": [
    "dataset_id = \"\"\n",
    "\n",
    "datasets = querier.search_datasets(query=dataset_id)"
   ]
  },
  {
   "cell_type": "markdown",
   "metadata": {},
   "source": [
    "### Accessing a specific dataset by its identifier\n",
    "If the UID of a dataset has already been identified, the `get_dataset` method can be used to obtain its `dataset` object."
   ]
  },
  {
   "cell_type": "code",
   "execution_count": null,
   "metadata": {},
   "outputs": [],
   "source": [
    "dataset_uid = 103\n",
    "dataset = querier.get_dataset(dataset_uid)"
   ]
  },
  {
   "cell_type": "markdown",
   "metadata": {},
   "source": [
    "### Accessing a dataset’s description\n",
    "A `dataset_description` object  can be retrieved using the `get_dataset_description` method."
   ]
  },
  {
   "cell_type": "code",
   "execution_count": null,
   "metadata": {},
   "outputs": [],
   "source": [
    "dataset_description = dataset.get_dataset_description(dataset_uid)"
   ]
  },
  {
   "cell_type": "markdown",
   "metadata": {},
   "source": [
    "### Listing subjects in a dataset\n",
    "A `Subjects` object  can be retrieved using the `get_subjects` method."
   ]
  },
  {
   "cell_type": "code",
   "execution_count": null,
   "metadata": {},
   "outputs": [],
   "source": [
    "subjects = dataset.get_subjects()"
   ]
  }
 ],
 "metadata": {
  "kernelspec": {
   "display_name": "venv",
   "language": "python",
   "name": "python3"
  },
  "language_info": {
   "codemirror_mode": {
    "name": "ipython",
    "version": 3
   },
   "file_extension": ".py",
   "mimetype": "text/x-python",
   "name": "python",
   "nbconvert_exporter": "python",
   "pygments_lexer": "ipython3",
   "version": "3.9.13"
  },
  "orig_nbformat": 4
 },
 "nbformat": 4,
 "nbformat_minor": 2
}
