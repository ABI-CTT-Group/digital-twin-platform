{
 "cells": [
  {
   "cell_type": "markdown",
   "metadata": {},
   "source": [
    "# Tutorial 5: Query existing datasets via Digital Twin Platform API\n",
    "## Introduction\n",
    "The 12 LABOURS Digital Twin Platform’s database is organised into Program and Projects, e.g., “12 Labours” would be a program and “EP1” would be a project within this program. Only users who have been granted access to projects can access dataset metadata and download datasets. See Tutorial 1 for information on how to request access to data and for connecting to the Digital Twin Platform. \n",
    "\n",
    "This tutorial describes how to access existing datasets from a specific instance of the Digital Twin Platform using its API.\n",
    "\n",
    "## Learning outcomes\n",
    "\n",
    "* How to access metadata from an existing dataset in the 12 LABOURS digital Twin Platform’s API.\n",
    "* How to search for existing datasets using the 12 LABOURS digital Twin Platform’s API.\n",
    "* How to download existing datasets in SDS format using the 12 LABOURS digital Twin Platform’s API.\n",
    "\n",
    "## Setup\n",
    "\n",
    "We will use the MetadataQuerier class of the Digital Twin Platform API to access metadata of the datasets in the platform.\n",
    "\n",
    "As described in Tutorial 1, we can place the information required  for connecting to the 12 LABOURS Digital Twin platform in a ‘config.ini’ file. This file can be loaded using Python’s in-built ‘configparser’ and ‘Path’ classes.\n",
    "\n"
   ]
  },
  {
   "cell_type": "code",
   "execution_count": 1,
   "metadata": {},
   "outputs": [
    {
     "ename": "ModuleNotFoundError",
     "evalue": "No module named 'gen3'",
     "output_type": "error",
     "traceback": [
      "\u001b[1;31m---------------------------------------------------------------------------\u001b[0m",
      "\u001b[1;31mModuleNotFoundError\u001b[0m                       Traceback (most recent call last)",
      "\u001b[1;32mc:\\Users\\jxu759\\Documents\\digital-twin-platform-workshop\\digitaltwins-api\\tutorials\\tutorial_5_query_existing_datasets.ipynb Cell 2\u001b[0m line \u001b[0;36m4\n\u001b[0;32m      <a href='vscode-notebook-cell:/c%3A/Users/jxu759/Documents/digital-twin-platform-workshop/digitaltwins-api/tutorials/tutorial_5_query_existing_datasets.ipynb#W1sZmlsZQ%3D%3D?line=0'>1</a>\u001b[0m \u001b[39mimport\u001b[39;00m \u001b[39msys\u001b[39;00m\n\u001b[0;32m      <a href='vscode-notebook-cell:/c%3A/Users/jxu759/Documents/digital-twin-platform-workshop/digitaltwins-api/tutorials/tutorial_5_query_existing_datasets.ipynb#W1sZmlsZQ%3D%3D?line=1'>2</a>\u001b[0m sys\u001b[39m.\u001b[39mpath\u001b[39m.\u001b[39mappend(\u001b[39m'\u001b[39m\u001b[39m../\u001b[39m\u001b[39m'\u001b[39m)\n\u001b[1;32m----> <a href='vscode-notebook-cell:/c%3A/Users/jxu759/Documents/digital-twin-platform-workshop/digitaltwins-api/tutorials/tutorial_5_query_existing_datasets.ipynb#W1sZmlsZQ%3D%3D?line=3'>4</a>\u001b[0m \u001b[39mfrom\u001b[39;00m \u001b[39mdtp\u001b[39;00m \u001b[39mimport\u001b[39;00m MetadataQuerier\n\u001b[0;32m      <a href='vscode-notebook-cell:/c%3A/Users/jxu759/Documents/digital-twin-platform-workshop/digitaltwins-api/tutorials/tutorial_5_query_existing_datasets.ipynb#W1sZmlsZQ%3D%3D?line=4'>5</a>\u001b[0m \u001b[39mfrom\u001b[39;00m \u001b[39mpathlib\u001b[39;00m \u001b[39mimport\u001b[39;00m Path\n\u001b[0;32m      <a href='vscode-notebook-cell:/c%3A/Users/jxu759/Documents/digital-twin-platform-workshop/digitaltwins-api/tutorials/tutorial_5_query_existing_datasets.ipynb#W1sZmlsZQ%3D%3D?line=5'>6</a>\u001b[0m \u001b[39mimport\u001b[39;00m \u001b[39mconfigparser\u001b[39;00m\n",
      "File \u001b[1;32mc:\\Users\\jxu759\\Documents\\digital-twin-platform-workshop\\digitaltwins-api\\tutorials\\..\\dtp\\__init__.py:1\u001b[0m\n\u001b[1;32m----> 1\u001b[0m \u001b[39mfrom\u001b[39;00m \u001b[39m.\u001b[39;00m\u001b[39mgen3\u001b[39;00m\u001b[39m.\u001b[39;00m\u001b[39mauth\u001b[39;00m \u001b[39mimport\u001b[39;00m Auth\n\u001b[0;32m      2\u001b[0m \u001b[39mfrom\u001b[39;00m \u001b[39m.\u001b[39;00m\u001b[39mgen3\u001b[39;00m\u001b[39m.\u001b[39;00m\u001b[39mmetadata_convertor\u001b[39;00m \u001b[39mimport\u001b[39;00m MetadataConvertor\n\u001b[0;32m      3\u001b[0m \u001b[39mfrom\u001b[39;00m \u001b[39m.\u001b[39;00m\u001b[39mgen3\u001b[39;00m\u001b[39m.\u001b[39;00m\u001b[39mmetadata_exporter\u001b[39;00m \u001b[39mimport\u001b[39;00m MetadataExporter\n",
      "File \u001b[1;32mc:\\Users\\jxu759\\Documents\\digital-twin-platform-workshop\\digitaltwins-api\\tutorials\\..\\dtp\\gen3\\auth.py:1\u001b[0m\n\u001b[1;32m----> 1\u001b[0m \u001b[39mfrom\u001b[39;00m \u001b[39mgen3\u001b[39;00m\u001b[39m.\u001b[39;00m\u001b[39mauth\u001b[39;00m \u001b[39mimport\u001b[39;00m Gen3Auth\n\u001b[0;32m      4\u001b[0m \u001b[39mclass\u001b[39;00m \u001b[39mAuth\u001b[39;00m(Gen3Auth):\n\u001b[0;32m      5\u001b[0m \u001b[39m    \u001b[39m\u001b[39m\"\"\"\u001b[39;00m\n\u001b[0;32m      6\u001b[0m \u001b[39m    Class for Gen3 Authentication inherited from the offical Gen3 API's Gen3 Auth Helper\u001b[39;00m\n\u001b[0;32m      7\u001b[0m \u001b[39m    https://gen3sdk-python.readthedocs.io/en/latest/auth.html\u001b[39;00m\n\u001b[0;32m      8\u001b[0m \u001b[39m    \"\"\"\u001b[39;00m\n",
      "\u001b[1;31mModuleNotFoundError\u001b[0m: No module named 'gen3'"
     ]
    }
   ],
   "source": [
    "import sys\n",
    "sys.path.append('../')\n",
    "\n",
    "from digitaltwins import MetadataQuerier\n",
    "from pathlib import Path\n",
    "import configparser"
   ]
  },
  {
   "cell_type": "code",
   "execution_count": null,
   "metadata": {},
   "outputs": [],
   "source": [
    "# Load platform configuration.\n",
    "config = configparser.ConfigParser()\n",
    "config.read(Path(r\"config.ini\"))\n",
    "querier = MetadataQuerier(config)"
   ]
  },
  {
   "cell_type": "markdown",
   "metadata": {},
   "source": [
    "## Accessing program and projects within the platform\n",
    "A list of existing programs in the platform can be retrieved using the `get_all_programs` method.\n"
   ]
  },
  {
   "cell_type": "code",
   "execution_count": null,
   "metadata": {},
   "outputs": [],
   "source": [
    "# List programs on the platform.\n",
    "programs = querier.get_all_programs()\n",
    "print(\"Programs: \" + str(programs))"
   ]
  },
  {
   "cell_type": "markdown",
   "metadata": {},
   "source": [
    "The projects within a specific program can be retrieved using the `get_projects_by_program` method.\n"
   ]
  },
  {
   "cell_type": "code",
   "execution_count": null,
   "metadata": {},
   "outputs": [],
   "source": [
    "# List projects within a program.\n",
    "projects = querier.get_projects_by_program(program=config[\"gen3\"].get(\"program\"))\n",
    "print(\"projects: \" + str(projects))\n"
   ]
  },
  {
   "cell_type": "markdown",
   "metadata": {},
   "source": [
    "## Interacting with Datasets\n",
    "Each dataset has a unique identifier (UID). Datasets can be retrieved as a ‘Dataset’ python object. The ‘Dataset’ object provides multiple methods to help with interacting with a datasets e.g. ‘get_dataset_description’, which will provide dataset information as a data dictionary, or ‘download_dataset’, which will download a dataset in a specific format such as in SDS format. The Digital Twin Platform’s API documentation lists all the methods available for interacting with datasets (add link to API documentation). [TO DO]"
   ]
  },
  {
   "cell_type": "markdown",
   "metadata": {},
   "source": [
    "### Listing all datasets in the platform\n",
    "The ‘get_datasets’ method allows  ‘Dataset’ objects for all datasets in the platform to be retrieved as a python list."
   ]
  },
  {
   "cell_type": "code",
   "execution_count": null,
   "metadata": {},
   "outputs": [],
   "source": [
    "datasets = querier.get_datasets()\n",
    "for dataset in datasets:\n",
    "    print(dataset.uid)"
   ]
  },
  {
   "cell_type": "markdown",
   "metadata": {},
   "source": [
    "### Finding specific dataset identifiers\n",
    "The first step in accessing a specific dataset is to find the dataset's UID. There are multiple approaches to find the UID for a dataset of interest:\n",
    "1. From 12 LABOURS Digital Twin Portal - the Dataset IDs are included in each dataset entry in the platform’s data catalogue.  \n",
    "2. By selecting a specific dataset UID after listing all datasets, or \n",
    "3. By searching for existing datasets and retrivining the dataset UID of interest\n"
   ]
  },
  {
   "cell_type": "markdown",
   "metadata": {},
   "source": [
    "### Searching for datasets\n",
    "The ‘search_datasets’ method allows for searching of datasets, and returns a python list of ‘Dataset’ objects that match the search criteria . Currently, only searching text that matches exactly with the title of existing datasets in the platform is supported.\n"
   ]
  },
  {
   "cell_type": "code",
   "execution_count": null,
   "metadata": {},
   "outputs": [],
   "source": [
    "datasets = querier.search_datasets(query=‘breast’)"
   ]
  },
  {
   "cell_type": "markdown",
   "metadata": {},
   "source": [
    "### Accessing a specific dataset by its identifier\n",
    "If the UID of a dataset has already been identified, the ‘get_dataset’ method can be used to obtain its ‘Dataset’ object."
   ]
  },
  {
   "cell_type": "code",
   "execution_count": null,
   "metadata": {},
   "outputs": [],
   "source": [
    "dataset = querier.get_dataset(103)"
   ]
  },
  {
   "cell_type": "markdown",
   "metadata": {},
   "source": [
    "### Accessing a dataset’s description\n",
    "A ‘Dataset_description’ object  can be retrieved using the ‘get_dataset_description’ method."
   ]
  },
  {
   "cell_type": "code",
   "execution_count": null,
   "metadata": {},
   "outputs": [],
   "source": [
    "dataset_description = dataset.get_dataset_description()"
   ]
  },
  {
   "cell_type": "markdown",
   "metadata": {},
   "source": [
    "### Listing subjects in a dataset\n",
    "A ‘Subjects’ object  can be retrieved using the ‘get_subjects’ method."
   ]
  },
  {
   "cell_type": "code",
   "execution_count": null,
   "metadata": {},
   "outputs": [],
   "source": [
    "subjects = dataset.get_subjects()"
   ]
  }
 ],
 "metadata": {
  "kernelspec": {
   "display_name": "venv",
   "language": "python",
   "name": "python3"
  },
  "language_info": {
   "codemirror_mode": {
    "name": "ipython",
    "version": 3
   },
   "file_extension": ".py",
   "mimetype": "text/x-python",
   "name": "python",
   "nbconvert_exporter": "python",
   "pygments_lexer": "ipython3",
   "version": "3.9.13"
  },
  "orig_nbformat": 4
 },
 "nbformat": 4,
 "nbformat_minor": 2
}
