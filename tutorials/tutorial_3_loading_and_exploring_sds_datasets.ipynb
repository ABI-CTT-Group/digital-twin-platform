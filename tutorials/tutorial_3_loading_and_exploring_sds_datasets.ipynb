{
 "cells": [
  {
   "cell_type": "markdown",
   "metadata": {},
   "source": [
    "# Tutorial 3: Loading and exploring SDS datasets using sparc-me\n",
    "\n",
    "## Introduction\n",
    "This tutorial shows how to load existing datasets that are stored in the SPARC Data Structure (SDS) format using the [sparc-me python tool](https://github.com/SPARC-FAIR-Codeathon/sparc-me).\n",
    "\n",
    "## Definitions\n",
    "- Element - The description of a metadata element is described in the SDS Schema.\n",
    "- Value - The value of a metadata element in a specific dataset.\n",
    "- Metadata - A group of field/value pairs that are used to describe data.\n",
    "- Schema - Provides a description of the metadata elements that are used to describe a dataset.\n",
    "\n",
    "## Learning outcomes\n",
    "In this tutorial, you will learn how to:\n",
    "- load an existing SDS dataset (v2.0.0) that is stored on your local file system.\n",
    "- explore SDS metadata elements.\n",
    "- retrieve metadata element values from a SDS dataset.\n",
    "\n",
    "## Getting access to an example dataset\n",
    "We will use the dataset that was downloaded as part of Tutorial 2 for this tutorial. Please run through Tutorial 2 to download the dataset. Alternatively, you can download it from XXX. \n",
    "\n",
    "## Loading a dataset\n",
    "We will use `sparc-me`'s `Dataset` class to load the dataset and return an object."
   ]
  },
  {
   "cell_type": "code",
   "execution_count": null,
   "metadata": {},
   "outputs": [],
   "source": [
    "import sparc_me as sm\n",
    "\n",
    "dataset = sm.Dataset()\n",
    "dataset.load('/path/to/sds_dataset/')"
   ]
  },
  {
   "cell_type": "markdown",
   "metadata": {},
   "source": [
    "## Exploring a dataset's metadata\n",
    "We can list the available metadata files within the dataset that we loaded as follows."
   ]
  },
  {
   "cell_type": "code",
   "execution_count": null,
   "metadata": {},
   "outputs": [],
   "source": [
    "metadata_files = dataset.list_metadata_files()"
   ]
  },
  {
   "cell_type": "markdown",
   "metadata": {},
   "source": [
    "We can then list all metadata elements wihin a metadata file, for example, within the \"dataset_description\" file, as follows."
   ]
  },
  {
   "cell_type": "code",
   "execution_count": null,
   "metadata": {},
   "outputs": [],
   "source": [
    "metadata_elements = dataset.list_elements('dataset_description')"
   ]
  },
  {
   "cell_type": "markdown",
   "metadata": {},
   "source": [
    "### Exploring metadata elements\n",
    "You can find out more information about specific metadata elements by looking at the SDS documentation. Alternatively, you can programmatically access this information using sparc-me's schema methods."
   ]
  },
  {
   "cell_type": "code",
   "execution_count": null,
   "metadata": {},
   "outputs": [],
   "source": [
    "dataset_description_schema = sm.Schema.get_schema('dataset_description')\n",
    "dataset_description_schema.get('version')"
   ]
  },
  {
   "cell_type": "markdown",
   "metadata": {},
   "source": [
    "## Accessing a dataset's metadata element values\n",
    "We can access values of metadata elements (e.g. 'Contributor role') in a specific metadata file (e.g. ('Dataset description') as follows."
   ]
  },
  {
   "cell_type": "code",
   "execution_count": null,
   "metadata": {},
   "outputs": [],
   "source": [
    "# Create a metadata object (dd, short for dataset_description) for the metadata file of interest.\n",
    "dd = dataset.get_metadata(metadata_file='dataset_description')\n",
    "\n",
    "# Use the metadata object's 'get_values' Python method to get the values for the metadata element of interest.\n",
    "dd.get_values(element_name='Contributor role')"
   ]
  },
  {
   "cell_type": "markdown",
   "metadata": {},
   "source": [
    "## Feedback\n",
    "Once you have completed this tutorial, please complete [this survey](https://docs.google.com/forms/d/e/1FAIpQLSe-EsVz6ahz2FXFy906AZh68i50jRYnt3hQe-loc-1DaFWoFQ/viewform?usp=sf_link), which will allow us to improve this and future tutorials.\n",
    "\n",
    "# Next steps\n",
    "The [next tutorial](https://github.com/ABI-CTT-Group/digitaltwins-api/blob/main/tutorials/tutorial_4_creating_sds_datasets.ipynb) will show how to create your own SDS dataset using the sparc-me Python tool."
   ]
  }
 ],
 "metadata": {
  "kernelspec": {
   "display_name": "Python 3 (ipykernel)",
   "language": "python",
   "name": "python3"
  },
  "language_info": {
   "codemirror_mode": {
    "name": "ipython",
    "version": 3
   },
   "file_extension": ".py",
   "mimetype": "text/x-python",
   "name": "python",
   "nbconvert_exporter": "python",
   "pygments_lexer": "ipython3",
   "version": "3.9.7"
  }
 },
 "nbformat": 4,
 "nbformat_minor": 2
}